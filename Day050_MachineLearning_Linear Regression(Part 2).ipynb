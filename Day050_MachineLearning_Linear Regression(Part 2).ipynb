{
 "cells": [
  {
   "cell_type": "markdown",
   "id": "5b3782b1-7264-413e-9419-22da9422c2bb",
   "metadata": {},
   "source": [
    "### Day 50 – Linear Regression (Part 2)\n",
    "* Multiple Linear Regression (more than 1 feature)\n",
    "* Evaluation metrics: R², Adjusted R², MSE, RMSE\n",
    "* Python practice with dataset (house prices, salaries, etc.)"
   ]
  },
  {
   "cell_type": "markdown",
   "id": "01cad2c3-4ec4-4650-b773-2ac4ddd94c67",
   "metadata": {},
   "source": [
    "### Multiple Linear Regression (MLR)?\n",
    "In Simple Linear Regression, we had:\n",
    "y=mx+c\n",
    "where only one independent variable (x) predicts the dependent variable (y).\n",
    "\n",
    "Multiple Linear Regression, we use two or more independent variables to predict the outcome:\n",
    "\n",
    "y=b0​+b1​x1​+b2​x2​+...+bn​xn​\n",
    "\n",
    "y = dependent variable (what we want to predict, e.g., house price)\n",
    "\n",
    "x1,x2 are independent variable\n",
    "\n",
    "b1,b2,..bn = intercept\n",
    "Assumptions of Multiple Linear Regression\n",
    "\n",
    "Linearity – Relationship between predictors and target is linear.\n",
    "\n",
    "No multicollinearity – Independent variables should not be highly correlated with each other.\n",
    "\n",
    "Homoscedasticity – Constant variance of residuals (errors).\n",
    "\n",
    "Normality of residuals – Errors should be normally distributed.\n",
    "\n"
   ]
  },
  {
   "cell_type": "code",
   "execution_count": 11,
   "id": "b419f1e4-dd14-4701-9f87-3d24418772ca",
   "metadata": {},
   "outputs": [
    {
     "name": "stdout",
     "output_type": "stream",
     "text": [
      "coefficient is : [ 2.00000000e+02 -9.46891927e-11 -1.67096763e-11]\n",
      "Intercept is : 100000.00000000017\n",
      "Predicted Price is :  [540000.]\n"
     ]
    },
    {
     "name": "stderr",
     "output_type": "stream",
     "text": [
      "/opt/anaconda3/lib/python3.12/site-packages/sklearn/base.py:493: UserWarning: X does not have valid feature names, but LinearRegression was fitted with feature names\n",
      "  warnings.warn(\n"
     ]
    }
   ],
   "source": [
    "import pandas as pd\n",
    "from sklearn.linear_model import LinearRegression\n",
    "data={\n",
    "    'size' : [1000,1500,2000,2500,3000],\n",
    "    'bedrooms':[2,3,3,4,5],\n",
    "    'age':[10,5,8,4,2],\n",
    "    'price':[300000, 400000, 500000, 600000, 700000]\n",
    "}\n",
    "df = pd.DataFrame(data)\n",
    "X = df[['size','bedrooms','age']]\n",
    "y = df['price']\n",
    "\n",
    "model = LinearRegression()\n",
    "model.fit(X,y)\n",
    "\n",
    "print(\"coefficient is :\",model.coef_)\n",
    "print(\"Intercept is :\",model.intercept_)\n",
    "\n",
    "predicted_price = model.predict([[2200,4,3]])\n",
    "print(\"Predicted Price is : \",predicted_price)\n"
   ]
  },
  {
   "cell_type": "markdown",
   "id": "ded43f4c-a65b-453b-9113-a42879cd051c",
   "metadata": {},
   "source": [
    "### R² (Coefficient of Determination)"
   ]
  },
  {
   "cell_type": "markdown",
   "id": "292ec5dd-13ba-4b12-bb01-54468d47a7a6",
   "metadata": {},
   "source": [
    "R2 = 1 - SS(res)/SS(tot)\n",
    "SS\n",
    "SS(res) = sum of squared residuals (errors),\n",
    "SS(tot) = total variance in data.\n",
    "Meaning:\n",
    "“What fraction of the variation in y is explained by the model.”\n",
    "R2 =0: Model explains nothing.\n",
    "R2=1: Model explains everything (perfect fit)."
   ]
  },
  {
   "cell_type": "markdown",
   "id": "5a43ce07-569d-4e69-bee0-de6736f50097",
   "metadata": {},
   "source": [
    "### 2.Adjusted R²\n",
    "\n",
    "Problem: R² always increases when you add more features—even if they are useless.\n",
    "\n",
    "Solution: Adjusted R² penalizes unnecessary features."
   ]
  },
  {
   "cell_type": "markdown",
   "id": "4212897e-8399-49f0-8680-880c57f5152b",
   "metadata": {},
   "source": [
    "### 3. MSE (Mean Squared Error)\n",
    "Meaning: Average of squared differences between actual and predicted values."
   ]
  },
  {
   "cell_type": "markdown",
   "id": "8285dc36-33df-4e87-9eb5-0bcabe888787",
   "metadata": {},
   "source": [
    "### 4. RMSE (Root Mean Squared Error)\n",
    "Same as MSE but in the same units as y (e.g., rupees for house price)."
   ]
  },
  {
   "cell_type": "code",
   "execution_count": 14,
   "id": "7c07fc35-eec4-4eb6-b94b-fa86fe462918",
   "metadata": {},
   "outputs": [
    {
     "name": "stdout",
     "output_type": "stream",
     "text": [
      "The history saving thread hit an unexpected error (OperationalError('attempt to write a readonly database')).History will not be written to the database.\n",
      "R²: 1.0\n",
      "Adjusted R²: 1.0\n",
      "MSE: 1.2874900798265365e-20\n",
      "RMSE: 1.1346762004318837e-10\n"
     ]
    }
   ],
   "source": [
    "from sklearn.metrics import r2_score, mean_squared_error\n",
    "import numpy as np\n",
    "\n",
    "# Predictions\n",
    "y_pred = model.predict(X)\n",
    "\n",
    "# R²\n",
    "r2 = r2_score(y, y_pred)\n",
    "\n",
    "# Adjusted R²\n",
    "n = X.shape[0]   # number of rows\n",
    "p = X.shape[1]   # number of predictors\n",
    "adj_r2 = 1 - (1-r2)*(n-1)/(n-p-1)\n",
    "\n",
    "# MSE & RMSE\n",
    "mse = mean_squared_error(y, y_pred)\n",
    "rmse = np.sqrt(mse)\n",
    "\n",
    "print(\"R²:\", r2)\n",
    "print(\"Adjusted R²:\", adj_r2)\n",
    "print(\"MSE:\", mse)\n",
    "print(\"RMSE:\", rmse)\n"
   ]
  },
  {
   "cell_type": "code",
   "execution_count": null,
   "id": "23e4e699-937d-46c5-a08f-03b2dac762ba",
   "metadata": {},
   "outputs": [],
   "source": []
  }
 ],
 "metadata": {
  "kernelspec": {
   "display_name": "Python [conda env:base] *",
   "language": "python",
   "name": "conda-base-py"
  },
  "language_info": {
   "codemirror_mode": {
    "name": "ipython",
    "version": 3
   },
   "file_extension": ".py",
   "mimetype": "text/x-python",
   "name": "python",
   "nbconvert_exporter": "python",
   "pygments_lexer": "ipython3",
   "version": "3.12.7"
  }
 },
 "nbformat": 4,
 "nbformat_minor": 5
}
