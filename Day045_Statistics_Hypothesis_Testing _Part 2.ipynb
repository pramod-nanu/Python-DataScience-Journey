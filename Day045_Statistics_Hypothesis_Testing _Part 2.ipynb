{
 "cells": [
  {
   "cell_type": "markdown",
   "id": "37749513-82f0-44c8-b93e-41c96cd73c77",
   "metadata": {},
   "source": [
    "### Hypothesis Testing Part 2\n"
   ]
  },
  {
   "cell_type": "markdown",
   "id": "389ec4f4-f6df-4424-ae3c-55533d84cdf2",
   "metadata": {},
   "source": [
    "### : t-test (Student’s t-test)\n",
    "\n",
    "👉 The t-test is used when the sample size is small (n < 30) OR the population standard deviation (σ) is unknown.\n",
    "It compares means.\n",
    "\n",
    "Types of t-tests:\n",
    "\n",
    "One-sample t-test\n",
    "\n",
    "Checks if the mean of a sample is significantly different from a known/population mean.\n",
    "\n",
    "Example: A factory claims chips bags contain 100g of chips. We take a sample of 20 bags and test if the mean weight differs from 100g.\n",
    "\n",
    "Two-sample t-test (independent samples)\n",
    "\n",
    "Compares means of two independent groups.\n",
    "\n",
    "Example: Compare average marks of Class A vs Class B.\n",
    "\n",
    "Paired t-test (dependent samples)\n",
    "\n",
    "Compares means of the same group at two different times.\n",
    "\n",
    "Example: Test scores of students before and after coaching."
   ]
  },
  {
   "cell_type": "markdown",
   "id": "6b346ba3-1435-477c-9786-f7932588a262",
   "metadata": {},
   "source": [
    "### Z-Test Overview\n",
    "\n",
    "A Z-test is another statistical test (like the t-test), but it’s mainly used when:\n",
    "\n",
    "Population standard deviation (σ) is known\n",
    "\n",
    "Sample size is large (n > 30) (Central Limit Theorem applies)\n",
    "\n",
    "If σ is unknown and n is small → we usually use a t-test instead.\n",
    "\n",
    "Types of Z-Tests\n",
    "\n",
    "One-sample Z-test – compares sample mean to population mean.\n",
    "\n",
    "Two-sample Z-test – compares two sample means.\n",
    "\n",
    "Proportion Z-test – compares proportions (e.g., pass rate, click rate)."
   ]
  },
  {
   "cell_type": "code",
   "execution_count": 1,
   "id": "bdd5955b-60f5-4b38-a072-282a41616702",
   "metadata": {},
   "outputs": [
    {
     "name": "stdout",
     "output_type": "stream",
     "text": [
      "Z = 2.331\n",
      "p-value = 0.0197\n"
     ]
    }
   ],
   "source": [
    "import numpy as np\n",
    "from statsmodels.stats.weightstats import ztest\n",
    "\n",
    "# Two samples (normally you'd have actual data, here we'll simulate)\n",
    "cityA = np.random.normal(120000, 15000, 50)\n",
    "cityB = np.random.normal(115000, 18000, 60)\n",
    "\n",
    "z_stat, p_val = ztest(cityA, cityB)\n",
    "\n",
    "print(\"Z =\", round(z_stat, 3))\n",
    "print(\"p-value =\", round(p_val, 4))\n"
   ]
  },
  {
   "cell_type": "markdown",
   "id": "ed66ced0-6d5b-4ed5-bad1-fbb0739dc342",
   "metadata": {},
   "source": [
    "### Chi-Square in Simple Words\n",
    "\n",
    "Think of it like this:\n",
    "\n",
    "You have some observed results (what actually happened).\n",
    "\n",
    "You also have some expected results (what you thought should happen if there was no bias).\n",
    "\n",
    "The Chi-Square test checks: “Are the differences between observed and expected results just by chance, or are they too big to be random?”"
   ]
  },
  {
   "cell_type": "markdown",
   "id": "92b22089-32b1-400e-ac90-3324a584e1f7",
   "metadata": {},
   "source": [
    "### Example 1: Goodness of Fit (Fair Dice 🎲)\n",
    "\n",
    "Suppose you roll a die 60 times.\n",
    "\n",
    "If the die is fair, each number (1–6) should appear 10 times (expected).\n",
    "\n",
    "But in reality (observed), you got:\n",
    "\n",
    "[8, 9, 11, 10, 12, 10]\n",
    "\n",
    "Now, Chi-Square test will compare observed vs expected.\n",
    "If the difference is small → die is fair.\n",
    "If the difference is big → die is biased.\n",
    "\n",
    "### Example 2: Test of Independence (Tea vs Coffee ☕🍵)\n",
    "\n",
    "Suppose you survey 100 people:\n",
    "\n",
    "\tTea\tCoffee\n",
    "Male\t20\t30\n",
    "Female\t25\t25\n",
    "\n",
    "Question: Is beverage choice independent of gender, or related?\n",
    "Chi-Square test checks if the difference between males & females is just random or if there’s a real pattern.\n",
    "\n",
    "👉 In short:\n",
    "\n",
    "Goodness of Fit → Does one categorical variable match expected proportions?\n",
    "\n",
    "Independence Test → Are two categorical variables related?"
   ]
  },
  {
   "cell_type": "code",
   "execution_count": 3,
   "id": "0cfa161d-e563-47e7-b4d7-92b64fa419ca",
   "metadata": {},
   "outputs": [
    {
     "name": "stdout",
     "output_type": "stream",
     "text": [
      "Chi2 Statistic: 1.0\n",
      "p-value: 0.9625657732472964\n",
      "✅ Fail to reject H0 → The die is fair.\n"
     ]
    }
   ],
   "source": [
    "### ✅ Example 1: Goodness of Fit (Dice 🎲)\n",
    "import scipy.stats as stats\n",
    "\n",
    "# Observed results from dice roll\n",
    "observed = [8, 9, 11, 10, 12, 10]\n",
    "\n",
    "# Expected results (fair die → each face should appear 10 times)\n",
    "expected = [10, 10, 10, 10, 10, 10]\n",
    "\n",
    "# Chi-Square Goodness of Fit\n",
    "chi2_stat, p_val = stats.chisquare(f_obs=observed, f_exp=expected)\n",
    "\n",
    "print(\"Chi2 Statistic:\", chi2_stat)\n",
    "print(\"p-value:\", p_val)\n",
    "\n",
    "if p_val > 0.05:\n",
    "    print(\"✅ Fail to reject H0 → The die is fair.\")\n",
    "else:\n",
    "    print(\"❌ Reject H0 → The die is biased.\")\n"
   ]
  },
  {
   "cell_type": "code",
   "execution_count": 4,
   "id": "2ff38c0f-6df9-4f08-b2a0-046cfbcdbefb",
   "metadata": {},
   "outputs": [
    {
     "name": "stdout",
     "output_type": "stream",
     "text": [
      "Chi2 Statistic: 15.041666666666668\n",
      "Degrees of Freedom: 1\n",
      "Expected Frequencies:\n",
      " [[20. 30.]\n",
      " [20. 30.]]\n",
      "p-value: 0.00010516355403363098\n",
      "❌ Reject H0 → Chocolate liking depends on gender.\n"
     ]
    }
   ],
   "source": [
    "### ✅ Example 2: Test of Independence (Chocolate Preference 🍫)\n",
    "import numpy as np\n",
    "import scipy.stats as stats\n",
    "\n",
    "# Observed contingency table\n",
    "# Rows = Gender (Male, Female)\n",
    "# Cols = Like, Don't Like\n",
    "observed = np.array([[30, 20],\n",
    "                     [10, 40]])\n",
    "\n",
    "# Chi-Square Test of Independence\n",
    "chi2_stat, p_val, dof, expected = stats.chi2_contingency(observed)\n",
    "\n",
    "print(\"Chi2 Statistic:\", chi2_stat)\n",
    "print(\"Degrees of Freedom:\", dof)\n",
    "print(\"Expected Frequencies:\\n\", expected)\n",
    "print(\"p-value:\", p_val)\n",
    "\n",
    "if p_val > 0.05:\n",
    "    print(\"✅ Fail to reject H0 → Chocolate liking is independent of gender.\")\n",
    "else:\n",
    "    print(\"❌ Reject H0 → Chocolate liking depends on gender.\")\n"
   ]
  },
  {
   "cell_type": "code",
   "execution_count": 6,
   "id": "c2fb2382-98da-42d9-8a1a-516576161938",
   "metadata": {},
   "outputs": [
    {
     "name": "stdout",
     "output_type": "stream",
     "text": [
      "Contingency Table:\n",
      " survived    0    1\n",
      "sex               \n",
      "female     81  233\n",
      "male      468  109\n",
      "\n",
      "Chi2 Statistic: 260.71702016732104\n",
      "Degrees of Freedom: 1\n",
      "Expected Frequencies:\n",
      " [[193.47474747 120.52525253]\n",
      " [355.52525253 221.47474747]]\n",
      "p-value: 1.197357062775565e-58\n",
      "\n",
      "❌ Reject H0 → Survival depends on gender.\n"
     ]
    }
   ],
   "source": [
    "### Example 3: Titanic Dataset (Survival vs Gender)\n",
    "import seaborn as sns\n",
    "import scipy.stats as stats\n",
    "import pandas as pd\n",
    "\n",
    "# Load Titanic dataset from seaborn\n",
    "titanic = sns.load_dataset(\"titanic\")\n",
    "\n",
    "# Create a contingency table (crosstab)\n",
    "contingency_table = pd.crosstab(titanic['sex'], titanic['survived'])\n",
    "\n",
    "print(\"Contingency Table:\\n\", contingency_table)\n",
    "\n",
    "# Chi-Square Test of Independence\n",
    "chi2_stat, p_val, dof, expected = stats.chi2_contingency(contingency_table)\n",
    "\n",
    "print(\"\\nChi2 Statistic:\", chi2_stat)\n",
    "print(\"Degrees of Freedom:\", dof)\n",
    "print(\"Expected Frequencies:\\n\", expected)\n",
    "print(\"p-value:\", p_val)\n",
    "\n",
    "if p_val > 0.05:\n",
    "    print(\"\\n✅ Fail to reject H0 → Survival is independent of gender.\")\n",
    "else:\n",
    "    print(\"\\n❌ Reject H0 → Survival depends on gender.\")\n"
   ]
  },
  {
   "cell_type": "code",
   "execution_count": null,
   "id": "4d5bbec2-0a58-4fcc-aa17-7471884e18b9",
   "metadata": {},
   "outputs": [],
   "source": []
  }
 ],
 "metadata": {
  "kernelspec": {
   "display_name": "Python [conda env:base] *",
   "language": "python",
   "name": "conda-base-py"
  },
  "language_info": {
   "codemirror_mode": {
    "name": "ipython",
    "version": 3
   },
   "file_extension": ".py",
   "mimetype": "text/x-python",
   "name": "python",
   "nbconvert_exporter": "python",
   "pygments_lexer": "ipython3",
   "version": "3.12.7"
  }
 },
 "nbformat": 4,
 "nbformat_minor": 5
}
