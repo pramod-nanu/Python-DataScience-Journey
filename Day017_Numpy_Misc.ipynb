{
 "cells": [
  {
   "cell_type": "markdown",
   "id": "c4dcf96d-5c89-4bb8-bbf0-d5e680594680",
   "metadata": {},
   "source": [
    "### Miscellenous\n"
   ]
  },
  {
   "cell_type": "code",
   "execution_count": 2,
   "id": "6cb7728a-02c6-4e54-93f4-27fa8e07e896",
   "metadata": {},
   "outputs": [],
   "source": [
    "#np.split(), np.array_split()"
   ]
  },
  {
   "cell_type": "code",
   "execution_count": 9,
   "id": "670f998b-dfac-4d44-b98b-06a5f379ad41",
   "metadata": {},
   "outputs": [
    {
     "name": "stdout",
     "output_type": "stream",
     "text": [
      "[array([1, 2]), array([3, 4]), array([5, 6])]\n",
      "[array([6, 7]), array([8, 9]), array([10])]\n"
     ]
    }
   ],
   "source": [
    "import numpy as np\n",
    "a = np.array([1,2,3,4,5,6])\n",
    "b = np.array([6,7,8,9,10])\n",
    "print(np.split(a,3))\n",
    "print(np.array_split(b,3))"
   ]
  },
  {
   "cell_type": "code",
   "execution_count": 19,
   "id": "dec6146d-bdab-450a-a642-59075303a861",
   "metadata": {},
   "outputs": [
    {
     "name": "stdout",
     "output_type": "stream",
     "text": [
      "[  52   30   56   75    1   51 6457]\n",
      "[   1   30   51   52   56   75 6457]\n",
      "[  52   30   56   75    1   51 6457]\n",
      "[4 1 5 0 2 3 6]\n",
      "[   1   30   51   52   56   75 6457]\n"
     ]
    }
   ],
   "source": [
    "### Sorting Arrays\tnp.sort(), np.argsort()\n",
    "arr = np.array([52,30,56,75,1,51,6457])\n",
    "sorted = np.sort(arr)\n",
    "print(arr)\n",
    "print(sorted)\n",
    "print(arr)\n",
    "indices = np.argsort(arr)\n",
    "print(indices)\n",
    "print(arr[indices])"
   ]
  },
  {
   "cell_type": "code",
   "execution_count": 23,
   "id": "9630acaf-115d-481a-a3b3-92c157718e14",
   "metadata": {},
   "outputs": [
    {
     "name": "stdout",
     "output_type": "stream",
     "text": [
      "[[ 3  1 10]\n",
      " [ 9  7  8]]\n",
      "[[ 1  3 10]\n",
      " [ 7  8  9]]\n",
      "[[ 3  1  8]\n",
      " [ 9  7 10]]\n"
     ]
    }
   ],
   "source": [
    "# 2D Array Sorting (Row-wise or Column-wise)\n",
    "arr2d = np.array([[3, 1, 10], [9, 7, 8]])\n",
    "sorted_rows = np.sort(arr2d, axis=1)\n",
    "print(arr2d)\n",
    "print(sorted_rows)\n",
    "sorted_columns = np.sort(arr2d,axis=0)\n",
    "print(sorted_columns)\n"
   ]
  },
  {
   "cell_type": "code",
   "execution_count": 33,
   "id": "254d8d5a-d7fb-41ef-a676-f6cdabc7c7b5",
   "metadata": {},
   "outputs": [
    {
     "name": "stdout",
     "output_type": "stream",
     "text": [
      "[1 2 3 4 7]\n",
      "[3 3 4 3 2]\n"
     ]
    }
   ],
   "source": [
    "# 5. Unique Element np.unique() with return_counts=True\n",
    "a = np.array([1,2,3,4,4,3,2,1,4,3,2,3,7,1,7])\n",
    "unique,counts = np.unique(a,return_counts = True)\n",
    "print(unique)\n",
    "print(counts)\n"
   ]
  },
  {
   "cell_type": "markdown",
   "id": "8b84b655-9c5c-4ca2-a88f-cfad0b9e12ec",
   "metadata": {},
   "source": [
    "### NumPy Math Ops + Matrix Math"
   ]
  },
  {
   "cell_type": "code",
   "execution_count": 35,
   "id": "09b017f0-2c74-449c-90c0-c9c0ad390041",
   "metadata": {},
   "outputs": [],
   "source": [
    "# Element-wise Math Operations\n",
    "# np.add(), np.subtract(), np.multiply(), np.divide()\n",
    "# Power: np.power()  , Modulo: np.mod()"
   ]
  },
  {
   "cell_type": "code",
   "execution_count": 49,
   "id": "4f9f2251-0651-4a2e-a06d-1cdc48b90111",
   "metadata": {},
   "outputs": [
    {
     "name": "stdout",
     "output_type": "stream",
     "text": [
      "[11 22 33]\n",
      "[ 9 18 27]\n",
      "[20 40 60]\n",
      "[ 5. 10. 15.]\n",
      "[100 400 900]\n",
      "[1 2 0]\n"
     ]
    }
   ],
   "source": [
    "import numpy as np\n",
    "a = np.array([10, 20, 30])\n",
    "b = np.array([1, 2, 3])\n",
    "print(np.add(a,b))\n",
    "print(np.subtract(a,b))\n",
    "print(np.multiply(a,2))\n",
    "print(np.divide(a,2))\n",
    "print(np.power(a,2))\n",
    "print(np.mod(a,3))\n"
   ]
  },
  {
   "cell_type": "markdown",
   "id": "d88614ec-c314-4efe-a730-e08269a98a23",
   "metadata": {},
   "source": [
    "### Matrix Multiplication\n"
   ]
  },
  {
   "cell_type": "code",
   "execution_count": 56,
   "id": "ffbe48b3-793b-44ff-a068-71f8d938b3f1",
   "metadata": {},
   "outputs": [
    {
     "name": "stdout",
     "output_type": "stream",
     "text": [
      "Matrix Multiplication:\n",
      " 70\n",
      "70\n"
     ]
    }
   ],
   "source": [
    "# np.dot() or @ operator\n",
    "A = np.array([1, 2,3, 4])\n",
    "B = np.array([5, 6,7, 8])\n",
    "\n",
    "print(\"Matrix Multiplication:\\n\", np.dot(A, B))\n",
    "print(A @ B)\n"
   ]
  },
  {
   "cell_type": "code",
   "execution_count": 65,
   "id": "b414da57-44c8-4d5e-8050-15ad17f15931",
   "metadata": {},
   "outputs": [
    {
     "name": "stdout",
     "output_type": "stream",
     "text": [
      "[[19 22]\n",
      " [43 50]]\n",
      "[[19 43]\n",
      " [22 50]]\n"
     ]
    }
   ],
   "source": [
    "# np.matmul() – Matrix Multiplication\n",
    "a = np.array([[1, 2],\n",
    "              [3, 4]])\n",
    "b = np.array([[5, 6],\n",
    "              [7, 8]])\n",
    "matmul = np.matmul(a,b)\n",
    "print(matmul)\n",
    "print(matmul.T)\n"
   ]
  },
  {
   "cell_type": "code",
   "execution_count": 81,
   "id": "c5d8c7b9-844e-4dd0-8137-058158d536e0",
   "metadata": {},
   "outputs": [
    {
     "name": "stdout",
     "output_type": "stream",
     "text": [
      "Original Matrix:\n",
      " [[4 7]\n",
      " [2 6]]\n",
      "Inverse Matrix:\n",
      " [[ 0.6 -0.7]\n",
      " [-0.2  0.4]]\n",
      "A * A_inv:\n",
      " [[ 1.00000000e+00 -1.11022302e-16]\n",
      " [ 1.11022302e-16  1.00000000e+00]]\n",
      "Array b is : \n",
      " [[4 7]\n",
      " [2 6]]\n",
      "Inverted Array is :\n",
      " [[ 0.6 -0.7]\n",
      " [-0.2  0.4]]\n",
      "[[ 1.00000000e+00 -1.11022302e-16]\n",
      " [ 1.11022302e-16  1.00000000e+00]]\n"
     ]
    }
   ],
   "source": [
    "# import numpy as np\n",
    "A = np.array([[4, 7],\n",
    "              [2, 6]])\n",
    "A_inv = np.linalg.inv(A)\n",
    "print(\"Original Matrix:\\n\", A)\n",
    "print(\"Inverse Matrix:\\n\", A_inv)\n",
    "# Verifying: A × A⁻¹ ≈ Identity\n",
    "identity = np.dot(A, A_inv)\n",
    "print(\"A * A_inv:\\n\", identity)\n",
    "\n",
    "b = np.array([[4,7],[2,6]])\n",
    "print(\"Array b is : \\n\",b)\n",
    "b_inv = np.linalg.inv(b)\n",
    "print(\"Inverted Array is :\\n\",b_inv)\n",
    "identity = np.dot(b,b_inv)\n",
    "print(identity)\n"
   ]
  },
  {
   "cell_type": "code",
   "execution_count": null,
   "id": "25ef8787-f10b-4f53-adb0-1af2fd6d948b",
   "metadata": {},
   "outputs": [],
   "source": []
  }
 ],
 "metadata": {
  "kernelspec": {
   "display_name": "Python [conda env:base] *",
   "language": "python",
   "name": "conda-base-py"
  },
  "language_info": {
   "codemirror_mode": {
    "name": "ipython",
    "version": 3
   },
   "file_extension": ".py",
   "mimetype": "text/x-python",
   "name": "python",
   "nbconvert_exporter": "python",
   "pygments_lexer": "ipython3",
   "version": "3.12.7"
  }
 },
 "nbformat": 4,
 "nbformat_minor": 5
}
