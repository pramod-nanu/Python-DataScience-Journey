{
 "cells": [
  {
   "cell_type": "code",
   "execution_count": 3,
   "id": "f8d94af1-0dbb-4b1e-9877-29f743ceee34",
   "metadata": {},
   "outputs": [
    {
     "name": "stdout",
     "output_type": "stream",
     "text": [
      "Rahul\n",
      "Dahul\n"
     ]
    }
   ],
   "source": [
    "#List\n",
    "friends = ['Sagar','Rahul','Pratik',1,2,3]\n",
    "print(friends[1])\n",
    "friends[1] = 'Dahul'\n",
    "print(friends[1])\n",
    "#O/p\n",
    "# Rahul\n",
    "# Dahul"
   ]
  },
  {
   "cell_type": "code",
   "execution_count": 17,
   "id": "8b405519-7e01-40dd-be9b-8af8d89c9cf3",
   "metadata": {},
   "outputs": [
    {
     "name": "stdout",
     "output_type": "stream",
     "text": [
      "['Sagar', 'Rahul', 'Pratik']\n",
      "[]\n"
     ]
    }
   ],
   "source": [
    "# Slicing\n",
    "friends = ['Sagar','Rahul','Pratik',1,2,3]\n",
    "print(friends[0:3])\n",
    "print(friends[-4:1])\n",
    "#O/p\n",
    "# ['Sagar', 'Rahul', 'Pratik']\n",
    "# ['Pratik', 1, 2, 3]"
   ]
  },
  {
   "cell_type": "code",
   "execution_count": 59,
   "id": "1b47767a-0559-4b2d-ac1d-26896a0fa781",
   "metadata": {},
   "outputs": [
    {
     "name": "stdout",
     "output_type": "stream",
     "text": [
      "[1, 4, 12, 23, 43, 56, 70]\n",
      "[70, 56, 43, 23, 12, 4, 1]\n",
      "[70, 56, 43, 23, 12, 4, 1, 50]\n",
      "[70, 56, 100, 43, 23, 12, 4, 1, 50]\n",
      "[70, 56, 43, 23, 12, 4, 1, 50]\n",
      "[56, 43, 23, 12, 4, 1, 50]\n"
     ]
    }
   ],
   "source": [
    "# Sort,Reverse,Append,Insert\n",
    "l1 = [1,56,4,70,43,12,23]\n",
    "l1.sort()\n",
    "print(l1)\n",
    "l1.reverse()\n",
    "print(l1)\n",
    "l1.append(50)\n",
    "print(l1)\n",
    "l1.insert(2,100)\n",
    "print(l1)\n",
    "# Pop\n",
    "l1.pop(2)\n",
    "print(l1)\n",
    "# Remove\n",
    "l1.remove(70)\n",
    "print(l1)\n"
   ]
  },
  {
   "cell_type": "code",
   "execution_count": 58,
   "id": "9fca10d9-c386-4cf6-a338-3de8be906b3c",
   "metadata": {},
   "outputs": [
    {
     "name": "stdout",
     "output_type": "stream",
     "text": [
      "1\n",
      "()\n",
      "1\n",
      "(1,)\n",
      "3\n",
      "5\n",
      "()\n"
     ]
    }
   ],
   "source": [
    "#Tuple Can not modify values\n",
    "t = (1,5,78,1,45,67,1)\n",
    "print(t[0])\n",
    "# Declaration of Tuple\n",
    "t1 = ()\n",
    "print(t1)  # ()\n",
    "t2 = (1)\n",
    "print(t2)   # ()\n",
    "t3 = (1,)\n",
    "print(t3)  # (1,)\n",
    "# Methods\n",
    "print(t.count(1))\n",
    "print(t.index(67))\n",
    "t1 = ()\n",
    "print(t1)"
   ]
  },
  {
   "cell_type": "raw",
   "id": "17823cfb-951d-40f2-8fef-05d98b09c5c0",
   "metadata": {},
   "source": [
    "# Practice_1\n",
    "# Enter 7 fruits in list\n",
    "f1 = input(\"Enter fruit number 1 : \")\n",
    "f2 = input(\"Enter fruit number 2 : \")\n",
    "f3 = input(\"Enter fruit number 3 : \")\n",
    "f4 = input(\"Enter fruit number 4 : \")\n",
    "f5 = input(\"Enter fruit number 5 : \")\n",
    "f6 = input(\"Enter fruit number 6 : \")\n",
    "f7 = input(\"Enter fruit number 7 : \")\n",
    "myfruitList = [f1,f2,f3,f4,f5,f6,f7]\n",
    "print(myfruitList)"
   ]
  },
  {
   "cell_type": "code",
   "execution_count": 61,
   "id": "ea2b5c1f-2a1c-42a6-b0e3-2b115576c21f",
   "metadata": {},
   "outputs": [
    {
     "name": "stdin",
     "output_type": "stream",
     "text": [
      "Enter Marks 1 :  2\n",
      "Enter Marks 2 :  3\n",
      "Enter Marks 3 :  4\n",
      "Enter Marks 4 :  5\n",
      "Enter Marks 5 :  6\n",
      "Enter Marks 6 :  8\n",
      "Enter Marks 7 :  6\n"
     ]
    },
    {
     "name": "stdout",
     "output_type": "stream",
     "text": [
      "[2, 3, 4, 5, 6, 8, 6]\n",
      "[2, 3, 4, 5, 6, 6, 8]\n"
     ]
    }
   ],
   "source": [
    "# Sorting Marks\n",
    "marks1 = int(input(\"Enter Marks 1 : \"))\n",
    "marks2 = int(input(\"Enter Marks 2 : \"))\n",
    "marks3 = int(input(\"Enter Marks 3 : \"))\n",
    "marks4 = int(input(\"Enter Marks 4 : \"))\n",
    "marks5 = int(input(\"Enter Marks 5 : \"))\n",
    "marks6 = int(input(\"Enter Marks 6 : \"))\n",
    "marks7 = int(input(\"Enter Marks 7 : \"))\n",
    "marks = [marks1,marks2,marks3,marks4,marks5,marks6,marks7]\n",
    "print(marks)\n",
    "marks.sort()\n",
    "print(marks)"
   ]
  },
  {
   "cell_type": "code",
   "execution_count": 66,
   "id": "2f4dbea3-7af7-418e-a997-56250a2ede37",
   "metadata": {},
   "outputs": [
    {
     "name": "stdout",
     "output_type": "stream",
     "text": [
      "28\n",
      "9\n"
     ]
    }
   ],
   "source": [
    "# Sum of numbers in List\n",
    "num = [1,4,6,8,9]\n",
    "print(sum(num))\n",
    "print(max(num))"
   ]
  },
  {
   "cell_type": "code",
   "execution_count": 64,
   "id": "f9b2dc98-407d-4c8c-8ae9-20be5755f3ee",
   "metadata": {},
   "outputs": [
    {
     "name": "stdout",
     "output_type": "stream",
     "text": [
      "3\n"
     ]
    }
   ],
   "source": [
    "# Count number of Zeroes in Tuple\n",
    "t = (1,4,0,6,8,90,0,76,0)\n",
    "print(t.count(0))"
   ]
  },
  {
   "cell_type": "code",
   "execution_count": null,
   "id": "841032d8-6dd3-462d-aea6-94d23f70383b",
   "metadata": {},
   "outputs": [],
   "source": [
    "# Remove all duplicate elements in list\n",
    "num = [1,2,3,4,5,6,7]\n",
    "unique = []\n",
    "for item in num:\n",
    "    if item not in unique:\n",
    "        num.append(item)\n",
    "print(num)"
   ]
  },
  {
   "cell_type": "code",
   "execution_count": null,
   "id": "a129688c-9513-4625-bee8-cee37098d8f7",
   "metadata": {},
   "outputs": [],
   "source": []
  }
 ],
 "metadata": {
  "kernelspec": {
   "display_name": "Python [conda env:base] *",
   "language": "python",
   "name": "conda-base-py"
  },
  "language_info": {
   "codemirror_mode": {
    "name": "ipython",
    "version": 3
   },
   "file_extension": ".py",
   "mimetype": "text/x-python",
   "name": "python",
   "nbconvert_exporter": "python",
   "pygments_lexer": "ipython3",
   "version": "3.12.7"
  }
 },
 "nbformat": 4,
 "nbformat_minor": 5
}
