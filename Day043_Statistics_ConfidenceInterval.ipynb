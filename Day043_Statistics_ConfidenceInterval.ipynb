{
 "cells": [
  {
   "cell_type": "markdown",
   "id": "61f14900-a676-4076-934f-aa1c377485eb",
   "metadata": {},
   "source": [
    "### Confidence Interval"
   ]
  },
  {
   "cell_type": "markdown",
   "id": "d89cc1fb-1a8f-4a2d-a2de-1a2f47837648",
   "metadata": {},
   "source": [
    "Suppose we survey 100 people and find their average height = 170 cm.\n",
    "\n",
    "We don’t know the true average height of the whole population.\n",
    "\n",
    "A 95% confidence interval might be: [168, 172].\n",
    "\n",
    "Uncertainty measure – Shows how precise your estimate is.\n",
    "\n",
    "Better than just mean – Instead of saying average income = ₹50,000, CI allows: average income is between ₹48,000 and ₹52,000 (95% CI)."
   ]
  },
  {
   "cell_type": "markdown",
   "id": "1f20a03e-3f3e-448c-84c3-aaef8161c41f",
   "metadata": {},
   "source": [
    "General Formula for Confidence Interval (CI)\n",
    "  \n",
    "CI=\n",
    "x\n",
    "ˉ\n",
    "±(CriticalValue)×(StandardError)\n",
    "\n",
    "Where:\n",
    "\n",
    "𝑥\n",
    "ˉ\n",
    "x\n",
    "ˉ\n",
    " = sample mean\n",
    "\n",
    "Critical Value = depends on confidence level (like 95%) → uses Z or t\n",
    "\n",
    "Standard Error (SE) = 6/Sqrt(N)\n",
    "\t​\n",
    "\n",
    " (sample standard deviation ÷ √sample size)\n",
    "\n",
    " Z: When population standard deviation (σ) known OR n ≥ 30.\n",
    "\n",
    "t: When σ unknown AND n is small (< 30)."
   ]
  },
  {
   "cell_type": "code",
   "execution_count": 6,
   "id": "17a2b9b7-010c-45c7-9633-739db55f8ce3",
   "metadata": {},
   "outputs": [
    {
     "name": "stdout",
     "output_type": "stream",
     "text": [
      "2.063898561628021\n"
     ]
    }
   ],
   "source": [
    "### Python way to get t-value\n",
    "from scipy import stats\n",
    "confidence = 0.95\n",
    "df = 24\n",
    "alpha = 1-confidence\n",
    "t_critical = stats.t.ppf(1-alpha/2,df)\n",
    "print(t_critical)"
   ]
  },
  {
   "cell_type": "code",
   "execution_count": 7,
   "id": "6b7c11bb-8d82-4720-90d7-780cf660ed20",
   "metadata": {},
   "outputs": [
    {
     "name": "stdout",
     "output_type": "stream",
     "text": [
      "95% Confidence Interval: (165.87220287674396, 174.12779712325604)\n"
     ]
    }
   ],
   "source": [
    "from scipy import stats\n",
    "import numpy as np\n",
    "\n",
    "# Sample data\n",
    "mean = 170\n",
    "s = 10\n",
    "n = 25\n",
    "confidence = 0.95\n",
    "\n",
    "# Standard Error\n",
    "SE = s / np.sqrt(n)\n",
    "\n",
    "# CI using scipy shortcut\n",
    "ci = stats.t.interval(confidence, df=n-1, loc=mean, scale=SE)\n",
    "\n",
    "print(\"95% Confidence Interval:\", ci)\n"
   ]
  },
  {
   "cell_type": "code",
   "execution_count": null,
   "id": "c0f46607-7177-44c8-97f7-5654ede6fa83",
   "metadata": {},
   "outputs": [],
   "source": []
  }
 ],
 "metadata": {
  "kernelspec": {
   "display_name": "Python [conda env:base] *",
   "language": "python",
   "name": "conda-base-py"
  },
  "language_info": {
   "codemirror_mode": {
    "name": "ipython",
    "version": 3
   },
   "file_extension": ".py",
   "mimetype": "text/x-python",
   "name": "python",
   "nbconvert_exporter": "python",
   "pygments_lexer": "ipython3",
   "version": "3.12.7"
  }
 },
 "nbformat": 4,
 "nbformat_minor": 5
}
