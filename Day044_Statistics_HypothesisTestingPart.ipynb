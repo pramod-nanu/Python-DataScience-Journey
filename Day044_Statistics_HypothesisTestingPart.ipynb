{
 "cells": [
  {
   "cell_type": "markdown",
   "id": "cd0a8185-cfb7-4c39-beb3-5ca7ddf56600",
   "metadata": {},
   "source": [
    "### Hypothesis testing Part"
   ]
  },
  {
   "cell_type": "markdown",
   "id": "6a3d11c1-9652-4b49-b536-f1c47df6b70a",
   "metadata": {},
   "source": [
    "### Topic 1: Null vs Alternate Hypothesis\n",
    "\n",
    "In hypothesis testing, we always start with two competing statements:\n",
    "\n",
    "Null Hypothesis (H₀):\n",
    "\n",
    "\"No effect\", \"no difference\", \"status quo\".\n",
    "\n",
    "It assumes nothing special is happening.\n",
    "\n",
    "Example: A new drug has the same effect as the old one.\n",
    "\n",
    "Alternate Hypothesis (H₁ or Ha):\n",
    "\n",
    "The claim we want to test/prove.\n",
    "\n",
    "It assumes there is an effect or difference.\n",
    "\n",
    "Example: The new drug works better than the old one."
   ]
  },
  {
   "cell_type": "markdown",
   "id": "ff9f6d3b-b90e-4524-8fa5-c44c2f8f94e9",
   "metadata": {},
   "source": [
    "### Quick Reminder\n",
    "\n",
    "Type I Error (False Positive): Rejecting H₀ when it is actually true.\n",
    "→ \"We think something changed, but in reality, nothing changed.\"\n",
    "\n",
    "Type II Error (False Negative): Failing to reject H₀ when H₁ is actually true.\n",
    "→ \"We think nothing changed, but actually something did change.\"\n",
    "\n",
    "🔹 1. Medicine Example\n",
    "\n",
    "H₀: New medicine is NOT better than old medicine.\n",
    "\n",
    "H₁: New medicine IS better than old medicine.\n",
    "\n",
    "Type I Error: We conclude the new medicine works, but in reality, it doesn’t.\n",
    "👉 Patients may get no benefit or even harm.\n",
    "\n",
    "Type II Error: We conclude the new medicine doesn’t work, but in reality, it does.\n",
    "👉 Patients lose access to a better treatment."
   ]
  },
  {
   "cell_type": "markdown",
   "id": "b2c2e1bd-0ca3-4bee-b9f9-a88030350931",
   "metadata": {},
   "source": [
    "### Summary in Simple Words\n",
    "\n",
    "Type I Error = False Alarm 🚨\n",
    "\n",
    "Type II Error = Missed Opportunity 🤦"
   ]
  },
  {
   "cell_type": "markdown",
   "id": "d050d6ed-8834-4175-8298-e80eee903dc2",
   "metadata": {},
   "source": [
    "### One-tail vs Two-tail Test\n",
    "✅ One-tail Test\n",
    "\n",
    "We check if the effect is only in one direction (greater than OR less than).\n",
    "\n",
    "More powerful for detecting changes in a specific direction.\n",
    "\n",
    "✅ Two-tail Test\n",
    "\n",
    "We check if the effect is different in either direction (could be higher OR lower).\n",
    "\n",
    "More conservative because it tests both sides."
   ]
  },
  {
   "cell_type": "markdown",
   "id": "9b3a9243-a6ba-4a4a-bbe7-cd50eafab3a3",
   "metadata": {},
   "source": [
    "One-tail = Narrow focus (“I only care if this is better”).\n",
    "\n",
    "Two-tail = Open check (“I want to know if it’s different, good or bad”)."
   ]
  },
  {
   "cell_type": "markdown",
   "id": "54bf757a-ca48-463b-9ada-1d0523d90ab4",
   "metadata": {},
   "source": [
    "### P Value\n",
    "Think of p-value as a “surprise meter.”\n",
    "\n",
    "Imagine you assume something (that’s your Null Hypothesis, H₀).\n",
    "\n",
    "Then you collect data.\n",
    "\n",
    "Now you ask: “If my assumption (H₀) was really true, how surprising is this data?”\n",
    "\n",
    "👉 That surprise is measured by the p-value.\n",
    "\n",
    "🔹 Example 1: Coin Toss 🎲\n",
    "\n",
    "H₀: Coin is fair (50% heads).\n",
    "\n",
    "You toss 10 times and get 9 heads.\n",
    "\n",
    "👉 If the coin were really fair, the chance of getting 9 or more heads is very small.\n",
    "So, p-value will be small → we say: “This is too surprising if the coin were fair → probably biased.”\""
   ]
  },
  {
   "cell_type": "code",
   "execution_count": null,
   "id": "d43c37cf-36fe-41ae-b346-f0d9f0ce675f",
   "metadata": {},
   "outputs": [],
   "source": []
  }
 ],
 "metadata": {
  "kernelspec": {
   "display_name": "Python [conda env:base] *",
   "language": "python",
   "name": "conda-base-py"
  },
  "language_info": {
   "codemirror_mode": {
    "name": "ipython",
    "version": 3
   },
   "file_extension": ".py",
   "mimetype": "text/x-python",
   "name": "python",
   "nbconvert_exporter": "python",
   "pygments_lexer": "ipython3",
   "version": "3.12.7"
  }
 },
 "nbformat": 4,
 "nbformat_minor": 5
}
