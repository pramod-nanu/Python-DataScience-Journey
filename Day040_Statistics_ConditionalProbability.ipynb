{
 "cells": [
  {
   "cell_type": "markdown",
   "id": "a942cf81-70c0-45f6-a859-66206505ac7d",
   "metadata": {},
   "source": [
    "### Conditional Probability"
   ]
  },
  {
   "cell_type": "markdown",
   "id": "313fe94e-ebbc-44b9-8547-0af9897c0f43",
   "metadata": {},
   "source": [
    "Conditional probability is the probability of an event happening given that another event has already happened.\n",
    "\n",
    "Formula:\n",
    "\n",
    "P(A∣B)= P(A∩B) / P(B)\n",
    "​(provided P(B)>0)"
   ]
  },
  {
   "cell_type": "markdown",
   "id": "3ce0f364-22fb-434c-8ebb-090ebdc65079",
   "metadata": {},
   "source": [
    "Example 1: Cards\n",
    "\n",
    "A deck has 52 cards.\n",
    "\n",
    "Suppose we want the probability of picking a King, given that the card is a face card.\n",
    "\n",
    "👉 Step 1: Total face cards = 12 (Jack, Queen, King of each suit).\n",
    "👉 Step 2: Kings among face cards = 4.\n",
    "👉 Step 3:\n",
    "\n",
    "𝑃\n",
    "(\n",
    "King | Face card\n",
    ")\n",
    "=\n",
    "4\n",
    "12\n",
    "=\n",
    "1\n",
    "3\n",
    "P(King | Face card)=\n",
    "4/12 = 1/3\n"
   ]
  },
  {
   "cell_type": "markdown",
   "id": "7f7dbc70-a43f-426e-8df9-44771923a120",
   "metadata": {},
   "source": [
    "### Independent vs Dependent Events\n",
    "\n",
    "1. Independent Events\n",
    "\n",
    "Two events are independent if the outcome of one does not affect the other.\n",
    "\n",
    "👉 Formula:\n",
    "\n",
    "P(A∩B)=P(A)×P(B)\n",
    "Examples:\n",
    "\n",
    "Tossing 2 coins → probability of both heads.\n",
    "P(H1) = 1/2\n",
    "P(H2) = 1/2\n",
    "P(H1 | H2) = 1/2 * 1/2 =0.25 1/4\n"
   ]
  },
  {
   "cell_type": "markdown",
   "id": "a4f62c82-b058-4980-ae9a-91fe4d59c4e9",
   "metadata": {},
   "source": [
    "### Dependent Events\n",
    "\n",
    "Two events are dependent if the outcome of one changes the probability of the other.\n",
    "\n",
    "Drawing cards without replacement:\n",
    "\n",
    "Event A = drawing an Ace first.\n",
    "\n",
    "Event B = drawing another Ace second.\n",
    "\n",
    "Since the first card changes the deck, the second probability is different."
   ]
  },
  {
   "cell_type": "markdown",
   "id": "cd9fcf89-fd05-4b5a-8ba2-cc25cdff1354",
   "metadata": {},
   "source": [
    "### Bayes’ Theorem\n",
    "P(A∣B)= P(B∣A)×P(A) / P(B)\n",
    "\n",
    "Probability of A given B equals probability of B given A times probability of A, divided by probability of B.”\n",
    "\n",
    "P(A∣B)=P(B∣A)P(A) / P(B|A) * P(A) + P(B∣not A)P(not A)"
   ]
  },
  {
   "cell_type": "code",
   "execution_count": null,
   "id": "abe9cad7-308a-4f59-983a-f6f0392d854d",
   "metadata": {},
   "outputs": [],
   "source": []
  }
 ],
 "metadata": {
  "kernelspec": {
   "display_name": "Python [conda env:base] *",
   "language": "python",
   "name": "conda-base-py"
  },
  "language_info": {
   "codemirror_mode": {
    "name": "ipython",
    "version": 3
   },
   "file_extension": ".py",
   "mimetype": "text/x-python",
   "name": "python",
   "nbconvert_exporter": "python",
   "pygments_lexer": "ipython3",
   "version": "3.12.7"
  }
 },
 "nbformat": 4,
 "nbformat_minor": 5
}
