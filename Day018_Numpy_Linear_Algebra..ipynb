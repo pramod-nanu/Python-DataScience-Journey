{
 "cells": [
  {
   "cell_type": "markdown",
   "id": "a599fe19-d907-46b2-b80c-ac4793145ce2",
   "metadata": {},
   "source": [
    "### Day 18 – Linear Algebra in NumPy."
   ]
  },
  {
   "cell_type": "markdown",
   "id": "44366463-3103-4e29-86ca-d2cde0318cf0",
   "metadata": {},
   "source": [
    "### Determinant"
   ]
  },
  {
   "cell_type": "code",
   "execution_count": 5,
   "id": "c34b03be-f03f-439f-a556-ed25e5dd353b",
   "metadata": {},
   "outputs": [
    {
     "name": "stdout",
     "output_type": "stream",
     "text": [
      "Invertible Matrix\n"
     ]
    }
   ],
   "source": [
    "import numpy as np\n",
    "A = np.array([[4, 7], [2, 6]])\n",
    "value = np.linalg.det(A)\n",
    "if value != 0:\n",
    "    print(\"Invertible Matrix\")\n",
    "else:\n",
    "    print(\"Singular Matrix\")"
   ]
  },
  {
   "cell_type": "markdown",
   "id": "21f535aa-07db-4626-a0b2-e208549a0f91",
   "metadata": {},
   "source": [
    "### EigenValues and Eigenvectors"
   ]
  },
  {
   "cell_type": "code",
   "execution_count": 9,
   "id": "469d917c-10d3-447b-8996-dfaedb5f4e29",
   "metadata": {},
   "outputs": [
    {
     "name": "stdout",
     "output_type": "stream",
     "text": [
      "EigenValues are : \n",
      " [5. 2.]\n",
      "EigenVectors are : \n",
      " [[ 0.89442719 -0.70710678]\n",
      " [ 0.4472136   0.70710678]]\n"
     ]
    }
   ],
   "source": [
    "A = np.array([[4, 2],\n",
    "              [1, 3]])\n",
    "eigenvalues,eigenvectors = np.linalg.eig(A)\n",
    "print(\"EigenValues are : \\n\",eigenvalues)\n",
    "print(\"EigenVectors are : \\n\",eigenvectors)"
   ]
  },
  {
   "cell_type": "markdown",
   "id": "fb248402-a563-48d5-92ad-07ac841eb1f2",
   "metadata": {},
   "source": [
    "### np.linalg.solve() – Solve Linear System of Equations\n"
   ]
  },
  {
   "cell_type": "code",
   "execution_count": 10,
   "id": "6087b257-5da4-41f8-b1be-6f4c4f14f4b4",
   "metadata": {},
   "outputs": [
    {
     "name": "stdout",
     "output_type": "stream",
     "text": [
      "Solution is :  [1. 2.]\n"
     ]
    }
   ],
   "source": [
    "A = np.array([[2,3],[1,2]])\n",
    "B = np.array([8,5])\n",
    "print(\"Solution is : \",np.linalg.solve(A,B))"
   ]
  },
  {
   "cell_type": "code",
   "execution_count": 15,
   "id": "9218daae-58cd-4f83-8415-57eb5c1e6b47",
   "metadata": {},
   "outputs": [
    {
     "name": "stdout",
     "output_type": "stream",
     "text": [
      "Solution is :  [ 5.  3. -2.]\n"
     ]
    }
   ],
   "source": [
    "# problem 2\n",
    "# x + y + z = 6  \n",
    "# 2y + 5z = -4  \n",
    "# 2x + 5y - z = 27\n",
    "A = np.array([[1,1,1],[0,2,5],[2,5,-1]])\n",
    "B = np.array([6,-4,27])\n",
    "print(\"Solution is : \",np.linalg.solve(A,B))\n"
   ]
  },
  {
   "cell_type": "code",
   "execution_count": null,
   "id": "027621fc-d306-433d-a6e6-3b244b6aba12",
   "metadata": {},
   "outputs": [],
   "source": []
  }
 ],
 "metadata": {
  "kernelspec": {
   "display_name": "Python [conda env:base] *",
   "language": "python",
   "name": "conda-base-py"
  },
  "language_info": {
   "codemirror_mode": {
    "name": "ipython",
    "version": 3
   },
   "file_extension": ".py",
   "mimetype": "text/x-python",
   "name": "python",
   "nbconvert_exporter": "python",
   "pygments_lexer": "ipython3",
   "version": "3.12.7"
  }
 },
 "nbformat": 4,
 "nbformat_minor": 5
}
