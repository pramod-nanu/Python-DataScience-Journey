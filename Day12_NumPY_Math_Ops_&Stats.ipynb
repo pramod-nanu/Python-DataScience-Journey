{
 "cells": [
  {
   "cell_type": "code",
   "execution_count": 1,
   "id": "36832b89-b374-4b75-a4f1-6472645c0941",
   "metadata": {},
   "outputs": [],
   "source": [
    "import numpy as np"
   ]
  },
  {
   "cell_type": "markdown",
   "id": "8fb552fa-82e4-4b93-9da3-f002db3062b7",
   "metadata": {},
   "source": [
    "### Vectorized operations (+, -, *, /)"
   ]
  },
  {
   "cell_type": "code",
   "execution_count": 3,
   "id": "dd26694b-37e6-495e-9b3c-d2db5073caf3",
   "metadata": {},
   "outputs": [
    {
     "data": {
      "text/plain": [
       "array([ 7,  9, 11, 13, 15])"
      ]
     },
     "execution_count": 3,
     "metadata": {},
     "output_type": "execute_result"
    }
   ],
   "source": [
    "a = np.array([1,2,3,4,5])\n",
    "b = np.array([6,7,8,9,10])\n",
    "a+b"
   ]
  },
  {
   "cell_type": "code",
   "execution_count": 4,
   "id": "f3c6fb4d-b6f0-4f32-a4fd-12345e0d71af",
   "metadata": {},
   "outputs": [
    {
     "data": {
      "text/plain": [
       "array([-5, -5, -5, -5, -5])"
      ]
     },
     "execution_count": 4,
     "metadata": {},
     "output_type": "execute_result"
    }
   ],
   "source": [
    "a-b"
   ]
  },
  {
   "cell_type": "code",
   "execution_count": 5,
   "id": "9fbf8765-7712-4092-8cad-cd18c3898029",
   "metadata": {},
   "outputs": [
    {
     "data": {
      "text/plain": [
       "array([ 6, 14, 24, 36, 50])"
      ]
     },
     "execution_count": 5,
     "metadata": {},
     "output_type": "execute_result"
    }
   ],
   "source": [
    "a*b"
   ]
  },
  {
   "cell_type": "code",
   "execution_count": 6,
   "id": "8139e3a7-7d76-4e85-bbd5-44350d0cfb4c",
   "metadata": {},
   "outputs": [
    {
     "data": {
      "text/plain": [
       "array([0.16666667, 0.28571429, 0.375     , 0.44444444, 0.5       ])"
      ]
     },
     "execution_count": 6,
     "metadata": {},
     "output_type": "execute_result"
    }
   ],
   "source": [
    "a/b"
   ]
  },
  {
   "cell_type": "markdown",
   "id": "a7bfd59d-f71c-462a-a716-5673d1d25bc3",
   "metadata": {},
   "source": [
    "### Built-in functions : np.mean(), np.median(), np.std()"
   ]
  },
  {
   "cell_type": "code",
   "execution_count": 13,
   "id": "d593dabb-bc41-406c-9727-637f3fc7bea8",
   "metadata": {},
   "outputs": [],
   "source": [
    "a = np.array([1,2,23,4,54,6,7])"
   ]
  },
  {
   "cell_type": "code",
   "execution_count": 14,
   "id": "a6261d85-e3ba-4d4c-a2a1-272e7f17a8b6",
   "metadata": {},
   "outputs": [
    {
     "name": "stdout",
     "output_type": "stream",
     "text": [
      "13.857142857142858\n"
     ]
    }
   ],
   "source": [
    "print(np.mean(a))"
   ]
  },
  {
   "cell_type": "code",
   "execution_count": 15,
   "id": "e1b15962-9260-49cd-a096-f4c0fc86c574",
   "metadata": {},
   "outputs": [
    {
     "name": "stdout",
     "output_type": "stream",
     "text": [
      "6.0\n"
     ]
    }
   ],
   "source": [
    "print(np.median(a))"
   ]
  },
  {
   "cell_type": "code",
   "execution_count": 16,
   "id": "7ced77ce-5a03-40e7-8171-f2d41a59a6d8",
   "metadata": {},
   "outputs": [
    {
     "name": "stdout",
     "output_type": "stream",
     "text": [
      "17.75571192947354\n"
     ]
    }
   ],
   "source": [
    "print(np.std(a))"
   ]
  },
  {
   "cell_type": "markdown",
   "id": "df223a44-ffb0-4fb8-ae4d-4eb1692209f1",
   "metadata": {},
   "source": [
    "### Challenge:1"
   ]
  },
  {
   "cell_type": "markdown",
   "id": "beec23f0-540a-4097-87ed-5b9bde5315a2",
   "metadata": {},
   "source": [
    "###1\n",
    "Find the average score\n",
    "Find the median score, Find the standard deviation,Print a message:\n",
    "If std deviation < 5 → \"Scores are consistent\"\n",
    "Else → \"Scores vary a lot\"\n",
    "\n"
   ]
  },
  {
   "cell_type": "code",
   "execution_count": 21,
   "id": "aaca31a2-44cf-4091-b8da-4658606d7309",
   "metadata": {},
   "outputs": [
    {
     "name": "stdout",
     "output_type": "stream",
     "text": [
      "Avg score is :  81.0\n",
      "Median score is  81.0\n",
      "Std deviation is  9.447221813845593\n",
      "Scores vary a lot\n"
     ]
    }
   ],
   "source": [
    "scores = np.array([78, 82, 90, 88, 65, 70, 95, 80])\n",
    "print(\"Avg score is : \",np.mean(scores))\n",
    "print(\"Median score is \",np.median(scores))\n",
    "print(\"Std deviation is \",np.std(scores))\n",
    "if np.std(scores) > 5:\n",
    "    print(\"Scores vary a lot\")\n",
    "else:\n",
    "    print(\"Scores are consistent\")"
   ]
  },
  {
   "cell_type": "markdown",
   "id": "e7916cdc-30dd-4b9c-8aba-fed755bbd4d8",
   "metadata": {},
   "source": [
    "### 2\n",
    "Use the same scores = np.array([78, 82, 90, 88, 65, 70, 95, 80]) from the last program and:\n",
    "Print the min and max score, Print the index of the min and max value,\n",
    "Print the total sum of scores"
   ]
  },
  {
   "cell_type": "code",
   "execution_count": 28,
   "id": "a9dbf925-0d5c-48d6-a426-7653559db136",
   "metadata": {},
   "outputs": [
    {
     "name": "stdout",
     "output_type": "stream",
     "text": [
      "Maximum socre is : 95\n",
      "Minimum socre is : 65\n",
      "Index of max score is :  6\n",
      "Index of min socre is : 4\n",
      "Sum of all scores is : 648\n"
     ]
    }
   ],
   "source": [
    "scores = np.array([78, 82, 90, 88, 65, 70, 95, 80])\n",
    "print(\"Maximum socre is :\",max(scores))\n",
    "print(\"Minimum socre is :\",min(scores))\n",
    "print(\"Index of max score is : \",np.argmax(scores))\n",
    "print(\"Index of min socre is :\",np.argmin(scores))\n",
    "print(\"Sum of all scores is :\",np.sum(scores))\n",
    "\n"
   ]
  },
  {
   "cell_type": "markdown",
   "id": "0b830fbf-b7d1-447e-9107-6764fc0fcb3a",
   "metadata": {},
   "source": [
    "### 3 Boolean Indexing in NumPy\n",
    "marks = np.array([45, 67, 89, 34, 90, 56, 70, 23])\n",
    "Print only the elements greater than 60, \n",
    "Print only the elements less than 50\n",
    "Count how many students scored above 75\n",
    "Print all values between 50 and 80\n",
    "\n"
   ]
  },
  {
   "cell_type": "code",
   "execution_count": 29,
   "id": "e2f8c1f1-53d0-4751-8be0-57e378715fb9",
   "metadata": {},
   "outputs": [],
   "source": [
    "marks = np.array([45, 67, 89, 34, 90, 56, 70, 23]) "
   ]
  },
  {
   "cell_type": "code",
   "execution_count": 37,
   "id": "60938a8d-0d56-4254-8dde-440aec4492df",
   "metadata": {},
   "outputs": [
    {
     "name": "stdout",
     "output_type": "stream",
     "text": [
      "Marks > 60: [67 89 90 70]\n",
      "Marks <50:  [45 34 23]\n",
      "Count>75 : 2\n",
      "Marks between 50 and 80 : [67 56 70]\n"
     ]
    }
   ],
   "source": [
    "# only the elements greater than 60\n",
    "print(\"Marks > 60:\", marks[marks > 60])\n",
    "print(\"Marks <50: \",marks[marks < 50])\n",
    "print(\"Count>75 :\",np.sum(marks>75))\n",
    "print(\"Marks between 50 and 80 :\",marks[(marks >= 50) & (marks<=80) ])"
   ]
  },
  {
   "cell_type": "markdown",
   "id": "29f59998-5fa0-4523-9dfb-1e5492c3761b",
   "metadata": {},
   "source": [
    "### Find square root of each element in array"
   ]
  },
  {
   "cell_type": "code",
   "execution_count": 44,
   "id": "1b49b500-b649-4f6e-9e1d-655e8cbc03b6",
   "metadata": {},
   "outputs": [
    {
     "name": "stdout",
     "output_type": "stream",
     "text": [
      "[6.70820393 8.18535277 9.43398113 5.83095189 9.48683298 7.48331477\n",
      " 8.36660027 4.79583152]\n"
     ]
    }
   ],
   "source": [
    "marks = np.array([45, 67, 89, 34, 90, 56, 70, 23])\n",
    "print(np.sqrt(marks))"
   ]
  },
  {
   "cell_type": "markdown",
   "id": "7be43b68-2d8a-4228-ad61-9a6db9ffb969",
   "metadata": {},
   "source": [
    "### Given 2D array, find sum of each column and each row"
   ]
  },
  {
   "cell_type": "code",
   "execution_count": 54,
   "id": "e3796330-ecf4-4214-afc8-5d115dc8bac6",
   "metadata": {},
   "outputs": [
    {
     "name": "stdout",
     "output_type": "stream",
     "text": [
      "[[1 2 3]\n",
      " [4 5 6]]\n",
      "Sum of each column is :  [5 7 9]\n",
      "Sum of each row is :  [ 6 15]\n"
     ]
    }
   ],
   "source": [
    "ex = np.array([[1,2,3],[4,5,6]])\n",
    "print(ex)\n",
    "print(\"Sum of each column is : \",np.sum(ex,axis = 0))\n",
    "print(\"Sum of each row is : \",np.sum(ex,axis = 1))"
   ]
  },
  {
   "cell_type": "markdown",
   "id": "3aa14743-e270-4ca6-a56e-490ff02fd010",
   "metadata": {},
   "source": []
  }
 ],
 "metadata": {
  "kernelspec": {
   "display_name": "Python [conda env:base] *",
   "language": "python",
   "name": "conda-base-py"
  },
  "language_info": {
   "codemirror_mode": {
    "name": "ipython",
    "version": 3
   },
   "file_extension": ".py",
   "mimetype": "text/x-python",
   "name": "python",
   "nbconvert_exporter": "python",
   "pygments_lexer": "ipython3",
   "version": "3.12.7"
  }
 },
 "nbformat": 4,
 "nbformat_minor": 5
}
