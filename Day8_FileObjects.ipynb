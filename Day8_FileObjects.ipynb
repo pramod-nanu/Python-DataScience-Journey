{
 "cells": [
  {
   "cell_type": "code",
   "execution_count": null,
   "id": "c34ec8ae-6402-4e83-8471-06b997c99e68",
   "metadata": {},
   "outputs": [],
   "source": [
    "# with open('demo.txt','r') as f:\n",
    "#     f_content = f.readline()\n",
    "#     print(f_content,end='')\n",
    "\n",
    "#     f_content = f.readline()\n",
    "#     print(f_content,end='')\n",
    "\n",
    "# with open('demo.txt','r') as f:\n",
    "#     f_content = f.read(100)\n",
    "#     print(f_content)\n",
    "   \n",
    "# with open('demo.txt','r') as f:\n",
    "#     f_content = f.read(100)\n",
    "#     print(f_content,end='*')\n",
    "\n",
    "# with open('demo.txt','r') as f:\n",
    "#     size_To_read = 10\n",
    "#     f_content = f.read(size_To_read)\n",
    "#     print(f_content,end='')\n",
    "#     f.seek(0) # T start back at zero\n",
    "#     f_content = f.read(size_To_read)\n",
    "#     print(f_content,end='')\n",
    "\n",
    "#     #o/p = Hello I amHello I am\n",
    "\n",
    "# Read a file and print its content\n",
    "with open('text.py','r') as file:\n",
    "    file_content = file.read()\n",
    "    print(file_content)\n",
    "\n",
    "    "
   ]
  },
  {
   "cell_type": "code",
   "execution_count": null,
   "id": "fe06d803-2aa4-4781-af30-fe80beaa3bdb",
   "metadata": {},
   "outputs": [],
   "source": [
    "# with open('demo.txt','r') as f:\n",
    "#     f_content = f.readline()\n",
    "#     print(f_content,end='')\n",
    "\n",
    "#     f_content = f.readline()\n",
    "#     print(f_content,end='')\n",
    "\n",
    "# with open('demo.txt','r') as f:\n",
    "#     f_content = f.read(100)\n",
    "#     print(f_content)\n",
    "   \n",
    "# with open('demo.txt','r') as f:\n",
    "#     f_content = f.read(100)\n",
    "#     print(f_content,end='*')\n",
    "\n",
    "# with open('demo.txt','r') as f:\n",
    "#     size_To_read = 10\n",
    "#     f_content = f.read(size_To_read)\n",
    "#     print(f_content,end='')\n",
    "#     f.seek(0) # T start back at zero\n",
    "#     f_content = f.read(size_To_read)\n",
    "#     print(f_content,end='')\n",
    "\n",
    "#     #o/p = Hello I amHello I am\n",
    "\n",
    "# Read a file and print its content\n",
    "with open('text.py','r') as file:\n",
    "    file_content = file.read()\n",
    "    print(file_content)\n",
    "\n",
    "    "
   ]
  },
  {
   "cell_type": "code",
   "execution_count": null,
   "id": "35869f1a-7920-4a40-941c-eb8756fcbf36",
   "metadata": {},
   "outputs": [],
   "source": [
    "# Copying file\n",
    "with open('Krishna.jpeg','rb') as rf:\n",
    "    with open('MyLoveKrishna.jpeg','wb') as wf:\n",
    "        for line in rf:\n",
    "            wf.write(line)"
   ]
  }
 ],
 "metadata": {
  "kernelspec": {
   "display_name": "Python [conda env:base] *",
   "language": "python",
   "name": "conda-base-py"
  },
  "language_info": {
   "codemirror_mode": {
    "name": "ipython",
    "version": 3
   },
   "file_extension": ".py",
   "mimetype": "text/x-python",
   "name": "python",
   "nbconvert_exporter": "python",
   "pygments_lexer": "ipython3",
   "version": "3.12.7"
  }
 },
 "nbformat": 4,
 "nbformat_minor": 5
}
