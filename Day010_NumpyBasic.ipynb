{
 "cells": [
  {
   "cell_type": "code",
   "execution_count": 3,
   "id": "e2aeb316-f6f1-4c79-bc3a-513b77d65473",
   "metadata": {},
   "outputs": [
    {
     "name": "stdout",
     "output_type": "stream",
     "text": [
      "Numpy Array: [1 2 3 4 5]\n",
      "Array Type: <class 'numpy.ndarray'>\n",
      "Shape: (5,)\n"
     ]
    }
   ],
   "source": [
    "import numpy as np\n",
    "\n",
    "arr = np.array([1, 2, 3, 4, 5])\n",
    "print(\"Numpy Array:\", arr)\n",
    "print(\"Array Type:\", type(arr))\n",
    "print(\"Shape:\", arr.shape)"
   ]
  },
  {
   "cell_type": "code",
   "execution_count": 8,
   "id": "3f44b761-f0c3-42d9-a98c-a73d93dafc1f",
   "metadata": {},
   "outputs": [
    {
     "name": "stdout",
     "output_type": "stream",
     "text": [
      "[1 2 3]\n"
     ]
    },
    {
     "data": {
      "text/plain": [
       "array([1, 2, 3], dtype=int16)"
      ]
     },
     "execution_count": 8,
     "metadata": {},
     "output_type": "execute_result"
    }
   ],
   "source": [
    "import numpy as np\n",
    "a = np.array([1,2,3],dtype='int16')\n",
    "print(a)\n",
    "a\n"
   ]
  },
  {
   "cell_type": "code",
   "execution_count": 7,
   "id": "4be9b2d1-ac74-4445-910d-05f0d3005e71",
   "metadata": {},
   "outputs": [
    {
     "name": "stdout",
     "output_type": "stream",
     "text": [
      "[[ 1.   2.  34. ]\n",
      " [ 5.5  6.  14. ]]\n"
     ]
    }
   ],
   "source": [
    "b = np.array([[1,2.0,34.0],[5.5,6.0,14]])\n",
    "print(b)"
   ]
  },
  {
   "cell_type": "code",
   "execution_count": 25,
   "id": "5a72b011-a1d8-4734-8ddb-9b7484a83dcb",
   "metadata": {},
   "outputs": [
    {
     "data": {
      "text/plain": [
       "1"
      ]
     },
     "execution_count": 25,
     "metadata": {},
     "output_type": "execute_result"
    }
   ],
   "source": [
    "# Get Dimnension\n",
    "b.ndim\n",
    "a.ndim\n"
   ]
  },
  {
   "cell_type": "code",
   "execution_count": 27,
   "id": "6428aaee-a3ad-424d-8a38-058063a745b1",
   "metadata": {},
   "outputs": [
    {
     "data": {
      "text/plain": [
       "(2, 3)"
      ]
     },
     "execution_count": 27,
     "metadata": {},
     "output_type": "execute_result"
    }
   ],
   "source": [
    "#Get shape\n",
    "a.shape \n",
    "#  (3,)\n",
    "b.shape\n",
    "# (2, 3)"
   ]
  },
  {
   "cell_type": "code",
   "execution_count": 32,
   "id": "16b06265-b52d-4c7e-b656-c1b41e7641e7",
   "metadata": {},
   "outputs": [
    {
     "data": {
      "text/plain": [
       "dtype('int16')"
      ]
     },
     "execution_count": 32,
     "metadata": {},
     "output_type": "execute_result"
    }
   ],
   "source": [
    "# data type\n",
    "a.dtype\n",
    "# dtype('int16')"
   ]
  },
  {
   "cell_type": "code",
   "execution_count": 34,
   "id": "19efbd5a-deac-480d-9e91-5d46ff229827",
   "metadata": {},
   "outputs": [
    {
     "data": {
      "text/plain": [
       "dtype('float64')"
      ]
     },
     "execution_count": 34,
     "metadata": {},
     "output_type": "execute_result"
    }
   ],
   "source": [
    "# Data Type\n",
    "b.dtype\n",
    "#dtype('float64')"
   ]
  },
  {
   "cell_type": "code",
   "execution_count": 43,
   "id": "978392eb-cec4-4fbc-af74-7942f6ed2860",
   "metadata": {},
   "outputs": [
    {
     "data": {
      "text/plain": [
       "2"
      ]
     },
     "execution_count": 43,
     "metadata": {},
     "output_type": "execute_result"
    }
   ],
   "source": [
    "# Size\n",
    "a.itemsize\n"
   ]
  },
  {
   "cell_type": "code",
   "execution_count": 44,
   "id": "00d6ea1c-36e1-4018-9eb8-273c5ae35f41",
   "metadata": {},
   "outputs": [
    {
     "data": {
      "text/plain": [
       "6"
      ]
     },
     "execution_count": 44,
     "metadata": {},
     "output_type": "execute_result"
    }
   ],
   "source": [
    "a.nbytes\n"
   ]
  },
  {
   "cell_type": "code",
   "execution_count": 69,
   "id": "dd5faa21-07b1-4b68-82a4-6a17ae397cb2",
   "metadata": {},
   "outputs": [
    {
     "name": "stdout",
     "output_type": "stream",
     "text": [
      "[[ 1  2  3  4  5  6  7]\n",
      " [ 8  9 10 11 12 13 14]]\n",
      "[[ 1  2  5  4  5  6  7]\n",
      " [ 8  9  5 11 12 13 14]]\n"
     ]
    }
   ],
   "source": [
    "# Accessing/Changine Specific element\n",
    "arr = np.array([[1,2,3,4,5,6,7],[8,9,10,11,12,13,14]])\n",
    "arr\n",
    "# Get A specify Element\n",
    "arr[1,5]  # 13\n",
    "# Get a specific row\n",
    "arr[0,:]  # array([1, 2, 3, 4, 5, 6, 7])\n",
    "# Get a specific column\n",
    "arr[:,-3]  # array([ 5, 12])\n",
    "# Getting little more fancy\n",
    "arr[0,1:6:2]   # array([2, 4, 6])\n",
    "# Getting indexed element\n",
    "arr[1,5] = 13\n",
    "print(arr)  # [[ 1  2  3  4  5  6  7] [ 8  9 10 11 12 13 14]]\n",
    "arr[:,2] = 5\n",
    "print(arr)  # [[ 1  2  5  4  5  6  7] [ 8  9  5 11 12 13 14]]\n"
   ]
  },
  {
   "cell_type": "code",
   "execution_count": 12,
   "id": "7694632c-3521-4e72-9c07-500d31986cf5",
   "metadata": {},
   "outputs": [
    {
     "data": {
      "text/plain": [
       "array([[1., 0., 0.],\n",
       "       [0., 1., 0.],\n",
       "       [0., 0., 1.]])"
      ]
     },
     "execution_count": 12,
     "metadata": {},
     "output_type": "execute_result"
    }
   ],
   "source": [
    "# All Zero's metrics,Ones,Random Integer,Decimal number\n",
    "import numpy as np\n",
    "np.zeros((3,3,3))\n",
    "np.ones((2,3,3),dtype='int16')\n",
    "np.full((2,2),100)\n",
    "np.full_like(b,4)\n",
    "np.random.rand(2,4)\n",
    "np.random.random_sample(b.shape)\n",
    "np.random.randint(0,19,3)\n",
    "np.random.randint(12,15,size=(2,3))\n",
    "#Idenntity matrix\n",
    "np.identity(3)\n"
   ]
  },
  {
   "cell_type": "code",
   "execution_count": 18,
   "id": "0de286ce-7d9c-46e1-bc48-e3d42c7410b0",
   "metadata": {},
   "outputs": [
    {
     "name": "stdout",
     "output_type": "stream",
     "text": [
      "[[1 2 3]\n",
      " [1 2 3]\n",
      " [1 2 3]]\n"
     ]
    }
   ],
   "source": [
    "# Repeating array\n",
    "arr = np.array([[1,2,3]])\n",
    "r = np.repeat(arr,3,axis =0)\n",
    "print(r)"
   ]
  },
  {
   "cell_type": "code",
   "execution_count": 33,
   "id": "b5ef0417-4e45-4d37-a360-2ca4b3ee6cc5",
   "metadata": {},
   "outputs": [
    {
     "name": "stdout",
     "output_type": "stream",
     "text": [
      "[[1. 1. 1. 1. 1.]\n",
      " [1. 1. 1. 1. 1.]\n",
      " [1. 1. 1. 1. 1.]\n",
      " [1. 1. 1. 1. 1.]\n",
      " [1. 1. 1. 1. 1.]]\n",
      "[[0. 0. 0.]\n",
      " [0. 9. 0.]\n",
      " [0. 0. 0.]]\n",
      "[[1. 1. 1. 1. 1.]\n",
      " [1. 0. 0. 0. 1.]\n",
      " [1. 0. 9. 0. 1.]\n",
      " [1. 0. 0. 0. 1.]\n",
      " [1. 1. 1. 1. 1.]]\n"
     ]
    }
   ],
   "source": [
    "output = np.ones((5,5))\n",
    "print(output)\n",
    "z = np.zeros((3,3))\n",
    "z[1,1] = 9\n",
    "print(z)\n",
    "output[1:-1,1:-1] = z\n",
    "print(output)\n"
   ]
  },
  {
   "cell_type": "markdown",
   "id": "b27125c9-4457-4bdc-9378-08a70814c841",
   "metadata": {},
   "source": [
    "### Be careful when copying arrays !!!\n"
   ]
  },
  {
   "cell_type": "code",
   "execution_count": 40,
   "id": "16b24a0c-a6a5-4298-9861-ef6078a74e72",
   "metadata": {},
   "outputs": [
    {
     "name": "stdout",
     "output_type": "stream",
     "text": [
      "[1 2 3]\n"
     ]
    }
   ],
   "source": [
    "a = np.array([1,2,3])\n",
    "b = a.copy()\n",
    "b[0] = 100\n",
    "print(a)"
   ]
  },
  {
   "cell_type": "markdown",
   "id": "0dc6fac4-a42b-465c-9509-5ce560eb7706",
   "metadata": {},
   "source": [
    "### Mathematics"
   ]
  },
  {
   "cell_type": "code",
   "execution_count": 52,
   "id": "27b7c57b-e3e4-4f03-ad60-ff795c24075f",
   "metadata": {},
   "outputs": [
    {
     "name": "stdout",
     "output_type": "stream",
     "text": [
      "[1 2 3 4]\n"
     ]
    }
   ],
   "source": [
    "a = np.array([1,2,3,4])\n",
    "print(a)"
   ]
  },
  {
   "cell_type": "code",
   "execution_count": 43,
   "id": "9f358fcd-389f-4281-9485-69df7018273b",
   "metadata": {},
   "outputs": [
    {
     "data": {
      "text/plain": [
       "array([3, 4, 5, 6])"
      ]
     },
     "execution_count": 43,
     "metadata": {},
     "output_type": "execute_result"
    }
   ],
   "source": [
    "a + 2"
   ]
  },
  {
   "cell_type": "code",
   "execution_count": 44,
   "id": "63b5c300-87f5-406b-9f70-a95c23574288",
   "metadata": {},
   "outputs": [
    {
     "data": {
      "text/plain": [
       "array([-1,  0,  1,  2])"
      ]
     },
     "execution_count": 44,
     "metadata": {},
     "output_type": "execute_result"
    }
   ],
   "source": [
    "a - 2"
   ]
  },
  {
   "cell_type": "code",
   "execution_count": 45,
   "id": "52692249-e34c-4e6b-85b6-23a437c1d110",
   "metadata": {},
   "outputs": [
    {
     "data": {
      "text/plain": [
       "array([2, 4, 6, 8])"
      ]
     },
     "execution_count": 45,
     "metadata": {},
     "output_type": "execute_result"
    }
   ],
   "source": [
    "a * 2"
   ]
  },
  {
   "cell_type": "code",
   "execution_count": 46,
   "id": "4dada48e-e5b8-47bd-bc7d-eb5d221252dc",
   "metadata": {},
   "outputs": [
    {
     "data": {
      "text/plain": [
       "array([0.5, 1. , 1.5, 2. ])"
      ]
     },
     "execution_count": 46,
     "metadata": {},
     "output_type": "execute_result"
    }
   ],
   "source": [
    "a/2"
   ]
  },
  {
   "cell_type": "code",
   "execution_count": 47,
   "id": "2fd1f671-3408-40a1-9d33-828e321d08c0",
   "metadata": {},
   "outputs": [
    {
     "data": {
      "text/plain": [
       "array([2, 2, 4, 4])"
      ]
     },
     "execution_count": 47,
     "metadata": {},
     "output_type": "execute_result"
    }
   ],
   "source": [
    "b = np.array([1,0,1,0])\n",
    "a+b"
   ]
  },
  {
   "cell_type": "code",
   "execution_count": 49,
   "id": "0993c15f-ae38-413d-9b96-205acff3d34d",
   "metadata": {},
   "outputs": [
    {
     "data": {
      "text/plain": [
       "array([ 1,  8, 27, 64])"
      ]
     },
     "execution_count": 49,
     "metadata": {},
     "output_type": "execute_result"
    }
   ],
   "source": [
    "a ** 3"
   ]
  },
  {
   "cell_type": "code",
   "execution_count": 55,
   "id": "0df7852a-07e0-46a6-b90d-8dc4373fb7b6",
   "metadata": {},
   "outputs": [
    {
     "data": {
      "text/plain": [
       "array([0.84147098, 0.        , 0.84147098, 0.        ])"
      ]
     },
     "execution_count": 55,
     "metadata": {},
     "output_type": "execute_result"
    }
   ],
   "source": [
    "np.sin(b)"
   ]
  },
  {
   "cell_type": "markdown",
   "id": "eb67ca2a-7cbd-446b-929c-42add42c825d",
   "metadata": {},
   "source": [
    "### Practice problems"
   ]
  },
  {
   "cell_type": "code",
   "execution_count": 75,
   "id": "db9f1fd9-c482-439d-82b7-8a70f2b5b352",
   "metadata": {},
   "outputs": [
    {
     "name": "stdout",
     "output_type": "stream",
     "text": [
      "Numpy Array is [10 20 30 40 50]\n",
      "Size is :  5\n",
      "Shape is :  (5,)\n",
      "Type is :  <class 'numpy.ndarray'>\n"
     ]
    }
   ],
   "source": [
    "# 1.Create a 1D NumPy array from a list of 5 numbers.\n",
    "import numpy as np\n",
    "numbers = [10,20,30,40,50]\n",
    "arr = np.array(numbers)\n",
    "print(\"Numpy Array is\",arr)\n",
    "print(\"Size is : \",arr.size)\n",
    "print(\"Shape is : \",arr.shape)\n",
    "print(\"Type is : \",type(arr))"
   ]
  },
  {
   "cell_type": "code",
   "execution_count": 77,
   "id": "02da8367-4e20-4c3a-892a-3f8279102c30",
   "metadata": {},
   "outputs": [
    {
     "name": "stdout",
     "output_type": "stream",
     "text": [
      "[[1 2]\n",
      " [3 4]]\n"
     ]
    }
   ],
   "source": [
    "# 2.Create a 2D array using np.array().\n",
    "a = np.array([[1,2],[3,4]])\n",
    "print(a)\n",
    "\n"
   ]
  },
  {
   "cell_type": "code",
   "execution_count": 82,
   "id": "8e343abc-4e7c-43b0-880a-1f24fc20a40c",
   "metadata": {},
   "outputs": [
    {
     "name": "stdout",
     "output_type": "stream",
     "text": [
      "[[1 2 3]\n",
      " [4 5 6]]\n",
      "Shape is :  (2, 3)\n",
      "Size is :  6\n",
      "Data Type is : int16\n"
     ]
    }
   ],
   "source": [
    "# 3. Find shape, size, and datatype of any array.\n",
    "b = np.array([[1,2,3],[4,5,6]],dtype='int16')\n",
    "print(b)\n",
    "print(\"Shape is : \",b.shape)\n",
    "print(\"Size is : \",b.size)\n",
    "print(\"Data Type is :\",b.dtype)"
   ]
  },
  {
   "cell_type": "code",
   "execution_count": 86,
   "id": "4166a73f-4db0-4dd1-a050-0ffeb5667b38",
   "metadata": {},
   "outputs": [
    {
     "name": "stdout",
     "output_type": "stream",
     "text": [
      "[1 2 3]\n"
     ]
    }
   ],
   "source": [
    "# 4. Slice and print first 3 elements of an array.\n",
    "a = np.array([1,2,3,4,5,6,7,8,9])\n",
    "print(a[0:3])"
   ]
  },
  {
   "cell_type": "code",
   "execution_count": 106,
   "id": "0224694f-91b7-49f3-a89b-12422f251850",
   "metadata": {},
   "outputs": [
    {
     "name": "stdout",
     "output_type": "stream",
     "text": [
      "[[0. 0. 0.]\n",
      " [0. 0. 0.]]\n",
      "[[1. 1.]\n",
      " [1. 1.]]\n",
      "[[1. 0. 0. 0.]\n",
      " [0. 1. 0. 0.]\n",
      " [0. 0. 1. 0.]\n",
      " [0. 0. 0. 1.]]\n",
      "[10 11 12 13 14 15 16 17 18 19 20 21 22 23 24 25 26 27 28 29 30 31 32 33\n",
      " 34 35 36 37 38 39 40 41 42 43 44 45 46 47 48 49]\n"
     ]
    }
   ],
   "source": [
    "# 5. Use np.zeros((2,3)), np.ones((3,3)), np.eye(3), np.arange(10,20).\n",
    "a = np.array([1,2,3,4,5])\n",
    "b = np.zeros((2,3))\n",
    "print(b)\n",
    "c = np.ones((2,2))\n",
    "print(c)\n",
    "d = np.eye(4)\n",
    "print(d)\n",
    "e = np.arange(10,50)\n",
    "print(e)"
   ]
  },
  {
   "cell_type": "code",
   "execution_count": 115,
   "id": "1e04bada-0719-4cec-8c2c-8c20b7372e31",
   "metadata": {},
   "outputs": [
    {
     "name": "stdout",
     "output_type": "stream",
     "text": [
      "Reshaped array is :\n",
      " [[ 1  2  3  4]\n",
      " [ 5  6  7  8]\n",
      " [ 9 10 11 12]]\n"
     ]
    }
   ],
   "source": [
    "# 6. Reshape a 1D array of 12 elements into a 3x4 matrix.\n",
    "a = np.array([1,2,3,4,5,6,7,8,9,10,11,12])\n",
    "b = a.reshape(3,4)\n",
    "print(\"Reshaped array is :\\n\",b)\n",
    "\n"
   ]
  },
  {
   "cell_type": "code",
   "execution_count": null,
   "id": "673fcecd-aa1f-4991-8533-2e36e737bf5d",
   "metadata": {},
   "outputs": [],
   "source": []
  }
 ],
 "metadata": {
  "kernelspec": {
   "display_name": "Python [conda env:base] *",
   "language": "python",
   "name": "conda-base-py"
  },
  "language_info": {
   "codemirror_mode": {
    "name": "ipython",
    "version": 3
   },
   "file_extension": ".py",
   "mimetype": "text/x-python",
   "name": "python",
   "nbconvert_exporter": "python",
   "pygments_lexer": "ipython3",
   "version": "3.12.7"
  }
 },
 "nbformat": 4,
 "nbformat_minor": 5
}
