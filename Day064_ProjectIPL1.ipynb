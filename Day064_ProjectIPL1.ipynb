{
 "cells": [
  {
   "cell_type": "markdown",
   "id": "2c158718-8169-4617-ab4e-1a840f164280",
   "metadata": {},
   "source": [
    "### Project-1 IPL"
   ]
  },
  {
   "cell_type": "markdown",
   "id": "3dad6955-787f-4392-9cb2-36153e47ccb3",
   "metadata": {},
   "source": [
    "### Topic-1 Import IPL Dataset."
   ]
  },
  {
   "cell_type": "code",
   "execution_count": 37,
   "id": "6bb2f835-c498-49df-9e8d-6e95cdd1b900",
   "metadata": {},
   "outputs": [
    {
     "name": "stdout",
     "output_type": "stream",
     "text": [
      "<class 'pandas.core.frame.DataFrame'>\n"
     ]
    },
    {
     "data": {
      "text/html": [
       "<div>\n",
       "<style scoped>\n",
       "    .dataframe tbody tr th:only-of-type {\n",
       "        vertical-align: middle;\n",
       "    }\n",
       "\n",
       "    .dataframe tbody tr th {\n",
       "        vertical-align: top;\n",
       "    }\n",
       "\n",
       "    .dataframe thead th {\n",
       "        text-align: right;\n",
       "    }\n",
       "</style>\n",
       "<table border=\"1\" class=\"dataframe\">\n",
       "  <thead>\n",
       "    <tr style=\"text-align: right;\">\n",
       "      <th></th>\n",
       "      <th>Match_ID</th>\n",
       "      <th>Player</th>\n",
       "      <th>Runs</th>\n",
       "      <th>Balls</th>\n",
       "      <th>4s</th>\n",
       "      <th>6s</th>\n",
       "      <th>StrikeRate</th>\n",
       "      <th>Team</th>\n",
       "      <th>Opponent</th>\n",
       "      <th>Venue</th>\n",
       "      <th>Date</th>\n",
       "    </tr>\n",
       "  </thead>\n",
       "  <tbody>\n",
       "    <tr>\n",
       "      <th>0</th>\n",
       "      <td>1</td>\n",
       "      <td>Virat Kohli</td>\n",
       "      <td>45</td>\n",
       "      <td>35</td>\n",
       "      <td>5</td>\n",
       "      <td>1</td>\n",
       "      <td>128.5</td>\n",
       "      <td>RCB</td>\n",
       "      <td>MI</td>\n",
       "      <td>Wankhede</td>\n",
       "      <td>2008-04-18</td>\n",
       "    </tr>\n",
       "    <tr>\n",
       "      <th>1</th>\n",
       "      <td>1</td>\n",
       "      <td>Rohit Sharma</td>\n",
       "      <td>30</td>\n",
       "      <td>28</td>\n",
       "      <td>4</td>\n",
       "      <td>0</td>\n",
       "      <td>107.1</td>\n",
       "      <td>MI</td>\n",
       "      <td>RCB</td>\n",
       "      <td>Wankhede</td>\n",
       "      <td>2008-04-18</td>\n",
       "    </tr>\n",
       "    <tr>\n",
       "      <th>2</th>\n",
       "      <td>2</td>\n",
       "      <td>MS Dhoni</td>\n",
       "      <td>60</td>\n",
       "      <td>40</td>\n",
       "      <td>6</td>\n",
       "      <td>2</td>\n",
       "      <td>150.0</td>\n",
       "      <td>CSK</td>\n",
       "      <td>KKR</td>\n",
       "      <td>Chepauk</td>\n",
       "      <td>2008-04-19</td>\n",
       "    </tr>\n",
       "    <tr>\n",
       "      <th>3</th>\n",
       "      <td>2</td>\n",
       "      <td>Suresh Raina</td>\n",
       "      <td>25</td>\n",
       "      <td>22</td>\n",
       "      <td>3</td>\n",
       "      <td>1</td>\n",
       "      <td>113.6</td>\n",
       "      <td>CSK</td>\n",
       "      <td>KKR</td>\n",
       "      <td>Chepauk</td>\n",
       "      <td>2008-04-19</td>\n",
       "    </tr>\n",
       "    <tr>\n",
       "      <th>4</th>\n",
       "      <td>3</td>\n",
       "      <td>AB de Villiers</td>\n",
       "      <td>75</td>\n",
       "      <td>50</td>\n",
       "      <td>8</td>\n",
       "      <td>3</td>\n",
       "      <td>150.0</td>\n",
       "      <td>RCB</td>\n",
       "      <td>DC</td>\n",
       "      <td>Chinnaswamy</td>\n",
       "      <td>2008-04-20</td>\n",
       "    </tr>\n",
       "    <tr>\n",
       "      <th>5</th>\n",
       "      <td>3</td>\n",
       "      <td>Chris Gayle</td>\n",
       "      <td>10</td>\n",
       "      <td>15</td>\n",
       "      <td>2</td>\n",
       "      <td>1</td>\n",
       "      <td>66.7</td>\n",
       "      <td>RCB</td>\n",
       "      <td>DC</td>\n",
       "      <td>Chinnaswamy</td>\n",
       "      <td>2008-04-20</td>\n",
       "    </tr>\n",
       "  </tbody>\n",
       "</table>\n",
       "</div>"
      ],
      "text/plain": [
       "   Match_ID          Player  Runs  Balls  4s  6s  StrikeRate Team Opponent  \\\n",
       "0         1     Virat Kohli    45     35   5   1       128.5  RCB       MI   \n",
       "1         1    Rohit Sharma    30     28   4   0       107.1   MI      RCB   \n",
       "2         2        MS Dhoni    60     40   6   2       150.0  CSK      KKR   \n",
       "3         2    Suresh Raina    25     22   3   1       113.6  CSK      KKR   \n",
       "4         3  AB de Villiers    75     50   8   3       150.0  RCB       DC   \n",
       "5         3     Chris Gayle    10     15   2   1        66.7  RCB       DC   \n",
       "\n",
       "         Venue        Date  \n",
       "0     Wankhede  2008-04-18  \n",
       "1     Wankhede  2008-04-18  \n",
       "2      Chepauk  2008-04-19  \n",
       "3      Chepauk  2008-04-19  \n",
       "4  Chinnaswamy  2008-04-20  \n",
       "5  Chinnaswamy  2008-04-20  "
      ]
     },
     "execution_count": 37,
     "metadata": {},
     "output_type": "execute_result"
    }
   ],
   "source": [
    "import pandas as pd\n",
    "df = pd.read_csv(\"Data/IPL_Sample.csv\")\n",
    "print(type(df))\n",
    "df.head(6)"
   ]
  },
  {
   "cell_type": "markdown",
   "id": "58e61735-9513-4225-a4c4-102e00998e83",
   "metadata": {},
   "source": [
    "### Topic 2: Exploring the Dataset."
   ]
  },
  {
   "cell_type": "code",
   "execution_count": 34,
   "id": "1174cca1-8a58-44ee-80c1-903cedc6001b",
   "metadata": {},
   "outputs": [
    {
     "name": "stdout",
     "output_type": "stream",
     "text": [
      "   Match_ID          Player  Runs  Balls  4s  6s  StrikeRate Team Opponent  \\\n",
      "0         1     Virat Kohli    45     35   5   1       128.0  RCB       MI   \n",
      "1         1    Rohit Sharma    30     28   4   0       107.0   MI      RCB   \n",
      "2         2        MS Dhoni    60     40   6   2       150.0  CSK      KKR   \n",
      "3         2    Suresh Raina    25     22   3   1       113.0  CSK      KKR   \n",
      "4         3  AB de Villiers    75     50   8   3       150.0  RCB       DC   \n",
      "\n",
      "         Venue       Date  \n",
      "0     Wankhede 2008-04-18  \n",
      "1     Wankhede 2008-04-18  \n",
      "2      Chepauk 2008-04-19  \n",
      "3      Chepauk 2008-04-19  \n",
      "4  Chinnaswamy 2008-04-20  \n",
      "(6, 11)\n",
      "<class 'pandas.core.frame.DataFrame'>\n",
      "RangeIndex: 6 entries, 0 to 5\n",
      "Data columns (total 11 columns):\n",
      " #   Column      Non-Null Count  Dtype         \n",
      "---  ------      --------------  -----         \n",
      " 0   Match_ID    6 non-null      int64         \n",
      " 1   Player      6 non-null      object        \n",
      " 2   Runs        6 non-null      int64         \n",
      " 3   Balls       6 non-null      int64         \n",
      " 4   4s          6 non-null      int64         \n",
      " 5   6s          6 non-null      int64         \n",
      " 6   StrikeRate  6 non-null      float64       \n",
      " 7   Team        6 non-null      object        \n",
      " 8   Opponent    6 non-null      object        \n",
      " 9   Venue       6 non-null      object        \n",
      " 10  Date        6 non-null      datetime64[ns]\n",
      "dtypes: datetime64[ns](1), float64(1), int64(5), object(4)\n",
      "memory usage: 660.0+ bytes\n",
      "None\n",
      "       Match_ID       Runs      Balls        4s        6s  StrikeRate  \\\n",
      "count  6.000000   6.000000   6.000000  6.000000  6.000000    6.000000   \n",
      "mean   2.000000  40.833333  31.666667  4.666667  1.333333  119.000000   \n",
      "min    1.000000  10.000000  15.000000  2.000000  0.000000   66.000000   \n",
      "25%    1.250000  26.250000  23.500000  3.250000  1.000000  108.500000   \n",
      "50%    2.000000  37.500000  31.500000  4.500000  1.000000  120.500000   \n",
      "75%    2.750000  56.250000  38.750000  5.750000  1.750000  144.500000   \n",
      "max    3.000000  75.000000  50.000000  8.000000  3.000000  150.000000   \n",
      "std    0.894427  23.961775  12.659647  2.160247  1.032796   31.597468   \n",
      "\n",
      "                      Date  \n",
      "count                    6  \n",
      "mean   2008-04-19 00:00:00  \n",
      "min    2008-04-18 00:00:00  \n",
      "25%    2008-04-18 06:00:00  \n",
      "50%    2008-04-19 00:00:00  \n",
      "75%    2008-04-19 18:00:00  \n",
      "max    2008-04-20 00:00:00  \n",
      "std                    NaN  \n"
     ]
    }
   ],
   "source": [
    "print(df.head())\n",
    "print(df.shape)\n",
    "print(df.info())\n",
    "print(df.describe())"
   ]
  },
  {
   "cell_type": "markdown",
   "id": "1ceb310c-d61a-4086-ac30-0f20b60dbd97",
   "metadata": {},
   "source": [
    "### Topic 3: Identify important columns"
   ]
  },
  {
   "cell_type": "code",
   "execution_count": 23,
   "id": "babe096e-15a0-4a08-9e7e-ca67234c2abd",
   "metadata": {},
   "outputs": [
    {
     "name": "stdout",
     "output_type": "stream",
     "text": [
      "Index(['Match_ID', 'Player', 'Runs', 'Balls', '4s', '6s', 'StrikeRate', 'Team',\n",
      "       'Opponent', 'Venue', 'Date'],\n",
      "      dtype='object')\n"
     ]
    }
   ],
   "source": [
    "# Step 1: Check column names\n",
    "print(df.columns)\n",
    "# Step 2: What does each column mean?\n",
    "# Step 3: Identify “Key Columns” for Analysis\n"
   ]
  },
  {
   "cell_type": "markdown",
   "id": "76fc3fd1-288d-4ca5-8d33-4333a37e1dcf",
   "metadata": {},
   "source": [
    "### Topic 4: Handling missing values"
   ]
  },
  {
   "cell_type": "code",
   "execution_count": 43,
   "id": "f35fc364-1039-48d2-a645-a4467fd84877",
   "metadata": {},
   "outputs": [
    {
     "name": "stdout",
     "output_type": "stream",
     "text": [
      "   Match_ID          Player  Runs  Balls  4s  6s  StrikeRate Team Opponent  \\\n",
      "0         1     Virat Kohli    45     35   5   1       128.5  RCB       MI   \n",
      "1         1    Rohit Sharma    30     28   4   0       107.1   MI      RCB   \n",
      "2         2        MS Dhoni    60     40   6   2       150.0  CSK      KKR   \n",
      "3         2    Suresh Raina    25     22   3   1       113.6  CSK      KKR   \n",
      "4         3  AB de Villiers    75     50   8   3       150.0  RCB       DC   \n",
      "5         3     Chris Gayle    10     15   2   1        66.7  RCB       DC   \n",
      "\n",
      "         Venue        Date  \n",
      "0     Wankhede  2008-04-18  \n",
      "1     Wankhede  2008-04-18  \n",
      "2      Chepauk  2008-04-19  \n",
      "3      Chepauk  2008-04-19  \n",
      "4  Chinnaswamy  2008-04-20  \n",
      "5  Chinnaswamy  2008-04-20  \n",
      "Match_ID      0\n",
      "Player        0\n",
      "Runs          0\n",
      "Balls         0\n",
      "4s            0\n",
      "6s            0\n",
      "StrikeRate    0\n",
      "Team          0\n",
      "Opponent      0\n",
      "Venue         0\n",
      "Date          0\n",
      "dtype: int64\n"
     ]
    }
   ],
   "source": [
    "# Step 1: Check for missing values\n",
    "#print(df.isna().sum())\n",
    "\n",
    "# Step 2: Decide how to handle missing values\n",
    "# Removes entire row if any value is missing.\n",
    "print(df.dropna()) \n",
    "\n",
    "# Step 3 : Fill missing values\n",
    "#df[\"Runs\"].fillna(0,inplace=True)\n",
    "# df['StrikeRate'].fillna(df['StrikeRate'].mean(),inplace=True)\n",
    "\n",
    "# Step 3: Verify again\n",
    "print(df.isna().sum())\n"
   ]
  },
  {
   "cell_type": "markdown",
   "id": "888d9368-a919-4c84-b3e0-548e60028974",
   "metadata": {},
   "source": [
    "### Topic 5: Fix Column Datatypes"
   ]
  },
  {
   "cell_type": "code",
   "execution_count": null,
   "id": "84a4bdec-d9a2-4285-921a-aa2955764b8f",
   "metadata": {},
   "outputs": [],
   "source": [
    "# Step 1: Check current datatypes\n",
    "print(df.dtypes)\n",
    "# Step 2: Convert Date to datetime\n",
    "df['Date'] = pd.to_datetime(df['Date'])\n",
    "df[\"Runs\"] = df[\"Runs\"].astype(int)\n",
    "print(df.dtypes)\n",
    "df[\"StrikeRate\"] = df[\"StrikeRate\"].astype(float)\n",
    "print(df.dtypes)"
   ]
  },
  {
   "cell_type": "markdown",
   "id": "15029e1b-ce11-471c-b57e-012206ffa045",
   "metadata": {},
   "source": [
    "### Topic 6: Remove duplicates"
   ]
  },
  {
   "cell_type": "code",
   "execution_count": 26,
   "id": "9946485a-7973-4ae2-ba1d-a5f37c90cd9b",
   "metadata": {},
   "outputs": [
    {
     "data": {
      "text/plain": [
       "0"
      ]
     },
     "execution_count": 26,
     "metadata": {},
     "output_type": "execute_result"
    }
   ],
   "source": [
    "# Step 1: Check if duplicates exist\n",
    "df.duplicated().sum()\n",
    "# Step 2: View duplicate rows (optional)\n",
    "df[df.duplicated()]\n",
    "# Step 3: Remove duplicates\n",
    "df = df.drop_duplicates()\n",
    "# Step 4: Verify again\n",
    "df.duplicated().sum()\n"
   ]
  },
  {
   "cell_type": "code",
   "execution_count": null,
   "id": "d82471d3-5271-4d47-8c41-cc047c0b95a0",
   "metadata": {},
   "outputs": [],
   "source": []
  }
 ],
 "metadata": {
  "kernelspec": {
   "display_name": "Python [conda env:base] *",
   "language": "python",
   "name": "conda-base-py"
  },
  "language_info": {
   "codemirror_mode": {
    "name": "ipython",
    "version": 3
   },
   "file_extension": ".py",
   "mimetype": "text/x-python",
   "name": "python",
   "nbconvert_exporter": "python",
   "pygments_lexer": "ipython3",
   "version": "3.12.7"
  }
 },
 "nbformat": 4,
 "nbformat_minor": 5
}
