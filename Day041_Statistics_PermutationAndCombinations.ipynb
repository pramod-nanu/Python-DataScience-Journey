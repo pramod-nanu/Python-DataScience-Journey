{
 "cells": [
  {
   "cell_type": "markdown",
   "id": "ca2fb201-1340-49af-a545-25018bc2e781",
   "metadata": {},
   "source": [
    "### Permutation and Combination"
   ]
  },
  {
   "cell_type": "markdown",
   "id": "2ba32ee2-f4dd-4d2f-bce0-2fd2e0b347d0",
   "metadata": {},
   "source": [
    "Permutation (Order matters)\n",
    "\n",
    "It’s about arranging items.\n",
    "\n",
    "Example:\n",
    "\n",
    "You have 3 letters: A, B, C.\n",
    "\n",
    "Possible permutations of 2 letters: AB, BA, AC, CA, BC, CB → 6 ways.\n",
    "\n",
    "Here AB ≠ BA (order matters).\n",
    "\n",
    "✅ Combination (Order doesn’t matter)\n",
    "\n",
    "It’s about selecting items.\n",
    "\n",
    "Example:\n",
    "\n",
    "You have 3 letters: A, B, C.\n",
    "\n",
    "Possible combinations of 2 letters: AB, AC, BC → 3 ways.\n",
    "\n",
    "Here AB = BA (order doesn’t matter)."
   ]
  },
  {
   "cell_type": "markdown",
   "id": "3ec1385e-6690-46fa-9b26-48bcf8d3b8bf",
   "metadata": {},
   "source": [
    "### Permutation (Order matters)\n",
    "\n",
    "It’s about arranging items.\n",
    "\n",
    "Example:\n",
    "\n",
    "You have 3 letters: A, B, C.\n",
    "\n",
    "Possible permutations of 2 letters: AB, BA, AC, CA, BC, CB → 6 ways.\n",
    "\n",
    "Here AB ≠ BA (order matters).\n",
    "\n",
    "✅ Combination (Order doesn’t matter)\n",
    "\n",
    "It’s about selecting items.\n",
    "\n",
    "Example:\n",
    "\n",
    "You have 3 letters: A, B, C.\n",
    "\n",
    "Possible combinations of 2 letters: AB, AC, BC → 3 ways.\n",
    "\n",
    "Here AB = BA (order doesn’t matter)."
   ]
  },
  {
   "cell_type": "markdown",
   "id": "71d273d0-7318-4896-90f3-9fcd3eb25b89",
   "metadata": {},
   "source": [
    "### Topic 2: nPr & nCr (Formulas + Simple Examples)"
   ]
  },
  {
   "cell_type": "markdown",
   "id": "413612aa-c549-4042-afa8-d3906a41672d",
   "metadata": {},
   "source": [
    "n P r = n ! / (n-r) !"
   ]
  },
  {
   "cell_type": "markdown",
   "id": "1e7b6c88-99f4-4670-9b3f-78d343d7b9ba",
   "metadata": {},
   "source": [
    "n C r = n! / (n-r) ! * r !"
   ]
  },
  {
   "cell_type": "markdown",
   "id": "ecc39365-a1f1-458a-b717-adab86b52331",
   "metadata": {},
   "source": [
    "License plate problem → repetition allowed, product rule, \n",
    "26\n",
    "3\n",
    "×\n",
    "10\n",
    "2\n",
    "=\n",
    "1\n",
    ",\n",
    "757\n",
    ",\n",
    "600\n",
    "26\n",
    "3\n",
    "×10\n",
    "2\n",
    "=1,757,600"
   ]
  },
  {
   "cell_type": "code",
   "execution_count": null,
   "id": "e3738982-d95e-491b-a6ee-b047053443b6",
   "metadata": {},
   "outputs": [],
   "source": []
  }
 ],
 "metadata": {
  "kernelspec": {
   "display_name": "Python [conda env:base] *",
   "language": "python",
   "name": "conda-base-py"
  },
  "language_info": {
   "codemirror_mode": {
    "name": "ipython",
    "version": 3
   },
   "file_extension": ".py",
   "mimetype": "text/x-python",
   "name": "python",
   "nbconvert_exporter": "python",
   "pygments_lexer": "ipython3",
   "version": "3.12.7"
  }
 },
 "nbformat": 4,
 "nbformat_minor": 5
}
