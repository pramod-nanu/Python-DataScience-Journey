{
 "cells": [
  {
   "cell_type": "code",
   "execution_count": 58,
   "id": "c7b30d2e-d334-456d-9ac6-8ca01571df80",
   "metadata": {},
   "outputs": [
    {
     "name": "stdout",
     "output_type": "stream",
     "text": [
      "       #                   Name   Type 1  Type 2  HP  Attack  Defense  \\\n",
      "0      1              Bulbasaur    Grass  Poison  45      49       49   \n",
      "1      2                Ivysaur    Grass  Poison  60      62       63   \n",
      "2      3               Venusaur    Grass  Poison  80      82       83   \n",
      "3      3  VenusaurMega Venusaur    Grass  Poison  80     100      123   \n",
      "4      4             Charmander     Fire     NaN  39      52       43   \n",
      "..   ...                    ...      ...     ...  ..     ...      ...   \n",
      "795  719                Diancie     Rock   Fairy  50     100      150   \n",
      "796  719    DiancieMega Diancie     Rock   Fairy  50     160      110   \n",
      "797  720    HoopaHoopa Confined  Psychic   Ghost  80     110       60   \n",
      "798  720     HoopaHoopa Unbound  Psychic    Dark  80     160       60   \n",
      "799  721              Volcanion     Fire   Water  80     110      120   \n",
      "\n",
      "     Sp. Atk  Sp. Def  Speed  Generation  Legendary  \n",
      "0         65       65     45           1      False  \n",
      "1         80       80     60           1      False  \n",
      "2        100      100     80           1      False  \n",
      "3        122      120     80           1      False  \n",
      "4         60       50     65           1      False  \n",
      "..       ...      ...    ...         ...        ...  \n",
      "795      100      150     50           6       True  \n",
      "796      160      110    110           6       True  \n",
      "797      150      130     70           6       True  \n",
      "798      170      130     80           6       True  \n",
      "799      130       90     70           6       True  \n",
      "\n",
      "[800 rows x 12 columns]\n"
     ]
    }
   ],
   "source": [
    "import pandas as pd\n",
    "df = pd.read_csv('pokemon_data.csv')\n",
    "print(df)"
   ]
  },
  {
   "cell_type": "code",
   "execution_count": 66,
   "id": "ce16c045-ed69-4cfe-98aa-8ce9f60eee32",
   "metadata": {},
   "outputs": [
    {
     "name": "stdout",
     "output_type": "stream",
     "text": [
      "   #  Total                   Name Type 1  Type 2  HP  Attack  Defense  \\\n",
      "0  1    318              Bulbasaur  Grass  Poison  45      49       49   \n",
      "1  2    405                Ivysaur  Grass  Poison  60      62       63   \n",
      "2  3    525               Venusaur  Grass  Poison  80      82       83   \n",
      "3  3    625  VenusaurMega Venusaur  Grass  Poison  80     100      123   \n",
      "4  4    309             Charmander   Fire     NaN  39      52       43   \n",
      "\n",
      "   Sp. Atk  Sp. Def  Speed  Generation  \n",
      "0       65       65     45           1  \n",
      "1       80       80     60           1  \n",
      "2      100      100     80           1  \n",
      "3      122      120     80           1  \n",
      "4       60       50     65           1  \n"
     ]
    }
   ],
   "source": [
    "# df['Total'] = df['HP'] + df['Attack'] + df['Defense'] + df['Sp. Atk'] + df['Sp. Def'] +df['Speed']\n",
    "# df.head(5)\n",
    "# df.drop(columns='Total')\n",
    "\n",
    "# Another Way of creating new columns\n",
    "# df['Total'] = df.iloc[:,4:10].sum(axis = 1)\n",
    "# print(df.head(5))\n",
    "\n",
    "## Rearrange columns\n",
    "# cols = list(df.columns)\n",
    "# df = df[[cols[12]]+ cols[0:4] + cols[4:11]]\n",
    "\n",
    "df = df[[cols[1]] + [cols[0]] + cols[2:12]]\n",
    "print(df.head(5))\n"
   ]
  },
  {
   "cell_type": "markdown",
   "id": "a9815978-b94f-4c97-9c1a-148224cb61e2",
   "metadata": {},
   "source": [
    "### Exporting CSV\n"
   ]
  },
  {
   "cell_type": "code",
   "execution_count": 72,
   "id": "72c49d56-9120-439b-bc67-e101e771568f",
   "metadata": {},
   "outputs": [],
   "source": [
    "# df.to_csv('modified.csv',index = False)\n",
    "# df.to_excel('modified.xlsx',index = False)\n",
    "df.to_csv('modified.txt',index = False,sep='\\t')"
   ]
  },
  {
   "cell_type": "code",
   "execution_count": 56,
   "id": "699e42ce-7de4-45eb-8588-d12a77de92ec",
   "metadata": {},
   "outputs": [
    {
     "data": {
      "text/html": [
       "<div>\n",
       "<style scoped>\n",
       "    .dataframe tbody tr th:only-of-type {\n",
       "        vertical-align: middle;\n",
       "    }\n",
       "\n",
       "    .dataframe tbody tr th {\n",
       "        vertical-align: top;\n",
       "    }\n",
       "\n",
       "    .dataframe thead th {\n",
       "        text-align: right;\n",
       "    }\n",
       "</style>\n",
       "<table border=\"1\" class=\"dataframe\">\n",
       "  <thead>\n",
       "    <tr style=\"text-align: right;\">\n",
       "      <th></th>\n",
       "      <th>Attack</th>\n",
       "      <th>#</th>\n",
       "      <th>Name</th>\n",
       "      <th>Type 1</th>\n",
       "      <th>Type 2</th>\n",
       "      <th>HP</th>\n",
       "      <th>Attack</th>\n",
       "      <th>Defense</th>\n",
       "      <th>Sp. Atk</th>\n",
       "      <th>Sp. Def</th>\n",
       "      <th>Speed</th>\n",
       "      <th>Generation</th>\n",
       "      <th>Legendary</th>\n",
       "    </tr>\n",
       "  </thead>\n",
       "  <tbody>\n",
       "    <tr>\n",
       "      <th>0</th>\n",
       "      <td>49</td>\n",
       "      <td>1</td>\n",
       "      <td>Bulbasaur</td>\n",
       "      <td>Grass</td>\n",
       "      <td>Poison</td>\n",
       "      <td>45</td>\n",
       "      <td>49</td>\n",
       "      <td>49</td>\n",
       "      <td>65</td>\n",
       "      <td>65</td>\n",
       "      <td>45</td>\n",
       "      <td>1</td>\n",
       "      <td>False</td>\n",
       "    </tr>\n",
       "    <tr>\n",
       "      <th>1</th>\n",
       "      <td>62</td>\n",
       "      <td>2</td>\n",
       "      <td>Ivysaur</td>\n",
       "      <td>Grass</td>\n",
       "      <td>Poison</td>\n",
       "      <td>60</td>\n",
       "      <td>62</td>\n",
       "      <td>63</td>\n",
       "      <td>80</td>\n",
       "      <td>80</td>\n",
       "      <td>60</td>\n",
       "      <td>1</td>\n",
       "      <td>False</td>\n",
       "    </tr>\n",
       "    <tr>\n",
       "      <th>2</th>\n",
       "      <td>82</td>\n",
       "      <td>3</td>\n",
       "      <td>Venusaur</td>\n",
       "      <td>Grass</td>\n",
       "      <td>Poison</td>\n",
       "      <td>80</td>\n",
       "      <td>82</td>\n",
       "      <td>83</td>\n",
       "      <td>100</td>\n",
       "      <td>100</td>\n",
       "      <td>80</td>\n",
       "      <td>1</td>\n",
       "      <td>False</td>\n",
       "    </tr>\n",
       "    <tr>\n",
       "      <th>3</th>\n",
       "      <td>100</td>\n",
       "      <td>3</td>\n",
       "      <td>VenusaurMega Venusaur</td>\n",
       "      <td>Grass</td>\n",
       "      <td>Poison</td>\n",
       "      <td>80</td>\n",
       "      <td>100</td>\n",
       "      <td>123</td>\n",
       "      <td>122</td>\n",
       "      <td>120</td>\n",
       "      <td>80</td>\n",
       "      <td>1</td>\n",
       "      <td>False</td>\n",
       "    </tr>\n",
       "    <tr>\n",
       "      <th>4</th>\n",
       "      <td>52</td>\n",
       "      <td>4</td>\n",
       "      <td>Charmander</td>\n",
       "      <td>Fire</td>\n",
       "      <td>NaN</td>\n",
       "      <td>39</td>\n",
       "      <td>52</td>\n",
       "      <td>43</td>\n",
       "      <td>60</td>\n",
       "      <td>50</td>\n",
       "      <td>65</td>\n",
       "      <td>1</td>\n",
       "      <td>False</td>\n",
       "    </tr>\n",
       "  </tbody>\n",
       "</table>\n",
       "</div>"
      ],
      "text/plain": [
       "   Attack  #                   Name Type 1  Type 2  HP  Attack  Defense  \\\n",
       "0      49  1              Bulbasaur  Grass  Poison  45      49       49   \n",
       "1      62  2                Ivysaur  Grass  Poison  60      62       63   \n",
       "2      82  3               Venusaur  Grass  Poison  80      82       83   \n",
       "3     100  3  VenusaurMega Venusaur  Grass  Poison  80     100      123   \n",
       "4      52  4             Charmander   Fire     NaN  39      52       43   \n",
       "\n",
       "   Sp. Atk  Sp. Def  Speed  Generation  Legendary  \n",
       "0       65       65     45           1      False  \n",
       "1       80       80     60           1      False  \n",
       "2      100      100     80           1      False  \n",
       "3      122      120     80           1      False  \n",
       "4       60       50     65           1      False  "
      ]
     },
     "execution_count": 56,
     "metadata": {},
     "output_type": "execute_result"
    }
   ],
   "source": [
    "df.head(5)\n"
   ]
  },
  {
   "cell_type": "markdown",
   "id": "96eff072-3d13-4fb8-a769-997e44046f49",
   "metadata": {},
   "source": [
    "### INDEXING"
   ]
  },
  {
   "cell_type": "code",
   "execution_count": 39,
   "id": "77e25330-61a6-481c-a256-c213c051cff4",
   "metadata": {},
   "outputs": [
    {
     "name": "stdout",
     "output_type": "stream",
     "text": [
      "      Name  Age       City\n",
      "0    Alice   25       Pune\n",
      "1      Bob   30     Mumbai\n",
      "2  Charlie   35      Delhi\n",
      "3    David   40  Bangalore\n",
      "4      Eva   45    Chennai\n"
     ]
    },
    {
     "data": {
      "text/html": [
       "<div>\n",
       "<style scoped>\n",
       "    .dataframe tbody tr th:only-of-type {\n",
       "        vertical-align: middle;\n",
       "    }\n",
       "\n",
       "    .dataframe tbody tr th {\n",
       "        vertical-align: top;\n",
       "    }\n",
       "\n",
       "    .dataframe thead th {\n",
       "        text-align: right;\n",
       "    }\n",
       "</style>\n",
       "<table border=\"1\" class=\"dataframe\">\n",
       "  <thead>\n",
       "    <tr style=\"text-align: right;\">\n",
       "      <th></th>\n",
       "      <th>Name</th>\n",
       "      <th>Age</th>\n",
       "      <th>City</th>\n",
       "    </tr>\n",
       "  </thead>\n",
       "  <tbody>\n",
       "    <tr>\n",
       "      <th>0</th>\n",
       "      <td>Alice</td>\n",
       "      <td>25</td>\n",
       "      <td>Pune</td>\n",
       "    </tr>\n",
       "    <tr>\n",
       "      <th>1</th>\n",
       "      <td>Bob</td>\n",
       "      <td>30</td>\n",
       "      <td>Mumbai</td>\n",
       "    </tr>\n",
       "    <tr>\n",
       "      <th>2</th>\n",
       "      <td>Charlie</td>\n",
       "      <td>35</td>\n",
       "      <td>Delhi</td>\n",
       "    </tr>\n",
       "    <tr>\n",
       "      <th>3</th>\n",
       "      <td>David</td>\n",
       "      <td>40</td>\n",
       "      <td>Bangalore</td>\n",
       "    </tr>\n",
       "  </tbody>\n",
       "</table>\n",
       "</div>"
      ],
      "text/plain": [
       "      Name  Age       City\n",
       "0    Alice   25       Pune\n",
       "1      Bob   30     Mumbai\n",
       "2  Charlie   35      Delhi\n",
       "3    David   40  Bangalore"
      ]
     },
     "execution_count": 39,
     "metadata": {},
     "output_type": "execute_result"
    }
   ],
   "source": [
    "import pandas as pd\n",
    "\n",
    "data = {\n",
    "    'Name': ['Alice', 'Bob', 'Charlie', 'David', 'Eva'],\n",
    "    'Age': [25, 30, 35, 40, 45],\n",
    "    'City': ['Pune', 'Mumbai', 'Delhi', 'Bangalore', 'Chennai']\n",
    "}\n",
    "\n",
    "df = pd.DataFrame(data)\n",
    "print(df)\n",
    "df['Name']\n",
    "# df[['Name','Age']]\n",
    "# df.iloc[0:3]\n",
    "df.loc[0:3]"
   ]
  },
  {
   "cell_type": "code",
   "execution_count": 14,
   "id": "d7362ad5-436f-4d2f-b753-c0a7cb446718",
   "metadata": {},
   "outputs": [
    {
     "data": {
      "text/plain": [
       "Name        David\n",
       "Age            40\n",
       "City    Bangalore\n",
       "Name: 3, dtype: object"
      ]
     },
     "execution_count": 14,
     "metadata": {},
     "output_type": "execute_result"
    }
   ],
   "source": [
    "# df.loc[3]\n",
    "df.iloc[3]"
   ]
  },
  {
   "cell_type": "code",
   "execution_count": 45,
   "id": "85dd6064-822c-41fa-bafa-29174c5cc98a",
   "metadata": {},
   "outputs": [
    {
     "name": "stdout",
     "output_type": "stream",
     "text": [
      "  Name  Age\n",
      "e  Eva   28\n"
     ]
    }
   ],
   "source": [
    "df = pd.DataFrame({\n",
    "    'Name': ['Alice', 'Bob', 'Charlie', 'David', 'Eva'],\n",
    "    'Age': [25, 30, 35, 40, 28]\n",
    "}, index=['a', 'b', 'c', 'd', 'e'])\n",
    "# df1.loc['b']\n",
    "# df1.iloc[1]\n",
    "\n",
    "# print(df1.loc['b':'d'])\n",
    "# df.iloc[1]\n",
    "\n",
    "#  Select only the \"Age\" column\n",
    "df['Age']\n",
    "\n",
    "#  Select the 1st row using iloc\n",
    "df.iloc[0]\n",
    "\n",
    "#  Select the row where Name is 'Eva' using loc\n",
    "print(df[df['Name'] == 'Eva'])"
   ]
  },
  {
   "cell_type": "markdown",
   "id": "847c26b1-bddf-4355-8fe5-55f0fc1c76b9",
   "metadata": {},
   "source": [
    "### Slicing in Pandas"
   ]
  },
  {
   "cell_type": "code",
   "execution_count": 81,
   "id": "7af09ff2-05ab-4abf-8e79-e4da1605075b",
   "metadata": {},
   "outputs": [
    {
     "data": {
      "text/html": [
       "<div>\n",
       "<style scoped>\n",
       "    .dataframe tbody tr th:only-of-type {\n",
       "        vertical-align: middle;\n",
       "    }\n",
       "\n",
       "    .dataframe tbody tr th {\n",
       "        vertical-align: top;\n",
       "    }\n",
       "\n",
       "    .dataframe thead th {\n",
       "        text-align: right;\n",
       "    }\n",
       "</style>\n",
       "<table border=\"1\" class=\"dataframe\">\n",
       "  <thead>\n",
       "    <tr style=\"text-align: right;\">\n",
       "      <th></th>\n",
       "      <th>Name</th>\n",
       "      <th>Age</th>\n",
       "      <th>City</th>\n",
       "    </tr>\n",
       "  </thead>\n",
       "  <tbody>\n",
       "    <tr>\n",
       "      <th>b</th>\n",
       "      <td>Kanha</td>\n",
       "      <td>2</td>\n",
       "      <td>Vrindavan</td>\n",
       "    </tr>\n",
       "    <tr>\n",
       "      <th>c</th>\n",
       "      <td>Don</td>\n",
       "      <td>5</td>\n",
       "      <td>Nashik</td>\n",
       "    </tr>\n",
       "    <tr>\n",
       "      <th>d</th>\n",
       "      <td>Damodar</td>\n",
       "      <td>3</td>\n",
       "      <td>Nashik</td>\n",
       "    </tr>\n",
       "  </tbody>\n",
       "</table>\n",
       "</div>"
      ],
      "text/plain": [
       "      Name  Age       City\n",
       "b    Kanha    2  Vrindavan\n",
       "c      Don    5     Nashik\n",
       "d  Damodar    3     Nashik"
      ]
     },
     "execution_count": 81,
     "metadata": {},
     "output_type": "execute_result"
    }
   ],
   "source": [
    "df = pd.DataFrame({\n",
    "    'Name': ['Alice', 'Bob', 'Charlie', 'David', 'Eva'],\n",
    "    'Age': [25, 30, 35, 40, 28],\n",
    "    'City': ['Mumbai', 'Delhi', 'Pune', 'Chennai', 'Bangalore']\n",
    "})\n",
    "\n",
    "# Task 1: Get rows 1 to 3 and only 'Name' and 'Age' columns using iloc\n",
    "# Task 2: Get rows with label 'b' to 'd' using loc, if you set custom index\n",
    "# print(df)\n",
    "\n",
    "#  Task-1\n",
    "#df.iloc[1:4,0:2]\n",
    "\n",
    "#  Task-2\n",
    "data = { \n",
    "    'Name' : ['Pramod','Kanha','Don','Damodar','Savaliya','Radhu'],\n",
    "    'Age' : [31,2,5,3,3,2],\n",
    "    'City': ['Nashik','Vrindavan','Nashik','Nashik','Nashik','Barsana']\n",
    "}\n",
    "df = pd.DataFrame(data,index=['a','b','c','d','e','f'])\n",
    "# print(df)\n",
    "df.loc['b':'d']\n",
    "\n",
    "\n",
    "#   Column Slicing\n",
    "# df.iloc[:,0:2]"
   ]
  },
  {
   "cell_type": "markdown",
   "id": "818697c8-5370-450f-adc3-22a5d5b0173c",
   "metadata": {},
   "source": [
    "### Filtering in Pandas\n"
   ]
  },
  {
   "cell_type": "code",
   "execution_count": 95,
   "id": "280e2c2d-f9e6-472d-a189-af54e9350eee",
   "metadata": {},
   "outputs": [
    {
     "data": {
      "text/html": [
       "<div>\n",
       "<style scoped>\n",
       "    .dataframe tbody tr th:only-of-type {\n",
       "        vertical-align: middle;\n",
       "    }\n",
       "\n",
       "    .dataframe tbody tr th {\n",
       "        vertical-align: top;\n",
       "    }\n",
       "\n",
       "    .dataframe thead th {\n",
       "        text-align: right;\n",
       "    }\n",
       "</style>\n",
       "<table border=\"1\" class=\"dataframe\">\n",
       "  <thead>\n",
       "    <tr style=\"text-align: right;\">\n",
       "      <th></th>\n",
       "      <th>Name</th>\n",
       "      <th>Age</th>\n",
       "      <th>City</th>\n",
       "      <th>Salary</th>\n",
       "    </tr>\n",
       "  </thead>\n",
       "  <tbody>\n",
       "    <tr>\n",
       "      <th>0</th>\n",
       "      <td>Amit</td>\n",
       "      <td>22</td>\n",
       "      <td>Pune</td>\n",
       "      <td>30000</td>\n",
       "    </tr>\n",
       "    <tr>\n",
       "      <th>4</th>\n",
       "      <td>Esha</td>\n",
       "      <td>25</td>\n",
       "      <td>Pune</td>\n",
       "      <td>35000</td>\n",
       "    </tr>\n",
       "  </tbody>\n",
       "</table>\n",
       "</div>"
      ],
      "text/plain": [
       "   Name  Age  City  Salary\n",
       "0  Amit   22  Pune   30000\n",
       "4  Esha   25  Pune   35000"
      ]
     },
     "execution_count": 95,
     "metadata": {},
     "output_type": "execute_result"
    }
   ],
   "source": [
    "import pandas as pd\n",
    "data = {\n",
    "    'Name': ['Alice', 'Bob', 'Charlie', 'David', 'Eva'],\n",
    "    'Age': [25, 30, 35, 40, 28],\n",
    "    'City': ['Mumbai', 'Delhi', 'Pune', 'Chennai', 'Bangalore']\n",
    "}\n",
    "# df = pd.DataFrame(data)\n",
    "# #  Filter rows where Age > 30:\n",
    "# df[df['Age'] > 30]\n",
    "# #  Filter where City == 'Pune':\n",
    "# df[df['City'] == 'Pune']\n",
    "# # Filter using multiple conditions:\n",
    "# df[(df['Age'] > 30) | (df['City'] == 'Pune')]\n",
    "\n",
    "#  Filtering Assignment\n",
    "import pandas as pd\n",
    "\n",
    "data = {\n",
    "    'Name': ['Amit', 'Bhavna', 'Chetan', 'Divya', 'Esha', 'Farhan'],\n",
    "    'Age': [22, 34, 29, 41, 25, 38],\n",
    "    'City': ['Pune', 'Mumbai', 'Delhi', 'Chennai', 'Pune', 'Mumbai'],\n",
    "    'Salary': [30000, 55000, 48000, 70000, 35000, 60000]\n",
    "}\n",
    "\n",
    "df = pd.DataFrame(data)\n",
    "# Filter rows where Age > 30\n",
    "# Filter rows where City is Mumbai\n",
    "# Filter rows where Salary >= 50000 and Age < 40\n",
    "# Filter rows where City is Pune OR Salary < 40000\n",
    "df[df['Age'] > 30]\n",
    "df[df['City'] == 'Mumbai']\n",
    "df[(df['Salary'] >=50000) & (df['Age'] < 40)]\n",
    "df[(df['City'] == 'Pune') | (df['Salary'] < 40000)]\n",
    "\n",
    "\n",
    "\n"
   ]
  },
  {
   "cell_type": "markdown",
   "id": "3e53580d-a338-4c86-9692-a291948d9887",
   "metadata": {},
   "source": [
    "### Modifying Values"
   ]
  },
  {
   "cell_type": "code",
   "execution_count": 170,
   "id": "58e8dc59-848e-4a3c-b6f4-381fad5168c9",
   "metadata": {},
   "outputs": [
    {
     "name": "stdout",
     "output_type": "stream",
     "text": [
      "     Name  Age     City   Salary\n",
      "0    Amit   24     Pune  30000.0\n",
      "1  Bhavna   36   Mumbai  66550.0\n",
      "2  Chetan   31    Delhi  52800.0\n",
      "3   Divya   43  Chennai  84700.0\n",
      "4    Esha   27     Pune  35000.0\n",
      "5  Farhan   40   Mumbai  72600.0\n"
     ]
    }
   ],
   "source": [
    "import pandas as pd\n",
    "data = {\n",
    "    'Name': ['Amit', 'Neha', 'Raj', 'Sara'],\n",
    "    'City': ['Pune', 'Mumbai', 'Pune', 'Delhi'],\n",
    "    'Salary': [30000, 35000, 40000, 28000]\n",
    "}\n",
    "# df = pd.DataFrame(data)\n",
    "# print(df)\n",
    "\n",
    "# df.loc[2, 'Salary'] = 50000  # Updates salary of index 2 to 50,000\n",
    "\n",
    "# Increase salary by 2000 only for people in Pune\n",
    "# df.loc[df['City'] == 'Pune', 'Salary'] = df.loc[df['City'] == 'Pune', 'Salary'] + 2000\n",
    "# print(df)\n",
    "\n",
    "\n",
    "\n",
    "import pandas as pd\n",
    "data = {\n",
    "    'Name': ['Amit', 'Bhavna', 'Chetan', 'Divya', 'Esha', 'Farhan'],\n",
    "    'Age': [22, 34, 29, 41, 25, 38],\n",
    "    'City': ['Pune', 'Mumbai', 'Delhi', 'Chennai', 'Pune', 'Mumbai'],\n",
    "    'Salary': [30000, 55000, 48000, 70000, 35000, 60000]\n",
    "}\n",
    "# df = pd.DataFrame(data)\n",
    "# print(df)\n",
    "\n",
    "#  df.iloc[0, 1] = 23  # Updates row 0, column 1 (Age) to 23\n",
    "df.iloc[0,1] = 23\n",
    "# print(df)\n",
    "\n",
    "#  Replace all values in a column:\n",
    "df['Age'] = df['Age'] +1\n",
    "# print(df)\n",
    "\n",
    "# Try increasing salary by 10% for everyone older than 30\n",
    "df['Salary'] = df['Salary'].astype(float)\n",
    "df.loc[df['Age']> 30,'Salary'] *= 1.1\n",
    "print(df)\n"
   ]
  },
  {
   "cell_type": "markdown",
   "id": "e8762f96-0648-4097-8af9-e06e1a0728eb",
   "metadata": {},
   "source": [
    "### Creating New Columns"
   ]
  },
  {
   "cell_type": "code",
   "execution_count": 187,
   "id": "8eb7cf51-d91f-4ca7-8f1e-39bbe724a0f3",
   "metadata": {},
   "outputs": [
    {
     "name": "stdout",
     "output_type": "stream",
     "text": [
      "      Name  Salary  Bonus  Total_Pay  High_Earner Bonus_level Tax_Bracket\n",
      "0    Alice   50000   5000      55000        False         low         20%\n",
      "1      Bob   60000   6000      66000         True        High         20%\n",
      "2  Charlie   70000   7000      77000         True        High         30%\n"
     ]
    }
   ],
   "source": [
    "#  Using existing columns\n",
    "import pandas as pd\n",
    "\n",
    "# Sample DataFrame\n",
    "df = pd.DataFrame({\n",
    "    'Name': ['Alice', 'Bob', 'Charlie'],\n",
    "    'Salary': [50000, 60000, 70000],\n",
    "    'Bonus': [5000, 6000, 7000]\n",
    "})\n",
    "# Create new column 'Total_Pay' by summing 'Salary' and 'Bonus'\n",
    "df['Total_Pay'] = df['Salary'] + df['Bonus']\n",
    "# print(df)\n",
    "\n",
    "# Using conditions\n",
    "# Create column 'High_Earner' based on Salary\n",
    "df['High_Earner'] = df['Salary'] > 55000\n",
    "# print(df)\n",
    "\n",
    "#  apply() with custom logic\n",
    "# Custom label based on bonus\n",
    "# df['Bonus_Level'] = df['Bonus'].apply(lambda x: 'High' if x > 5500 else 'Low')\n",
    "# print(df)\n",
    "\n",
    "\n",
    "df['Bonus_level'] = df['Bonus'].apply(lambda x:'High' if x>5000 else 'low')\n",
    "#  np.where()\n",
    "import numpy as np\n",
    "df['Tax_Bracket'] = np.where(df['Salary'] > 60000,'30%','20%')\n",
    "print(df)\n",
    "\n"
   ]
  },
  {
   "cell_type": "markdown",
   "id": "1125f051-757e-4555-aa6c-32e3cf0542ab",
   "metadata": {},
   "source": [
    "### Assignment"
   ]
  },
  {
   "cell_type": "code",
   "execution_count": 218,
   "id": "ed0cf189-c62b-4d94-a883-4952fe3f0042",
   "metadata": {},
   "outputs": [
    {
     "name": "stdout",
     "output_type": "stream",
     "text": [
      "  Employee  Experience    CTC  Incentive\n",
      "0      Raj           2  35000       2000\n",
      "1   Simran           6  55000       3000\n",
      "2     Amit           4  48000       2500\n",
      "3    Priya           8  70000       4000\n",
      "4     Anil           3  40000       2200\n"
     ]
    }
   ],
   "source": [
    "import pandas as pd\n",
    "\n",
    "data = {\n",
    "    'Employee': ['Raj', 'Simran', 'Amit', 'Priya', 'Anil'],\n",
    "    'Experience': [2, 6, 4, 8, 3],\n",
    "    'CTC': [35000, 55000, 48000, 70000, 40000],\n",
    "    'Incentive': [2000, 3000, 2500, 4000, 2200]\n",
    "}\n",
    "\n",
    "df = pd.DataFrame(data)\n",
    "print(df)\n",
    "# For all employees with Experience > 5 years:\n",
    "# Increase CTC by 15%\n",
    "# Increase Incentive by ₹500\n",
    "df[['CTC', 'Incentive']] = df[['CTC', 'Incentive']].astype(float)\n",
    "\n",
    "# df.loc[df['Experience'] > 5,['CTC','Incentive']] = (\n",
    "#     df.loc[df['Experience'] > 5],['CTC','Incentive'] * [1.15,1.0]\n",
    "# ) + [0,500]\n",
    "\n",
    "df[['CTC', 'Incentive']] = df[['CTC', 'Incentive']].astype(float)\n",
    "df.loc[df['Experience'] > 5, ['CTC', 'Incentive']] = (\n",
    "    df.loc[df['Experience'] > 5, ['CTC', 'Incentive']] * [1.15, 1.0]\n",
    ") + [0, 500]\n"
   ]
  },
  {
   "cell_type": "code",
   "execution_count": null,
   "id": "f19093c3-b425-41a4-a187-0c9a611bce8e",
   "metadata": {},
   "outputs": [],
   "source": [
    "    "
   ]
  }
 ],
 "metadata": {
  "kernelspec": {
   "display_name": "Python [conda env:base] *",
   "language": "python",
   "name": "conda-base-py"
  },
  "language_info": {
   "codemirror_mode": {
    "name": "ipython",
    "version": 3
   },
   "file_extension": ".py",
   "mimetype": "text/x-python",
   "name": "python",
   "nbconvert_exporter": "python",
   "pygments_lexer": "ipython3",
   "version": "3.12.7"
  }
 },
 "nbformat": 4,
 "nbformat_minor": 5
}
