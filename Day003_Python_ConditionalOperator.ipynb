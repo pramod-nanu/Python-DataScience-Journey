{
 "cells": [
  {
   "cell_type": "code",
   "execution_count": 12,
   "id": "c23fc976-7b93-46a2-90bf-30fc5e73aa51",
   "metadata": {},
   "outputs": [
    {
     "name": "stdout",
     "output_type": "stream",
     "text": [
      "It's cool day\n",
      "Wear sweater\n"
     ]
    }
   ],
   "source": [
    "is_hot = False\n",
    "is_cold = True\n",
    "if is_hot:\n",
    "    print(\"It's hot day\")\n",
    "    print(\"Wear light clothes\")\n",
    "elif is_cold:\n",
    "    print(\"It's cool day\")\n",
    "    print(\"Wear sweater\")\n",
    "else:\n",
    "    print(\"You choose and it's Upto you\")\n",
    "\n",
    "    \n"
   ]
  },
  {
   "cell_type": "code",
   "execution_count": 21,
   "id": "b6973538-3797-48e4-bbc2-05b16d6be934",
   "metadata": {},
   "outputs": [
    {
     "name": "stdout",
     "output_type": "stream",
     "text": [
      "Not Eligible\n"
     ]
    }
   ],
   "source": [
    "#Logical Operaotor\n",
    "has_high_income = False\n",
    "has_good_credit = False\n",
    "if has_high_income or has_good_credit:\n",
    "    print(\"Eligible\")\n",
    "else:\n",
    "    print(\"Not Eligible\")"
   ]
  },
  {
   "cell_type": "code",
   "execution_count": 23,
   "id": "ca956158-4441-4684-8460-72fd045c162b",
   "metadata": {},
   "outputs": [
    {
     "name": "stdout",
     "output_type": "stream",
     "text": [
      "Odd Number\n"
     ]
    }
   ],
   "source": [
    "# Even or Odd tracker\n",
    "num = 31\n",
    "if num %2 == 0:\n",
    "    print(\"Even number\")\n",
    "else:\n",
    "    print(\"Odd Number\")"
   ]
  },
  {
   "cell_type": "code",
   "execution_count": 26,
   "id": "cf05a35f-9355-4529-b675-13863b6c5704",
   "metadata": {},
   "outputs": [
    {
     "name": "stdin",
     "output_type": "stream",
     "text": [
      "Enter first number 2\n",
      "Enter seocnd number 3\n",
      "Enter third number 3\n"
     ]
    },
    {
     "name": "stdout",
     "output_type": "stream",
     "text": [
      "Largest number is : 3\n"
     ]
    }
   ],
   "source": [
    "#Maximum of threee numbers\n",
    "a = int(input(\"Enter first number\"))\n",
    "b = int(input(\"Enter seocnd number\"))\n",
    "c = int(input(\"Enter third number\"))\n",
    "if a>=b and a>=c:\n",
    "    print(\"Largest number is :\",a)\n",
    "if b>=a and b>=c:\n",
    "    print(\"Largest number is :\",b)\n",
    "else:\n",
    "    print(\"Largest Number is :\",c)\n"
   ]
  },
  {
   "cell_type": "code",
   "execution_count": 36,
   "id": "77e4a34f-3780-4412-ad2d-ccc60e1b4493",
   "metadata": {},
   "outputs": [
    {
     "name": "stdin",
     "output_type": "stream",
     "text": [
      "Enter first number 23\n",
      "Enter second number 3\n",
      "Enter operator : +,-,*,/ /\n"
     ]
    },
    {
     "name": "stdout",
     "output_type": "stream",
     "text": [
      "Division is is  7\n"
     ]
    }
   ],
   "source": [
    "# Simple calculator\n",
    "num1 = int(input(\"Enter first number\"))\n",
    "num2 = int(input(\"Enter second number\"))\n",
    "op = input(\"Enter operator : +,-,*,/\")\n",
    "if(op =='+'):\n",
    "    print(\"Sum is :\",(num1+num2))\n",
    "if(op == '-'):\n",
    "    print(\"Difference is :\",(num1-num2))\n",
    "if(op == '*'):\n",
    "    print(\"Product is \",(num1*num2))\n",
    "if(op == '/'):\n",
    "    print(\"Division is is \",(num1//num2))\n",
    "else:\n",
    "    print(\"Invalid Operator\")"
   ]
  },
  {
   "cell_type": "code",
   "execution_count": 42,
   "id": "e7c5d811-2e46-411e-a590-ce6d48b197ee",
   "metadata": {},
   "outputs": [
    {
     "name": "stdin",
     "output_type": "stream",
     "text": [
      "Enter the year you want to check 2300\n"
     ]
    },
    {
     "name": "stdout",
     "output_type": "stream",
     "text": [
      "Not Leap year\n"
     ]
    }
   ],
   "source": [
    "#Leap Year checker\n",
    "year = int(input(\"Enter the year you want to check\"))\n",
    "if (year%4 ==0 and year%100 !=0) or year%400 == 0:\n",
    "    print(\"Leap year\")\n",
    "else:\n",
    "    print(\"Not Leap year\")\n",
    "\n"
   ]
  },
  {
   "cell_type": "code",
   "execution_count": 53,
   "id": "fe17d36a-6b36-43bd-b1a3-72a7cb578f5a",
   "metadata": {},
   "outputs": [
    {
     "name": "stdout",
     "output_type": "stream",
     "text": [
      "Non Palindrome number\n"
     ]
    }
   ],
   "source": [
    "# Palindrome Number\n",
    "num = 123\n",
    "num_str = str(num)\n",
    "if num_str== num_str[::-1]:\n",
    "    print(\"Palindrome Number\")\n",
    "else:\n",
    "    print(\"Non Palindrome number\")"
   ]
  },
  {
   "cell_type": "code",
   "execution_count": null,
   "id": "a87d5a5f-efd5-487a-af36-9c634d6ade04",
   "metadata": {},
   "outputs": [],
   "source": []
  }
 ],
 "metadata": {
  "kernelspec": {
   "display_name": "Python [conda env:base] *",
   "language": "python",
   "name": "conda-base-py"
  },
  "language_info": {
   "codemirror_mode": {
    "name": "ipython",
    "version": 3
   },
   "file_extension": ".py",
   "mimetype": "text/x-python",
   "name": "python",
   "nbconvert_exporter": "python",
   "pygments_lexer": "ipython3",
   "version": "3.12.7"
  }
 },
 "nbformat": 4,
 "nbformat_minor": 5
}
