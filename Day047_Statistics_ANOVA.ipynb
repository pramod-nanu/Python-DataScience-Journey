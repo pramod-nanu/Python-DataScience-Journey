{
 "cells": [
  {
   "cell_type": "markdown",
   "id": "faed79c7-45c9-42fe-8a0f-b628adeef6dd",
   "metadata": {},
   "source": [
    "### ANOVA \n",
    "Definition:\n",
    "ANOVA is a statistical test used to determine whether there are any statistically significant differences between the means of three or more independent groups."
   ]
  },
  {
   "cell_type": "markdown",
   "id": "714dfae3-0950-4b9b-9bf7-97502c60f1ef",
   "metadata": {},
   "source": [
    "### Why do we need ANOVA?\n",
    "\n",
    "If you have 2 groups, you can use a t-test.\n",
    "\n",
    "If you have 3 or more groups, doing multiple t-tests increases the risk of Type I error (false positives).\n",
    "\n",
    "ANOVA solves this by checking all groups at once."
   ]
  },
  {
   "cell_type": "markdown",
   "id": "d7ef158f-456e-4766-96a5-401bab0a82ee",
   "metadata": {},
   "source": [
    "### ANOVA doesn’t tell which group is different, only that a difference exists."
   ]
  },
  {
   "cell_type": "markdown",
   "id": "8d11df33-4f37-4767-9ed7-18e202bd5acd",
   "metadata": {},
   "source": [
    "### Hypotheses in ANOVA\n",
    "\n",
    "Null Hypothesis (H₀): All group means are equal\n",
    "=\n",
    "\n",
    "Alternative Hypothesis (H₁): At least one group mean is different"
   ]
  },
  {
   "cell_type": "markdown",
   "id": "c0bda70b-e1ce-409e-b74e-14fef644c0a8",
   "metadata": {},
   "source": [
    "### Why not multiple t-tests?\n",
    "Each t-test has a 5% chance (if α = 0.05) of incorrectly rejecting the null (false positive).\n",
    "\n",
    "More tests = more chances of error.\n",
    "With 3 comparisons, error rate ≈ 14%.\n",
    "\n",
    "With 6 comparisons (4 groups), error rate ≈ 26%."
   ]
  },
  {
   "cell_type": "markdown",
   "id": "6a168295-0baf-41a8-83ca-d8163b4841b2",
   "metadata": {},
   "source": [
    "Multiple t-tests → more false positives.\n",
    "\n",
    "ANOVA → one clean test, keeps error rate under control."
   ]
  },
  {
   "cell_type": "markdown",
   "id": "81c4e91b-9d69-4dcb-bbe6-89ede64ce278",
   "metadata": {},
   "source": [
    "### Null & Alternate Hypothesis in ANOVA."
   ]
  },
  {
   "cell_type": "markdown",
   "id": "5a2184a2-54d4-4e6c-a506-f64829c141f4",
   "metadata": {},
   "source": [
    "Null Hypothesis (H₀):\n",
    "All group means are equal.\n",
    "\n",
    "Alternative Hypothesis (H₁):\n",
    "At least one group mean is different."
   ]
  },
  {
   "cell_type": "markdown",
   "id": "e3be567c-8ff2-4703-becc-ca21ead46685",
   "metadata": {},
   "source": [
    "### Assumptions of ANOVA."
   ]
  },
  {
   "cell_type": "markdown",
   "id": "026ecdbc-71a3-44c7-acdf-326d5baa0f29",
   "metadata": {},
   "source": [
    "Independence of observations\n",
    "\n",
    "Normality\n",
    "\n",
    "Homogeneity of variances"
   ]
  },
  {
   "cell_type": "markdown",
   "id": "ff64e9f2-a165-463a-9b75-975831606347",
   "metadata": {},
   "source": [
    "What if assumptions are violated?\n",
    "\n",
    "If normality or equal variances don’t hold → use a non-parametric test instead, like Kruskal-Wallis test."
   ]
  },
  {
   "cell_type": "markdown",
   "id": "4aeca364-d7be-467d-acb2-5ea9bf482e27",
   "metadata": {},
   "source": [
    "ANOVA assumes → independent samples + normal distribution + equal variances"
   ]
  },
  {
   "cell_type": "markdown",
   "id": "a3888eb0-7cae-4fe0-87f9-45b32ac41634",
   "metadata": {},
   "source": [
    "### Types of ANOVA."
   ]
  },
  {
   "cell_type": "markdown",
   "id": "d977b7a3-e052-46b8-b7e1-4b3d9e4c5459",
   "metadata": {},
   "source": [
    "### One-Way ANOVA ✅ (what we’re learning today)\n",
    "\n",
    "Used when comparing means of 3 or more groups based on 1 independent variable (factor).\n",
    "\n",
    "Example: Compare exam scores across 3 teaching methods.\n",
    "\n",
    "Factor = teaching method.\n",
    "\n",
    "Groups = Method A, Method B, Method C."
   ]
  },
  {
   "cell_type": "markdown",
   "id": "6ee9e0ed-5ddd-4e61-ad8b-4b3e83f9e74d",
   "metadata": {},
   "source": [
    "### Two-Way ANOVA\n",
    "\n",
    "Used when comparing means across groups with 2 independent variables (factors).\n",
    "\n",
    "Example: Compare exam scores across teaching method (A, B, C) and gender (Male, Female).\n",
    "\n",
    "Factor 1 = teaching method.\n",
    "\n",
    "Factor 2 = gender.\n",
    "\n",
    "Can also test for interaction effect (does the effect of teaching method depend on gender?)."
   ]
  },
  {
   "cell_type": "code",
   "execution_count": 6,
   "id": "ace2f958-1f87-4cf4-921e-c27a08b2c63c",
   "metadata": {},
   "outputs": [
    {
     "name": "stdout",
     "output_type": "stream",
     "text": [
      "F-statistic: 14.517970401691326\n",
      "p-value: 0.000625318256583017\n",
      "Reject H0 → At least one group mean is different.\n"
     ]
    }
   ],
   "source": [
    "import numpy as np\n",
    "from scipy import stats\n",
    "\n",
    "# Sample data: exam scores for 3 teaching methods\n",
    "method_A = [85, 88, 90, 75, 95]\n",
    "method_B = [70, 65, 80, 72, 68]\n",
    "method_C = [88, 90, 92, 85, 87]\n",
    "\n",
    "# Perform one-way ANOVA\n",
    "f_stat, p_val = stats.f_oneway(method_A, method_B, method_C)\n",
    "print(\"F-statistic:\", f_stat)\n",
    "print(\"p-value:\", p_val)\n",
    "\n",
    "# Interpretation\n",
    "if p_val < 0.05:\n",
    "    print(\"Reject H0 → At least one group mean is different.\")\n",
    "else:\n",
    "    print(\"Fail to reject H0 → All group means are similar.\")"
   ]
  },
  {
   "cell_type": "code",
   "execution_count": null,
   "id": "a5a7e956-a5e8-467a-9827-f1a2d1c38db2",
   "metadata": {},
   "outputs": [],
   "source": []
  }
 ],
 "metadata": {
  "kernelspec": {
   "display_name": "Python [conda env:base] *",
   "language": "python",
   "name": "conda-base-py"
  },
  "language_info": {
   "codemirror_mode": {
    "name": "ipython",
    "version": 3
   },
   "file_extension": ".py",
   "mimetype": "text/x-python",
   "name": "python",
   "nbconvert_exporter": "python",
   "pygments_lexer": "ipython3",
   "version": "3.12.7"
  }
 },
 "nbformat": 4,
 "nbformat_minor": 5
}
