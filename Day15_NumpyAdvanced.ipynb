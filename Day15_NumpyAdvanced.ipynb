{
 "cells": [
  {
   "cell_type": "markdown",
   "id": "8fe8521b-4830-433a-8ee2-534fa8405190",
   "metadata": {},
   "source": [
    "### Reshape,Flatten\n",
    "\n"
   ]
  },
  {
   "cell_type": "code",
   "execution_count": 13,
   "id": "ca68bba2-0794-4927-987d-3bef4e84d2d4",
   "metadata": {},
   "outputs": [
    {
     "name": "stdout",
     "output_type": "stream",
     "text": [
      "[[1 2 3]\n",
      " [4 5 6]]\n",
      "Reshaping here : \n",
      " [[1 2 3 4 5 6]]\n",
      "Flatting here : \n",
      " [1 2 3 4 5 6]\n",
      "Transpose matrix is \n",
      " [[1 4]\n",
      " [2 5]\n",
      " [3 6]]\n"
     ]
    }
   ],
   "source": [
    "import numpy as np\n",
    "a = np.array([[1,2,3],[4,5,6]])\n",
    "print(a)\n",
    "print(\"Reshaping here : \\n\",a.reshape(1,6))\n",
    "print(\"Flatting here : \\n\",a.flatten())\n",
    "print(\"Transpose matrix is \\n\",a.T)\n"
   ]
  },
  {
   "cell_type": "code",
   "execution_count": 24,
   "id": "4b4dc286-b0eb-426b-9b46-edab37942807",
   "metadata": {},
   "outputs": [
    {
     "name": "stdout",
     "output_type": "stream",
     "text": [
      "Original array : \n",
      " [[ 1  2  3]\n",
      " [ 4 70  7]]\n",
      "Flatten array is : \n",
      " [   1 5000    3    4   70    7]\n",
      "Original after flatten : \n",
      " [[ 1  2  3]\n",
      " [ 4 70  7]]\n"
     ]
    }
   ],
   "source": [
    "# Flatten Array\n",
    "b = np.array([[1,2,3],[4,70,7]])\n",
    "print(\"Original array : \\n\",b)\n",
    "c = b.flatten()\n",
    "c[1] = 5000\n",
    "print(\"Flatten array is : \\n\",c)\n",
    "print(\"Original after flatten : \\n\",b)"
   ]
  },
  {
   "cell_type": "code",
   "execution_count": 25,
   "id": "829e79a6-ba9c-4a00-848d-08bec3c0fbff",
   "metadata": {},
   "outputs": [
    {
     "name": "stdout",
     "output_type": "stream",
     "text": [
      "Original array : \n",
      " [[ 1  2  3]\n",
      " [ 4 70  7]]\n",
      "Ravel array is : \n",
      " [   1 5000    3    4   70    7]\n",
      "Original after flatten : \n",
      " [[   1 5000    3]\n",
      " [   4   70    7]]\n"
     ]
    }
   ],
   "source": [
    "# Ravel Array\n",
    "b = np.array([[1,2,3],[4,70,7]])\n",
    "print(\"Original array : \\n\",b)\n",
    "c = b.ravel()\n",
    "c[1] = 5000\n",
    "print(\"Ravel array is : \\n\",c)\n",
    "print(\"Original after flatten : \\n\",b)"
   ]
  },
  {
   "cell_type": "markdown",
   "id": "6c8328d8-2eaf-44b7-92f6-1e6340eeb18c",
   "metadata": {},
   "source": [
    "### Stacking Arrays (Vertical & Horizontal)"
   ]
  },
  {
   "cell_type": "code",
   "execution_count": 45,
   "id": "9a89cd28-1979-4a50-9f00-60d82c170814",
   "metadata": {},
   "outputs": [
    {
     "name": "stdout",
     "output_type": "stream",
     "text": [
      "[10 20 30]\n",
      "[10 20 30 70 80 90]\n",
      "[[10 20 30]\n",
      " [70 80 90]]\n"
     ]
    }
   ],
   "source": [
    "a = np.array([10,20,30])\n",
    "b = np.array([70,80,90])\n",
    "print(a)\n",
    "print(np.hstack((a,b)))\n",
    "print(np.vstack((a,b)))"
   ]
  },
  {
   "cell_type": "markdown",
   "id": "19017a2c-14e1-4c63-8f66-5ab36e3638d6",
   "metadata": {},
   "source": [
    "### Splitting Arrays"
   ]
  },
  {
   "cell_type": "code",
   "execution_count": 64,
   "id": "71204aef-6866-47bd-8316-9a75e6a30a2e",
   "metadata": {},
   "outputs": [
    {
     "name": "stdout",
     "output_type": "stream",
     "text": [
      "A array is \n",
      " [10 20 30 40 50 60]\n",
      "A array After split :  [array([10, 20]), array([30, 40]), array([50, 60])]\n",
      "B array is \n",
      " [[ 1  2  3  4]\n",
      " [ 4 70  7 50]]\n",
      "B array after split : [array([[1, 2, 3, 4]]), array([[ 4, 70,  7, 50]])]\n",
      "Horizontla split is \n",
      " [array([10, 20]), array([30, 40]), array([50, 60])]\n",
      "Vertical Split is \n",
      " [array([[1, 2, 3, 4]]), array([[ 4, 70,  7, 50]])]\n"
     ]
    }
   ],
   "source": [
    "# np.split()\n",
    "a = np.array([10,20,30,40,50,60])\n",
    "print(\"A array is \\n\",a)\n",
    "print(\"A array After split : \",np.split(a,3))\n",
    "b = np.array([[1,2,3,4],[4,70,7,50]])\n",
    "print(\"B array is \\n\",b)\n",
    "print(\"B array after split :\",np.split(b,2))\n",
    "# Horizontal split\n",
    "resultH = np.hsplit(a,3)\n",
    "print(\"Horizontla split is \\n\",resultH)\n",
    "resultV = np.vsplit(b,2)\n",
    "print(\"Vertical Split is \\n\",resultV)\n"
   ]
  },
  {
   "cell_type": "markdown",
   "id": "d55d5a26-fe92-4910-83e8-2727eed7fb1c",
   "metadata": {},
   "source": [
    "### Practice Problems"
   ]
  },
  {
   "cell_type": "code",
   "execution_count": 66,
   "id": "288a1ba3-3abb-4083-85f8-fb72fb6fb11f",
   "metadata": {},
   "outputs": [
    {
     "name": "stdout",
     "output_type": "stream",
     "text": [
      "[[ 1  2  3  4]\n",
      " [ 5  6  7  8]\n",
      " [ 9 10 11 12]]\n"
     ]
    }
   ],
   "source": [
    "#Reshape 1D array of 12 elements to 3x4.\n",
    "a = np.array([1,2,3,4,5,6,7,8,9,10,11,12])\n",
    "print(a.reshape(3,4))"
   ]
  },
  {
   "cell_type": "code",
   "execution_count": 67,
   "id": "53308f3d-85c1-4272-8e48-a579abcceb2c",
   "metadata": {},
   "outputs": [
    {
     "name": "stdout",
     "output_type": "stream",
     "text": [
      "[1 2 3 4 5 6]\n"
     ]
    }
   ],
   "source": [
    "# * Flatten a 2D array to 1D.\n",
    "a = np.array([[1,2,3],[4,5,6]])\n",
    "print(a.flatten())"
   ]
  },
  {
   "cell_type": "code",
   "execution_count": 70,
   "id": "98c1c5a4-06f0-48db-beec-4a29d99261ed",
   "metadata": {},
   "outputs": [
    {
     "name": "stdout",
     "output_type": "stream",
     "text": [
      "[[1 2]\n",
      " [3 4]\n",
      " [5 6]]\n",
      "After Trasnpose : \n",
      " [[1 3 5]\n",
      " [2 4 6]]\n"
     ]
    }
   ],
   "source": [
    "# Transpose a 3x2 array.\n",
    "a = np.array([[1,2],[3,4],[5,6]])\n",
    "print(a)\n",
    "print(\"After Trasnpose : \\n\",a.T)"
   ]
  },
  {
   "cell_type": "code",
   "execution_count": 78,
   "id": "846589f5-d24c-43a5-bf53-49526418e940",
   "metadata": {},
   "outputs": [
    {
     "name": "stdout",
     "output_type": "stream",
     "text": [
      "[1 2 3 4 5 6]\n",
      "[[ 1  2  3  4 10 20 30 40]\n",
      " [ 4 70  7 50 40 70 70 50]]\n"
     ]
    }
   ],
   "source": [
    "# * Horizontally stack two arrays.\n",
    "a = np.array([1,2,3])\n",
    "b = np.array([4,5,6])\n",
    "print(np.hstack((a,b)))\n",
    "c = np.array([[1,2,3,4],[4,70,7,50]])\n",
    "d = np.array([[10,20,30,40],[40,70,70,50]])\n",
    "print(np.hstack((c,d)))"
   ]
  },
  {
   "cell_type": "code",
   "execution_count": 85,
   "id": "ddb4d6b1-894d-41c2-aac1-c653887ca862",
   "metadata": {},
   "outputs": [
    {
     "name": "stdout",
     "output_type": "stream",
     "text": [
      "[array([1, 2]), array([3, 4]), array([5, 6])]\n"
     ]
    }
   ],
   "source": [
    "# * Split a 1D array of 6 elements into 3 equal parts.\n",
    "a = np.array([1,2,3,4,5,6])\n",
    "print(np.split(a,3))\n"
   ]
  },
  {
   "cell_type": "code",
   "execution_count": 84,
   "id": "ca31f218-2729-44be-a393-39eb94ae6120",
   "metadata": {},
   "outputs": [
    {
     "name": "stdout",
     "output_type": "stream",
     "text": [
      "[array([1, 2]), array([3, 4]), array([5, 6])]\n"
     ]
    }
   ],
   "source": [
    "import numpy as np  # First, make sure numpy is imported\n",
    "\n",
    "# * Split a 1D array of 6 elements into 3 equal parts.\n",
    "a = np.array([1,2,3,4,5,6])\n",
    "# Use np.array_split() instead of a.split()\n",
    "# np.array_split() is the correct function to split numpy arrays\n",
    "print(np.array_split(a, 3))"
   ]
  },
  {
   "cell_type": "code",
   "execution_count": null,
   "id": "6a0e9dde-2a8b-49f0-9dbd-d7925da53c60",
   "metadata": {},
   "outputs": [],
   "source": []
  }
 ],
 "metadata": {
  "kernelspec": {
   "display_name": "Python [conda env:base] *",
   "language": "python",
   "name": "conda-base-py"
  },
  "language_info": {
   "codemirror_mode": {
    "name": "ipython",
    "version": 3
   },
   "file_extension": ".py",
   "mimetype": "text/x-python",
   "name": "python",
   "nbconvert_exporter": "python",
   "pygments_lexer": "ipython3",
   "version": "3.12.7"
  }
 },
 "nbformat": 4,
 "nbformat_minor": 5
}
