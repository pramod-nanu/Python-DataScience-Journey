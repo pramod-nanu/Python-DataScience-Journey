{
 "cells": [
  {
   "cell_type": "code",
   "execution_count": 88,
   "id": "e6a1247b-67ba-4ffa-9bb0-240b8d588134",
   "metadata": {},
   "outputs": [
    {
     "name": "stdout",
     "output_type": "stream",
     "text": [
      "The history saving thread hit an unexpected error (OperationalError('attempt to write a readonly database')).History will not be written to the database.\n"
     ]
    }
   ],
   "source": [
    "import pandas as pd\n",
    "# df = pd.read_csv('pokemon_data.csv')\n",
    "# print(df)\n",
    "# print(df.head(3))\n",
    "# print(df.tail(3))\n",
    "\n",
    "# df_xlsx= pd.read_excel('pokemon_data.xlsx')\n",
    "# print(df_xlsx.tail(3))\n",
    "\n",
    "# df_txt = pd.read_csv('pokemon_data.txt',delimiter = '\\t')\n",
    "# print(df_txt)"
   ]
  },
  {
   "cell_type": "code",
   "execution_count": 51,
   "id": "5d0fa384-a05d-4b5c-b2a3-820c75662fe2",
   "metadata": {},
   "outputs": [],
   "source": [
    "## Read Headers\n",
    "# print(df.columns)\n",
    "\n",
    "## Read Each Column\n",
    "# print(df['Name'][0:5])\n",
    "# print(df.Name[0:5])\n",
    "\n",
    "## Multiple Columns\n",
    "# print(df[['Name','Type 1','HP']][0:5])\n",
    "\n",
    "## Read Each Row\n",
    "# print(df.head(4))\n",
    "# print(df.iloc[1:4])\n",
    "# for index,row in df.iterrows():\n",
    "#     # print(index,row)\n",
    "#     print(index,row['Name'])\n",
    "# df.loc[df['Type 1'] == 'Rock']\n",
    "## read Specific location\n",
    "# print(df.iloc[1:4,1:3])\n"
   ]
  },
  {
   "cell_type": "markdown",
   "id": "722f3849-6784-4c17-b072-023f1e863a85",
   "metadata": {},
   "source": [
    "### Sorting/Describe  Data"
   ]
  },
  {
   "cell_type": "code",
   "execution_count": 74,
   "id": "dda0c277-c971-4fff-be2f-db4f7a748ef0",
   "metadata": {},
   "outputs": [],
   "source": [
    "# df.describe()\n",
    "# df.sort_values('Name',ascending = True)\n",
    "# df.sort_values('Name',ascending = False)\n",
    "\n",
    "# Multiple Columns\n",
    "# df.sort_values(['Name','HP'],ascending = False)\n",
    "# df.sort_values(['Name','HP'],ascending = [0,1])"
   ]
  },
  {
   "cell_type": "markdown",
   "id": "ba63a25e-d27e-4f01-8c77-c2c95cc9555c",
   "metadata": {},
   "source": [
    "### Making Changes to the Data"
   ]
  },
  {
   "cell_type": "code",
   "execution_count": 87,
   "id": "cbfed283-b199-4652-aa91-a1723c6c92e4",
   "metadata": {},
   "outputs": [
    {
     "data": {
      "text/html": [
       "<div>\n",
       "<style scoped>\n",
       "    .dataframe tbody tr th:only-of-type {\n",
       "        vertical-align: middle;\n",
       "    }\n",
       "\n",
       "    .dataframe tbody tr th {\n",
       "        vertical-align: top;\n",
       "    }\n",
       "\n",
       "    .dataframe thead th {\n",
       "        text-align: right;\n",
       "    }\n",
       "</style>\n",
       "<table border=\"1\" class=\"dataframe\">\n",
       "  <thead>\n",
       "    <tr style=\"text-align: right;\">\n",
       "      <th></th>\n",
       "      <th>#</th>\n",
       "      <th>Name</th>\n",
       "      <th>Type 1</th>\n",
       "      <th>Type 2</th>\n",
       "      <th>HP</th>\n",
       "      <th>Attack</th>\n",
       "      <th>Defense</th>\n",
       "      <th>Sp. Atk</th>\n",
       "      <th>Sp. Def</th>\n",
       "      <th>Speed</th>\n",
       "      <th>Generation</th>\n",
       "      <th>Legendary</th>\n",
       "      <th>Total</th>\n",
       "    </tr>\n",
       "  </thead>\n",
       "  <tbody>\n",
       "    <tr>\n",
       "      <th>0</th>\n",
       "      <td>1</td>\n",
       "      <td>Bulbasaur</td>\n",
       "      <td>Grass</td>\n",
       "      <td>Poison</td>\n",
       "      <td>45</td>\n",
       "      <td>49</td>\n",
       "      <td>49</td>\n",
       "      <td>65</td>\n",
       "      <td>65</td>\n",
       "      <td>45</td>\n",
       "      <td>1</td>\n",
       "      <td>False</td>\n",
       "      <td>318</td>\n",
       "    </tr>\n",
       "    <tr>\n",
       "      <th>1</th>\n",
       "      <td>2</td>\n",
       "      <td>Ivysaur</td>\n",
       "      <td>Grass</td>\n",
       "      <td>Poison</td>\n",
       "      <td>60</td>\n",
       "      <td>62</td>\n",
       "      <td>63</td>\n",
       "      <td>80</td>\n",
       "      <td>80</td>\n",
       "      <td>60</td>\n",
       "      <td>1</td>\n",
       "      <td>False</td>\n",
       "      <td>405</td>\n",
       "    </tr>\n",
       "    <tr>\n",
       "      <th>2</th>\n",
       "      <td>3</td>\n",
       "      <td>Venusaur</td>\n",
       "      <td>Grass</td>\n",
       "      <td>Poison</td>\n",
       "      <td>80</td>\n",
       "      <td>82</td>\n",
       "      <td>83</td>\n",
       "      <td>100</td>\n",
       "      <td>100</td>\n",
       "      <td>80</td>\n",
       "      <td>1</td>\n",
       "      <td>False</td>\n",
       "      <td>525</td>\n",
       "    </tr>\n",
       "    <tr>\n",
       "      <th>3</th>\n",
       "      <td>3</td>\n",
       "      <td>VenusaurMega Venusaur</td>\n",
       "      <td>Grass</td>\n",
       "      <td>Poison</td>\n",
       "      <td>80</td>\n",
       "      <td>100</td>\n",
       "      <td>123</td>\n",
       "      <td>122</td>\n",
       "      <td>120</td>\n",
       "      <td>80</td>\n",
       "      <td>1</td>\n",
       "      <td>False</td>\n",
       "      <td>625</td>\n",
       "    </tr>\n",
       "    <tr>\n",
       "      <th>4</th>\n",
       "      <td>4</td>\n",
       "      <td>Charmander</td>\n",
       "      <td>Fire</td>\n",
       "      <td>NaN</td>\n",
       "      <td>39</td>\n",
       "      <td>52</td>\n",
       "      <td>43</td>\n",
       "      <td>60</td>\n",
       "      <td>50</td>\n",
       "      <td>65</td>\n",
       "      <td>1</td>\n",
       "      <td>False</td>\n",
       "      <td>309</td>\n",
       "    </tr>\n",
       "  </tbody>\n",
       "</table>\n",
       "</div>"
      ],
      "text/plain": [
       "   #                   Name Type 1  Type 2  HP  Attack  Defense  Sp. Atk  \\\n",
       "0  1              Bulbasaur  Grass  Poison  45      49       49       65   \n",
       "1  2                Ivysaur  Grass  Poison  60      62       63       80   \n",
       "2  3               Venusaur  Grass  Poison  80      82       83      100   \n",
       "3  3  VenusaurMega Venusaur  Grass  Poison  80     100      123      122   \n",
       "4  4             Charmander   Fire     NaN  39      52       43       60   \n",
       "\n",
       "   Sp. Def  Speed  Generation  Legendary  Total  \n",
       "0       65     45           1      False    318  \n",
       "1       80     60           1      False    405  \n",
       "2      100     80           1      False    525  \n",
       "3      120     80           1      False    625  \n",
       "4       50     65           1      False    309  "
      ]
     },
     "execution_count": 87,
     "metadata": {},
     "output_type": "execute_result"
    }
   ],
   "source": [
    "# df.head(5)\n",
    "df['Total'] = df['HP'] + df['Attack'] + df['Defense'] + df['Sp. Atk'] + df['Sp. Def'] +df['Speed']\n",
    "df.head(5)\n",
    "\n"
   ]
  },
  {
   "cell_type": "markdown",
   "id": "9de78513-28b4-4986-8bd2-e3472433c383",
   "metadata": {},
   "source": [
    "### Pandas Series"
   ]
  },
  {
   "cell_type": "code",
   "execution_count": 8,
   "id": "fa0f4a1e-d2c2-4df7-b1f6-c1a63d32d15f",
   "metadata": {},
   "outputs": [
    {
     "name": "stdout",
     "output_type": "stream",
     "text": [
      "0    1\n",
      "1    2\n",
      "2    3\n",
      "dtype: int64\n",
      "a    10\n",
      "b    20\n",
      "c    30\n",
      "dtype: int64\n"
     ]
    }
   ],
   "source": [
    "import pandas as pd\n",
    "s = pd.Series([1,2,3])\n",
    "print(s)\n",
    "q = pd.Series([10, 20, 30], index=['a', 'b', 'c'])\n",
    "print(q)"
   ]
  },
  {
   "cell_type": "markdown",
   "id": "4b1c7f26-15ec-4539-8ce1-bf04129b538e",
   "metadata": {},
   "source": [
    "### Dataframe Basics"
   ]
  },
  {
   "cell_type": "code",
   "execution_count": 17,
   "id": "d4c778bc-3b50-404e-b9d7-3f0d566673c8",
   "metadata": {},
   "outputs": [
    {
     "name": "stdout",
     "output_type": "stream",
     "text": [
      "       Name    Subject  Marks\n",
      "0     Kanha      Maths     80\n",
      "1       Don  Geogrpahy    100\n",
      "2   Damodar    English     90\n",
      "3     Radhe    Marathi    110\n",
      "4  Savaliya      Hindi     50\n",
      "0       Kanha\n",
      "1         Don\n",
      "2     Damodar\n",
      "3       Radhe\n",
      "4    Savaliya\n",
      "Name: Name, dtype: object\n"
     ]
    }
   ],
   "source": [
    "# data = {\n",
    "#     'Name' : ['Pramod','Gaurav','Kanha'],\n",
    "#     'Age' : [31,22,5],\n",
    "#     'City': ['Jalgaon','Dahanu','Nashik']\n",
    "# }\n",
    "# df = pd.DataFrame(data)\n",
    "# print(df)\n",
    "\n",
    "student = {\n",
    "    'Name' : ['Kanha','Don','Damodar','Radhe','Savaliya'],\n",
    "    'Subject' : ['Maths','Geogrpahy','English','Marathi','Hindi'],\n",
    "    'Marks' : [80,100,90,110,50]\n",
    "}\n",
    "df = pd.DataFrame(student)\n",
    "print(df1)\n",
    "\n",
    "# Try accessing columns: df['Name']\n",
    "print(df1['Name'])"
   ]
  },
  {
   "cell_type": "code",
   "execution_count": 16,
   "id": "fdce5c8f-e4b4-4617-a2ba-47dda42173a5",
   "metadata": {},
   "outputs": [],
   "source": [
    "# 3. head() and tail()"
   ]
  },
  {
   "cell_type": "code",
   "execution_count": 29,
   "id": "a44fc61e-207b-4ed4-ad13-9530cb1c697d",
   "metadata": {},
   "outputs": [
    {
     "name": "stdout",
     "output_type": "stream",
     "text": [
      "<class 'pandas.core.frame.DataFrame'>\n",
      "RangeIndex: 5 entries, 0 to 4\n",
      "Data columns (total 3 columns):\n",
      " #   Column   Non-Null Count  Dtype \n",
      "---  ------   --------------  ----- \n",
      " 0   Name     5 non-null      object\n",
      " 1   Subject  5 non-null      object\n",
      " 2   Marks    5 non-null      int64 \n",
      "dtypes: int64(1), object(2)\n",
      "memory usage: 252.0+ bytes\n"
     ]
    },
    {
     "data": {
      "text/html": [
       "<div>\n",
       "<style scoped>\n",
       "    .dataframe tbody tr th:only-of-type {\n",
       "        vertical-align: middle;\n",
       "    }\n",
       "\n",
       "    .dataframe tbody tr th {\n",
       "        vertical-align: top;\n",
       "    }\n",
       "\n",
       "    .dataframe thead th {\n",
       "        text-align: right;\n",
       "    }\n",
       "</style>\n",
       "<table border=\"1\" class=\"dataframe\">\n",
       "  <thead>\n",
       "    <tr style=\"text-align: right;\">\n",
       "      <th></th>\n",
       "      <th>Marks</th>\n",
       "    </tr>\n",
       "  </thead>\n",
       "  <tbody>\n",
       "    <tr>\n",
       "      <th>count</th>\n",
       "      <td>5.000000</td>\n",
       "    </tr>\n",
       "    <tr>\n",
       "      <th>mean</th>\n",
       "      <td>86.000000</td>\n",
       "    </tr>\n",
       "    <tr>\n",
       "      <th>std</th>\n",
       "      <td>23.021729</td>\n",
       "    </tr>\n",
       "    <tr>\n",
       "      <th>min</th>\n",
       "      <td>50.000000</td>\n",
       "    </tr>\n",
       "    <tr>\n",
       "      <th>25%</th>\n",
       "      <td>80.000000</td>\n",
       "    </tr>\n",
       "    <tr>\n",
       "      <th>50%</th>\n",
       "      <td>90.000000</td>\n",
       "    </tr>\n",
       "    <tr>\n",
       "      <th>75%</th>\n",
       "      <td>100.000000</td>\n",
       "    </tr>\n",
       "    <tr>\n",
       "      <th>max</th>\n",
       "      <td>110.000000</td>\n",
       "    </tr>\n",
       "  </tbody>\n",
       "</table>\n",
       "</div>"
      ],
      "text/plain": [
       "            Marks\n",
       "count    5.000000\n",
       "mean    86.000000\n",
       "std     23.021729\n",
       "min     50.000000\n",
       "25%     80.000000\n",
       "50%     90.000000\n",
       "75%    100.000000\n",
       "max    110.000000"
      ]
     },
     "execution_count": 29,
     "metadata": {},
     "output_type": "execute_result"
    }
   ],
   "source": [
    "# df.head(3)\n",
    "# df.tail(2)\n",
    "df.info()\n",
    "df.describe()\n",
    "\n"
   ]
  },
  {
   "cell_type": "code",
   "execution_count": null,
   "id": "0ad243cf-72fa-4004-b98c-2efb5c384fe7",
   "metadata": {},
   "outputs": [],
   "source": []
  }
 ],
 "metadata": {
  "kernelspec": {
   "display_name": "Python [conda env:base] *",
   "language": "python",
   "name": "conda-base-py"
  },
  "language_info": {
   "codemirror_mode": {
    "name": "ipython",
    "version": 3
   },
   "file_extension": ".py",
   "mimetype": "text/x-python",
   "name": "python",
   "nbconvert_exporter": "python",
   "pygments_lexer": "ipython3",
   "version": "3.12.7"
  }
 },
 "nbformat": 4,
 "nbformat_minor": 5
}
