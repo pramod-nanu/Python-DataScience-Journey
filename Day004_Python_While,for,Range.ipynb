{
 "cells": [
  {
   "cell_type": "code",
   "execution_count": null,
   "id": "ac3f269f-b7af-43a2-8ccb-1f30b34ec2e9",
   "metadata": {},
   "outputs": [],
   "source": [
    "#Practice_1\n",
    "i = 1\n",
    "while(i<=5):\n",
    "    print(i)\n",
    "    i+=1\n",
    "print(\"Done !\")"
   ]
  },
  {
   "cell_type": "code",
   "execution_count": 5,
   "id": "89e7931c-6457-4e8f-9ec1-360639987824",
   "metadata": {},
   "outputs": [
    {
     "name": "stdout",
     "output_type": "stream",
     "text": [
      "*\n",
      "**\n",
      "***\n",
      "****\n",
      "*****\n",
      "Done !\n"
     ]
    }
   ],
   "source": [
    "#Practice_2\n",
    "i = 1\n",
    "while(i<=5):\n",
    "    print(i * '*')\n",
    "    i+=1\n",
    "print(\"Done !\")"
   ]
  },
  {
   "cell_type": "code",
   "execution_count": null,
   "id": "319f9e89-7f65-4bcf-9977-d0764758b11b",
   "metadata": {},
   "outputs": [],
   "source": [
    "#Guess Game\n",
    "right_number = 9\n",
    "guess_count = 0\n",
    "guess_limit = 3\n",
    "while(guess_count < guess_limit):\n",
    "    guess = int(input('Guess : '))\n",
    "    guess_count +=1\n",
    "    if guess == right_number:\n",
    "        print('You Won!!!')\n",
    "        break\n",
    "else:\n",
    "    print(\"Sorry, You Lose !!!\")\n",
    "    "
   ]
  },
  {
   "cell_type": "code",
   "execution_count": 2,
   "id": "8673604e-474c-4dec-af1b-8d3de9b2614a",
   "metadata": {},
   "outputs": [
    {
     "name": "stdin",
     "output_type": "stream",
     "text": [
      "> : quit\n"
     ]
    },
    {
     "name": "stdout",
     "output_type": "stream",
     "text": [
      "Quit the car\n"
     ]
    }
   ],
   "source": [
    "# Car Game\n",
    "command = \"\"\n",
    "while command != 'quit':\n",
    "    command = input('> :').lower()\n",
    "    if(command == 'start'):\n",
    "        print(\"car is started\")\n",
    "    elif(command == 'stop'):\n",
    "        print(\"Car is stopped\")\n",
    "    elif(command == 'help'):\n",
    "        print(\"\"\"\n",
    "start : To start the car\n",
    "stop : To stop the car\n",
    "quit : to quit the car \n",
    "        \"\"\")\n",
    "    elif(command == 'quit'):\n",
    "        print(\"Quit the car\")\n",
    "        break\n",
    "    else:\n",
    "        print(\"Oops,wrong input\")"
   ]
  },
  {
   "cell_type": "code",
   "execution_count": 1,
   "id": "10adfb8e-80bc-45fe-bbfd-15adfecd75db",
   "metadata": {},
   "outputs": [
    {
     "name": "stdout",
     "output_type": "stream",
     "text": [
      "1 \n",
      "2 2 \n",
      "3 3 3 \n",
      "4 4 4 4 \n"
     ]
    }
   ],
   "source": [
    "#Star pattern\n",
    "# for i in range(5):\n",
    "#     print(i * '*')\n",
    "\n",
    "# output \n",
    "# *\n",
    "# **\n",
    "# ***\n",
    "# ****\n",
    "\n",
    "#2 \n",
    "# for i in range(1,5):\n",
    "#     for j in range(i):\n",
    "#         print(i,end = ' ')\n",
    "#     print()\n",
    "\n",
    "# # output\n",
    "# 1 \n",
    "# 2 2 \n",
    "# 3 3 3 \n",
    "# 4 4 4 4 \n",
    "\n",
    "#3\n",
    "# rows = 4\n",
    "# for i in range(rows,0,-1):\n",
    "#     for j in range(1,i+1):\n",
    "#         print(j,end=' ')\n",
    "#     print()\n",
    "\n",
    "# 1 2 3 4\n",
    "# 1 2 3\n",
    "# 1 2\n",
    "# 1\n"
   ]
  },
  {
   "cell_type": "code",
   "execution_count": 4,
   "id": "c11ba242-195c-4c8a-8cf6-a57a6e2009d6",
   "metadata": {},
   "outputs": [
    {
     "name": "stdin",
     "output_type": "stream",
     "text": [
      "Enter the number you want to reverse:  1234\n"
     ]
    },
    {
     "name": "stdout",
     "output_type": "stream",
     "text": [
      "Reversed number is: 4321\n"
     ]
    }
   ],
   "source": [
    "# Reverse number\n",
    "num = int(input(\"Enter the number you want to reverse: \"))\n",
    "rev = 0\n",
    "\n",
    "while num != 0:\n",
    "    digit = num % 10\n",
    "    rev = rev * 10 + digit\n",
    "    num = num // 10\n",
    "\n",
    "print(\"Reversed number is:\", rev)"
   ]
  },
  {
   "cell_type": "code",
   "execution_count": 10,
   "id": "6db99e98-136a-435d-95ea-0645b68002c2",
   "metadata": {},
   "outputs": [
    {
     "name": "stdout",
     "output_type": "stream",
     "text": [
      "1 2 3 4 5 6 7 8 9 10 11 12 13 14 15 16 17 18 19 2 4 6 8 10 12 14 16 18 \n",
      "0 1 2 3 4 5 6 7 8 9 10 11 12 13 14 15 16 17 18 19 \n",
      "120\n"
     ]
    }
   ],
   "source": [
    "# Programs\n",
    "#Print numbers from 1 to 10\n",
    "for i in range(1,20):\n",
    "    print(i,end=' ')\n",
    "\n",
    "#Print even numbers from 1 to 20\n",
    "for i in range(2,20,2):\n",
    "    print(i,end=' ')\n",
    "print()\n",
    "\n",
    "# Sum of numbers from 1 to n\n",
    "total = 0\n",
    "n = 20\n",
    "for i in range(n):\n",
    "    print(i,end = ' ')\n",
    "    total += i\n",
    "print()\n",
    "    \n",
    "\n",
    "# Factorial of a number (with for loop)\n",
    "num = 5\n",
    "product = 1\n",
    "for i in range(1,num+1):\n",
    "    product = product * i\n",
    "print(product)"
   ]
  },
  {
   "cell_type": "code",
   "execution_count": 13,
   "id": "4e4f5f7b-4bd1-4785-a968-92653f30e47b",
   "metadata": {},
   "outputs": [
    {
     "name": "stdout",
     "output_type": "stream",
     "text": [
      "XXXXX\n",
      "XX\n",
      "XXXXX\n",
      "XX\n",
      "XX\n"
     ]
    }
   ],
   "source": [
    "#Nested loops\n",
    "numbers = [5,2,5,2,2]\n",
    "for count in numbers:\n",
    "    output = ''\n",
    "    for item in range(count):\n",
    "        output += 'X'\n",
    "    print(output)"
   ]
  },
  {
   "cell_type": "code",
   "execution_count": null,
   "id": "b38e4a6a-cf25-4c01-b830-9bfadc63a750",
   "metadata": {},
   "outputs": [],
   "source": []
  }
 ],
 "metadata": {
  "kernelspec": {
   "display_name": "Python [conda env:base] *",
   "language": "python",
   "name": "conda-base-py"
  },
  "language_info": {
   "codemirror_mode": {
    "name": "ipython",
    "version": 3
   },
   "file_extension": ".py",
   "mimetype": "text/x-python",
   "name": "python",
   "nbconvert_exporter": "python",
   "pygments_lexer": "ipython3",
   "version": "3.12.7"
  }
 },
 "nbformat": 4,
 "nbformat_minor": 5
}
