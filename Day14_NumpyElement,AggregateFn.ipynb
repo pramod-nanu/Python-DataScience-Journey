{
 "cells": [
  {
   "cell_type": "markdown",
   "id": "a9419f9d-5ccd-4014-9921-daca31eb4dd6",
   "metadata": {},
   "source": [
    "### Add, Subtract, Multiply, Divide\n"
   ]
  },
  {
   "cell_type": "code",
   "execution_count": 3,
   "id": "71e50876-35d2-414d-8190-1097d16831d1",
   "metadata": {},
   "outputs": [
    {
     "name": "stdout",
     "output_type": "stream",
     "text": [
      "Sum is :  [ 6  8 10 12]\n",
      "Difference is :  [-4 -4 -4 -4]\n",
      "Product is :  [ 5 12 21 32]\n",
      "Division is :  [0.2        0.33333333 0.42857143 0.5       ]\n"
     ]
    }
   ],
   "source": [
    "import numpy as np\n",
    "a = np.array([1,2,3,4])\n",
    "b = np.array([5,6,7,8])\n",
    "print(\"Sum is : \",a+b)\n",
    "print(\"Difference is : \",a-b)\n",
    "print(\"Product is : \",a*b)\n",
    "print(\"Division is : \",a/b)"
   ]
  },
  {
   "cell_type": "markdown",
   "id": "8189c418-78ad-4d95-99a6-0871cb75fcf4",
   "metadata": {},
   "source": [
    "### Aggregate Functions"
   ]
  },
  {
   "cell_type": "code",
   "execution_count": 16,
   "id": "9f602cc7-a4f9-4fbb-9446-2e5728c666e6",
   "metadata": {},
   "outputs": [
    {
     "name": "stdout",
     "output_type": "stream",
     "text": [
      "Sum is : 21\n",
      "Mean is :  3.5\n",
      "Median is :  3.5\n",
      "Max element is :  6\n",
      "Min element is :  1\n"
     ]
    }
   ],
   "source": [
    "arr = np.array([[1, 2, 3], [4, 5, 6]])\n",
    "print(\"Sum is :\",np.sum(arr))\n",
    "print(\"Mean is : \",np.mean(arr))\n",
    "print(\"Median is : \",np.median(arr))\n",
    "print(\"Max element is : \",np.max(arr))\n",
    "print(\"Min element is : \",np.min(arr))\n"
   ]
  },
  {
   "cell_type": "markdown",
   "id": "cb12da48-9602-4baa-9a25-a16d4bd9d4f4",
   "metadata": {},
   "source": [
    "### Axis-based Ops"
   ]
  },
  {
   "cell_type": "code",
   "execution_count": 53,
   "id": "3266bea8-064c-4038-91bd-b2ec2266ef4e",
   "metadata": {},
   "outputs": [
    {
     "name": "stdout",
     "output_type": "stream",
     "text": [
      "[[ 1 10  3]\n",
      " [ 4  5  6]]\n",
      "Sum across columns is :  [ 5 15  9]\n",
      "Sum across rows is :  [14 15]\n",
      "Maximum element across column :  [ 4 10  6]\n",
      "Maximum element across rows :  [10  6]\n"
     ]
    }
   ],
   "source": [
    "arr = np.array([[1, 10, 3], [4, 5, 6]])\n",
    "print(arr)\n",
    "print(\"Sum across columns is : \",np.sum(arr,axis = 0))\n",
    "print(\"Sum across rows is : \",np.sum(arr,axis=1))\n",
    "print(\"Maximum element across column : \",np.max(arr,axis=0))\n",
    "print(\"Maximum element across rows : \",np.max(arr,axis=1))"
   ]
  },
  {
   "cell_type": "markdown",
   "id": "f55996c4-6b8a-4dfa-b639-0b102378c564",
   "metadata": {},
   "source": [
    "### Comparison Ops"
   ]
  },
  {
   "cell_type": "code",
   "execution_count": 23,
   "id": "97c3b855-bb62-438e-976a-df5fd05c2b3c",
   "metadata": {},
   "outputs": [
    {
     "name": "stdout",
     "output_type": "stream",
     "text": [
      "[False False  True  True  True]\n",
      "[False  True False False False]\n",
      "[ True  True  True False  True]\n",
      "[[False False False]\n",
      " [ True  True  True]]\n"
     ]
    }
   ],
   "source": [
    "arr = np.array([2, 4, 6, 8, 10])\n",
    "print(arr>5)\n",
    "print(arr==4)\n",
    "print(arr != 8)\n",
    "arr2d = np.array([[1, 3, 5], [7, 9, 11]])\n",
    "print(arr2d > 5)"
   ]
  },
  {
   "cell_type": "markdown",
   "id": "ed54bd91-0083-4d67-a155-3e025809d032",
   "metadata": {},
   "source": [
    "### Boolean Indexing"
   ]
  },
  {
   "cell_type": "code",
   "execution_count": 25,
   "id": "21e25fff-5df8-40f5-9018-efad82d19871",
   "metadata": {},
   "outputs": [
    {
     "name": "stdout",
     "output_type": "stream",
     "text": [
      "[ 6  8 10]\n",
      "[False False  True  True  True]\n"
     ]
    }
   ],
   "source": [
    "arr = np.array([2, 4, 6, 8, 10])\n",
    "print(arr[arr > 5])  # [6 8 10]\n",
    "print(arr>5)\n"
   ]
  },
  {
   "cell_type": "markdown",
   "id": "f73b5451-c545-449b-90ed-6733143e20d7",
   "metadata": {},
   "source": [
    "### Logical Ops\n"
   ]
  },
  {
   "cell_type": "code",
   "execution_count": 44,
   "id": "9eb396e4-bc61-493a-a6b1-3ff861ff9255",
   "metadata": {},
   "outputs": [
    {
     "name": "stdout",
     "output_type": "stream",
     "text": [
      "[False  True  True  True False]\n",
      "[ 6  8 10]\n",
      "[ True  True  True  True  True]\n",
      "[ 4  6  8 10 12]\n",
      "[ True False False False False]\n",
      "[4]\n"
     ]
    }
   ],
   "source": [
    "arr = np.array([4, 6, 8, 10, 12])\n",
    "result_AND = np.logical_and(arr > 5,arr < 12)\n",
    "print(result_AND)\n",
    "print(arr[result_AND])\n",
    "result_OR = np.logical_or(arr>5,arr<12)\n",
    "print(result_OR)\n",
    "print(arr[result_OR])\n",
    "result_not = np.logical_not(arr>5)\n",
    "print(result_not)\n",
    "print(arr[result_not])"
   ]
  },
  {
   "cell_type": "markdown",
   "id": "0c9ad0cb-9ca6-432c-912a-dc61f822d69e",
   "metadata": {},
   "source": [
    "### np.any() and np.all()"
   ]
  },
  {
   "cell_type": "code",
   "execution_count": 47,
   "id": "4d8ebeff-f245-4cbc-9f0a-99462447413c",
   "metadata": {},
   "outputs": [
    {
     "name": "stdout",
     "output_type": "stream",
     "text": [
      "False\n",
      "True\n"
     ]
    }
   ],
   "source": [
    "arr = np.array([2, 4, 6, 8])\n",
    "print(np.all(arr > 5))\n",
    "print(np.any(arr>5))"
   ]
  },
  {
   "cell_type": "markdown",
   "id": "e827beb6-6d90-4758-a03f-4a3f1dfeae4b",
   "metadata": {},
   "source": [
    "### Compare two arrays and return True where elements are equal"
   ]
  },
  {
   "cell_type": "code",
   "execution_count": 56,
   "id": "7ce56d6f-b9a3-4304-9fb4-d7e738ea6095",
   "metadata": {},
   "outputs": [
    {
     "name": "stdout",
     "output_type": "stream",
     "text": [
      "[ True False  True False  True]\n",
      "[1 3 5]\n"
     ]
    }
   ],
   "source": [
    "import numpy as np\n",
    "\n",
    "# Two arrays\n",
    "a = np.array([1, 2, 3, 4, 5])\n",
    "b = np.array([1, 0, 3, 7, 5])\n",
    "print(a==b)\n",
    "print(a[a==b])"
   ]
  },
  {
   "cell_type": "code",
   "execution_count": null,
   "id": "aa8803ea-2cdc-4770-9807-6b780db7ab8e",
   "metadata": {},
   "outputs": [],
   "source": []
  }
 ],
 "metadata": {
  "kernelspec": {
   "display_name": "Python [conda env:base] *",
   "language": "python",
   "name": "conda-base-py"
  },
  "language_info": {
   "codemirror_mode": {
    "name": "ipython",
    "version": 3
   },
   "file_extension": ".py",
   "mimetype": "text/x-python",
   "name": "python",
   "nbconvert_exporter": "python",
   "pygments_lexer": "ipython3",
   "version": "3.12.7"
  }
 },
 "nbformat": 4,
 "nbformat_minor": 5
}
