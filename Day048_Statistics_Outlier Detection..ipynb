{
 "cells": [
  {
   "cell_type": "markdown",
   "id": "8c8d69f1-1ba5-4d1f-b718-77abfbc08138",
   "metadata": {},
   "source": [
    "### Outlier Detection."
   ]
  },
  {
   "cell_type": "markdown",
   "id": "f6770c09-c39f-4e54-b42f-18bcee930ba8",
   "metadata": {},
   "source": [
    "What is an Outlier?\n",
    "\n",
    "An outlier is a data point that is very different from the majority of the data.\n",
    "It “stands out” because it’s unusually high or low compared to the rest.\n",
    "\n",
    "Examples:\n",
    "\n",
    "In a class of students, most scores are between 50–80, but one student scores 0 or 100 → those are outliers."
   ]
  },
  {
   "cell_type": "markdown",
   "id": "0de27d4d-2f7b-42c2-a017-9889a40e65a9",
   "metadata": {},
   "source": [
    "Why Detect/Remove Outliers?\n",
    "\n",
    "They can distort statistical measures\n",
    "\n",
    "Mean (average) becomes misleading.\n",
    "\n",
    "Standard deviation becomes inflated."
   ]
  },
  {
   "cell_type": "markdown",
   "id": "26a15802-150e-45af-92c7-e39a20c25d85",
   "metadata": {},
   "source": [
    "Z = X - u/6 \n",
    "6 is sigma\n",
    "u is mean \n",
    "6 is std deviation"
   ]
  },
  {
   "cell_type": "markdown",
   "id": "1ac17764-3dc7-4b05-a14f-b762a718ada5",
   "metadata": {},
   "source": [
    "### Topic 2: IQR (Interquartile Range) Method."
   ]
  },
  {
   "cell_type": "markdown",
   "id": "e89ea8f3-6e69-4263-8634-511d680566da",
   "metadata": {},
   "source": [
    "QR Method Basics\n",
    "\n",
    "Q1 = 25th percentile (value below which 25% of data lies)\n",
    "\n",
    "Q3 = 75th percentile (value below which 75% of data lies)\n",
    "\n",
    "IQR = Q3 – Q1\n",
    "\n",
    "📌 Rule for Outliers:\n",
    "\n",
    "Any value < Q1 – 1.5 × IQR → Lower Outlier\n",
    "\n",
    "Any value > Q3 + 1.5 × IQR → Upper Outlier"
   ]
  },
  {
   "cell_type": "code",
   "execution_count": 19,
   "id": "67a11ad9-fd63-40ab-a31a-1cd034e36ad9",
   "metadata": {},
   "outputs": [
    {
     "name": "stdout",
     "output_type": "stream",
     "text": [
      "📌 Dataset WITH Outlier Flag:\n",
      "   score  outlier_iqr\n",
      "0     70        False\n",
      "1     72        False\n",
      "2     68        False\n",
      "3     74        False\n",
      "4     71        False\n",
      "5     73        False\n",
      "6     69        False\n",
      "7     75        False\n",
      "8     72        False\n",
      "9    100         True\n"
     ]
    }
   ],
   "source": [
    "import pandas as pd\n",
    "\n",
    "# Step 1: Dataset with an outlier\n",
    "scores = [70, 72, 68, 74, 71, 73, 69, 75, 72, 100]\n",
    "df = pd.DataFrame(scores, columns=['score'])\n",
    "\n",
    "# Step 2: Calculate Q1, Q3, and IQR\n",
    "Q1 = df['score'].quantile(0.25)\n",
    "Q3 = df['score'].quantile(0.75)\n",
    "IQR = Q3 - Q1\n",
    "\n",
    "# Step 3: Define bounds\n",
    "lower_bound = Q1 - 1.5 * IQR\n",
    "upper_bound = Q3 + 1.5 * IQR\n",
    "\n",
    "# Step 4: Detect outliers\n",
    "df['outlier_iqr'] = df['score'].apply(lambda x: x < lower_bound or x > upper_bound)\n",
    "\n",
    "print(\"📌 Dataset WITH Outlier Flag:\")\n",
    "print(df)\n",
    "\n",
    "# Step 5: Remove outliers\n",
    "df_no_outliers = df[~df['outlier_iqr']]\n",
    "\n",
    "print(\"\\n📌 Dataset AFTER Removing Outliers:\")\n",
    "print(df_no_outliers)\n",
    "\n",
    "\n"
   ]
  },
  {
   "cell_type": "code",
   "execution_count": null,
   "id": "90240789-d05e-4d79-8c41-e907b291fda5",
   "metadata": {},
   "outputs": [],
   "source": []
  }
 ],
 "metadata": {
  "kernelspec": {
   "display_name": "Python [conda env:base] *",
   "language": "python",
   "name": "conda-base-py"
  },
  "language_info": {
   "codemirror_mode": {
    "name": "ipython",
    "version": 3
   },
   "file_extension": ".py",
   "mimetype": "text/x-python",
   "name": "python",
   "nbconvert_exporter": "python",
   "pygments_lexer": "ipython3",
   "version": "3.12.7"
  }
 },
 "nbformat": 4,
 "nbformat_minor": 5
}
