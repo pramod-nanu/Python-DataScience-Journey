{
 "cells": [
  {
   "cell_type": "markdown",
   "id": "be674171-e72e-4d74-b761-075f5a731b68",
   "metadata": {},
   "source": [
    "### Indexing (1D & 2D)"
   ]
  },
  {
   "cell_type": "code",
   "execution_count": 3,
   "id": "5358a76e-6b84-428f-b4eb-4dc690265120",
   "metadata": {},
   "outputs": [
    {
     "name": "stdout",
     "output_type": "stream",
     "text": [
      "5\n"
     ]
    }
   ],
   "source": [
    "# 1D exasmple\n",
    "import numpy as np\n",
    "a = np.array([1,2,3,4,5])\n",
    "print(a[4])"
   ]
  },
  {
   "cell_type": "code",
   "execution_count": 6,
   "id": "678a1c3b-2f5f-4736-84e7-137e991a4f01",
   "metadata": {},
   "outputs": [
    {
     "name": "stdout",
     "output_type": "stream",
     "text": [
      "[[1 2 3]\n",
      " [4 5 6]]\n",
      "5\n"
     ]
    }
   ],
   "source": [
    "# 2D example\n",
    "a = np.array([[1,2,3],[4,5,6]])\n",
    "print(a)\n",
    "print(a[1,1])"
   ]
  },
  {
   "cell_type": "markdown",
   "id": "df8be5c5-2edc-4daa-a332-d8bb6357e35b",
   "metadata": {},
   "source": [
    "### Slicing"
   ]
  },
  {
   "cell_type": "code",
   "execution_count": 20,
   "id": "d85fe53e-67cf-45c9-ac9f-0125aee0834c",
   "metadata": {},
   "outputs": [
    {
     "name": "stdout",
     "output_type": "stream",
     "text": [
      "[1 2]\n",
      "[[ 1  2  3  4  5]\n",
      " [ 6  7  8  9 10]\n",
      " [11 12 13 14 15]]\n",
      "[[ 3  4  5]\n",
      " [ 8  9 10]\n",
      " [13 14 15]]\n"
     ]
    }
   ],
   "source": [
    "a = np.array([1,2,3,4,5])\n",
    "print(a[0:2])\n",
    "b = np.array([[1,2,3,4,5],[6,7,8,9,10],[11,12,13,14,15]])\n",
    "print(b)\n",
    "print(b[0:3,2:5])\n"
   ]
  },
  {
   "cell_type": "markdown",
   "id": "c6627978-aec1-458b-9d3b-4aa39cd211ac",
   "metadata": {},
   "source": [
    "### Boolean Indexing"
   ]
  },
  {
   "cell_type": "code",
   "execution_count": 24,
   "id": "9776854a-27fc-44e8-9b3f-5cdaf1e8d3e2",
   "metadata": {},
   "outputs": [
    {
     "name": "stdout",
     "output_type": "stream",
     "text": [
      "[1]\n"
     ]
    }
   ],
   "source": [
    "a = np.array([1,2,3,4,5])\n",
    "print(a[a<2])"
   ]
  },
  {
   "cell_type": "markdown",
   "id": "e887b045-092b-4ab1-9f88-12d65871812c",
   "metadata": {},
   "source": [
    "### Update values using condition"
   ]
  },
  {
   "cell_type": "code",
   "execution_count": 27,
   "id": "212a6d4b-7b05-40f6-bf3a-14df9aeb9b72",
   "metadata": {},
   "outputs": [
    {
     "name": "stdout",
     "output_type": "stream",
     "text": [
      "[0 2 3 4 5]\n"
     ]
    }
   ],
   "source": [
    "a = np.array([1,2,3,4,5])\n",
    "a[a<2] = 0\n",
    "print(a)"
   ]
  },
  {
   "cell_type": "markdown",
   "id": "df19fd0a-f5c9-424a-a502-18d386d11c1d",
   "metadata": {},
   "source": [
    "### Iterating arrays"
   ]
  },
  {
   "cell_type": "code",
   "execution_count": 33,
   "id": "2a3c0689-fdd8-4d78-8ff4-276783afdf63",
   "metadata": {},
   "outputs": [
    {
     "name": "stdout",
     "output_type": "stream",
     "text": [
      "1 2 3 4 5 "
     ]
    }
   ],
   "source": [
    "# Loop through array elements.\n",
    "# 1D array\n",
    "a = np.array([1,2,3,4,5])\n",
    "for i in a:\n",
    "    print(i,end=' ')"
   ]
  },
  {
   "cell_type": "code",
   "execution_count": 45,
   "id": "6220ca06-aa73-4a97-b5b4-5bfbe22ac783",
   "metadata": {},
   "outputs": [
    {
     "name": "stdout",
     "output_type": "stream",
     "text": [
      "[[ 1  2  3  4  5]\n",
      " [ 6  7  8  9 10]]\n",
      "2\n",
      "5\n",
      "1 2 3 4 5 \n",
      "6 7 8 9 10 \n"
     ]
    }
   ],
   "source": [
    "# Loop through array elements.\n",
    "# 2D array\n",
    "a = np.array([[1,2,3,4,5],[6,7,8,9,10]])\n",
    "print(a)\n",
    "print(a.shape[0])\n",
    "print(a.shape[1])\n",
    "for i in range(a.shape[0]):\n",
    "    for j in range(b.shape[1]):\n",
    "        print(a[i][j],end = ' ')\n",
    "    print()\n",
    "    "
   ]
  },
  {
   "cell_type": "markdown",
   "id": "80ad1c87-0228-4f2c-9681-c178a19cf538",
   "metadata": {},
   "source": [
    "# Practice Problems\n"
   ]
  },
  {
   "cell_type": "code",
   "execution_count": 63,
   "id": "40d01828-8749-4453-9d15-f1c47797c266",
   "metadata": {},
   "outputs": [
    {
     "name": "stdout",
     "output_type": "stream",
     "text": [
      "[[1 2 3]\n",
      " [4 5 6]]\n",
      "First Row is :  [1 2 3]\n",
      "First column is :  [1 4]\n",
      "All Second Column is : [3 6]\n",
      "All Elements >5 : [6]\n"
     ]
    }
   ],
   "source": [
    "# 1\n",
    "#. Create a 2D array and:\n",
    "#    * Print the first row\n",
    "#   * Print the second column\n",
    "#  * Print all elements > 5\n",
    "a = np.array([[1,2,3],[4,5,6]])\n",
    "print(a)\n",
    "print(\"First Row is : \",a[0,:])\n",
    "print(\"First column is : \",a[:,0])\n",
    "print(\"All Second Column is :\",a[:,2])\n",
    "print(\"All Elements >5 :\",a[a>5])"
   ]
  },
  {
   "cell_type": "code",
   "execution_count": 64,
   "id": "8409291c-ad7e-4102-82e0-ac5302130e92",
   "metadata": {},
   "outputs": [
    {
     "name": "stdout",
     "output_type": "stream",
     "text": [
      "[-1  2 -1  4 -1]\n"
     ]
    }
   ],
   "source": [
    "# 2\n",
    "# 2. Replace all odd numbers in an array with -1\n",
    "a = np.array([1,2,3,4,5])\n",
    "a[a % 2 != 0] = -1\n",
    "print(a)"
   ]
  },
  {
   "cell_type": "code",
   "execution_count": 67,
   "id": "805455f8-9f81-4f89-9927-2f5531d22fc8",
   "metadata": {},
   "outputs": [
    {
     "name": "stdout",
     "output_type": "stream",
     "text": [
      "[[1 2 3]\n",
      " [4 5 6]\n",
      " [7 8 9]]\n",
      "[1 5 9]\n"
     ]
    }
   ],
   "source": [
    "# 3. \n",
    "# c3. Create a 3x3 matrix and print its diagonal\n",
    "a = np.array([[1,2,3],[4,5,6],[7,8,9]])\n",
    "print(a)\n",
    "print(np.diag(a))\n"
   ]
  },
  {
   "cell_type": "code",
   "execution_count": 71,
   "id": "f63deaf9-d069-4161-a1a6-bb6b8d09503e",
   "metadata": {},
   "outputs": [
    {
     "name": "stdout",
     "output_type": "stream",
     "text": [
      "1   0 0\n",
      "2   0 1\n",
      "3   0 2\n",
      "4   1 0\n",
      "5   1 1\n",
      "6   1 2\n"
     ]
    }
   ],
   "source": [
    "# Iterate over a 2D array and print each element with \n",
    "# its position  (row, col)\n",
    "a = np.array([[1,2,3],[4,5,6]])\n",
    "for i in range(a.shape[0]):\n",
    "    for j in range(a.shape[1]):\n",
    "        print(a[i][j], \" \", i,j)"
   ]
  },
  {
   "cell_type": "code",
   "execution_count": 85,
   "id": "61aa024e-b62c-4ff3-b7a1-b9a75d84d8b8",
   "metadata": {},
   "outputs": [
    {
     "name": "stdout",
     "output_type": "stream",
     "text": [
      "[1 2 3 4 5]\n",
      "[ 8  9 10]\n",
      "[1 3 5 7 9]\n"
     ]
    }
   ],
   "source": [
    "# 5. Create a 1D array of 10 elements. Slice:\n",
    "# * First 5 elements\n",
    "#   * Last 3 elements\n",
    "#   * Every 2nd element\n",
    "a = np.array([1,2,3,4,5,6,7,8,9,10])\n",
    "print(a[:5])\n",
    "print(a[-3:])\n",
    "print(a[::2])"
   ]
  },
  {
   "cell_type": "code",
   "execution_count": null,
   "id": "b4d26a47-b6f2-4688-8670-d596e363bc4b",
   "metadata": {},
   "outputs": [],
   "source": []
  }
 ],
 "metadata": {
  "kernelspec": {
   "display_name": "Python [conda env:base] *",
   "language": "python",
   "name": "conda-base-py"
  },
  "language_info": {
   "codemirror_mode": {
    "name": "ipython",
    "version": 3
   },
   "file_extension": ".py",
   "mimetype": "text/x-python",
   "name": "python",
   "nbconvert_exporter": "python",
   "pygments_lexer": "ipython3",
   "version": "3.12.7"
  }
 },
 "nbformat": 4,
 "nbformat_minor": 5
}
