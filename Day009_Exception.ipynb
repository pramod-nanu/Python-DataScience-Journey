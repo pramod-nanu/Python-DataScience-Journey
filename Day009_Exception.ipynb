{
 "cells": [
  {
   "cell_type": "code",
   "execution_count": null,
   "id": "223933a1-b6c3-4804-9b1b-729154973b3f",
   "metadata": {},
   "outputs": [],
   "source": [
    "# Basic\n",
    "# num = input(\"Enter a number :\")\n",
    "# print(f\"Multiplication of {num} is as below\")\n",
    "# try :\n",
    "#     for i in range(1,11):\n",
    "#         print(f\"{int(num)} * {i} = {int(num) * i}\")\n",
    "# except Exception as e: \n",
    "#     print(e)\n",
    "\n",
    "# print(\"Important line of code\")\n",
    "\n",
    "try:\n",
    "    num = int(input(\"Enter a number : \"))\n",
    "    a = [6,3]\n",
    "    if num == 7 :\n",
    "        raise Exception\n",
    "    print(a[num])\n",
    "    if num == 7 :\n",
    "        raise Exception\n",
    "except IndexError:\n",
    "    print(\"INdexError Exception is handled\")\n",
    "except Exception:\n",
    "    print(\"Raised exception is handle here\")\n",
    "\n",
    "else :\n",
    "    print(\"I am in Else block,executes only when Try not throws any exception\")\n",
    "finally:\n",
    "    print(\"I am in finally block,always executes\")\n",
    "print(\"Important line of code\")\n",
    "\n",
    "\n",
    "# output\n",
    "# Enter a number : 7\n",
    "# Raised exception is handle here\n",
    "# I am in finally block,always executes\n",
    "# Important line of code\n"
   ]
  },
  {
   "cell_type": "code",
   "execution_count": null,
   "id": "4f456c98-f9b2-446a-95ec-a839cecb9a68",
   "metadata": {},
   "outputs": [],
   "source": [
    "#a file that doesn't exist and handle the exception.\n",
    "try:\n",
    "    f = open('abc..py','r')\n",
    "    print(f.read())\n",
    "    f.close()\n",
    "except FileNotFoundError:\n",
    "    print(\"Enter present file only\")\n",
    "    "
   ]
  },
  {
   "cell_type": "code",
   "execution_count": null,
   "id": "8eeaab29-8f5c-4d72-8d60-95382d7f6fc9",
   "metadata": {},
   "outputs": [],
   "source": [
    "# Ask user to enter a number. If input is not a number, \n",
    "# catch the exception and show a message.\n",
    "try : \n",
    "    num = int(input(\"Enter a number : \"))\n",
    "    print(f\"You entered valid number {num}\")\n",
    "except ValueError:\n",
    "    print(\"Enter valid number only You Stupid\")\n"
   ]
  },
  {
   "cell_type": "code",
   "execution_count": null,
   "id": "a2c210ab-4eb1-4a40-a1ac-e3d2e5cc4858",
   "metadata": {},
   "outputs": [],
   "source": [
    "#Write a program that divides two numbers and \n",
    "# handles divide-by-zero exception.\n",
    "\n",
    "num1 = int(input(\"Enter first number : \"))\n",
    "num2 = int(input(\"Enter Second Number : \"))\n",
    "try :\n",
    "    print(int(num1/num2))\n",
    "\n",
    "except ZeroDivisionError:\n",
    "    print(\"Can not divide by zero\")\n",
    "except Exception:\n",
    "    print(\"Give proper inputs\")"
   ]
  },
  {
   "cell_type": "code",
   "execution_count": null,
   "id": "f49f195e-f291-4b60-9090-58fa1f8cfea4",
   "metadata": {},
   "outputs": [],
   "source": [
    "#Raise a custom exception if age entered is below 18.\n",
    "try:\n",
    "    age = int(input(\"Enter your age : \"))\n",
    "    if age < 18:\n",
    "        raise Exception(\"Invalid Age stupid,Enter age which are above 18\")\n",
    "    print(\"Valid Age\")\n",
    "except Exception as e:\n",
    "    print(e)"
   ]
  },
  {
   "cell_type": "code",
   "execution_count": null,
   "id": "7abe9109-329a-4ebf-9341-ab1d7835af7b",
   "metadata": {},
   "outputs": [],
   "source": [
    "#Use try-except-else-finally \n",
    "#to handle a banking withdrawal scenario.\n",
    "\n",
    "balance = 5000\n",
    "try:\n",
    "    amount = int(input(\"Enter amount to be withdrawn : \"))\n",
    "    if(amount > balance):\n",
    "        raise ValueError(\"Insufficient Balance\")\n",
    "    elif(amount <=0):\n",
    "        raise ValueError(\"Enter positive amount\")\n",
    "except ValueError as e:\n",
    "    print(f\"Error is : {e}\")\n",
    "else:\n",
    "    balance -= amount\n",
    "    print(f\"Withdrawn Successfully ! Your balance is {balance}\")\n",
    "finally :\n",
    "    print(\"Thank you for banking with us!!!\")\n"
   ]
  }
 ],
 "metadata": {
  "kernelspec": {
   "display_name": "Python [conda env:base] *",
   "language": "python",
   "name": "conda-base-py"
  },
  "language_info": {
   "codemirror_mode": {
    "name": "ipython",
    "version": 3
   },
   "file_extension": ".py",
   "mimetype": "text/x-python",
   "name": "python",
   "nbconvert_exporter": "python",
   "pygments_lexer": "ipython3",
   "version": "3.12.7"
  }
 },
 "nbformat": 4,
 "nbformat_minor": 5
}
