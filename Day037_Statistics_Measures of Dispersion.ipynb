{
 "cells": [
  {
   "cell_type": "markdown",
   "id": "c05f77e1-09f1-466e-aa69-99b6edd3f0ae",
   "metadata": {},
   "source": [
    "### Measures of Dispersion\n",
    "Range"
   ]
  },
  {
   "cell_type": "markdown",
   "id": "7b76bc88-1008-4f9d-83da-5132a06dc0da",
   "metadata": {},
   "source": [
    "Range=Maximum Value−Minimum Value\n",
    "\n",
    "Not good fo extreme outliers\n",
    "\n",
    "Dataset:\n",
    "5, 7, 10, 15, 20\n",
    "\n",
    "Max value = 20\n",
    "\n",
    "Min value = 5\n",
    "\n",
    "Range = 20 − 5 = 15"
   ]
  },
  {
   "cell_type": "code",
   "execution_count": 4,
   "id": "676d520a-7021-4a34-9570-b7e9e0854b95",
   "metadata": {},
   "outputs": [
    {
     "name": "stdout",
     "output_type": "stream",
     "text": [
      "Range is : 10\n"
     ]
    }
   ],
   "source": [
    "import numpy as np\n",
    "data = np.array([5,7,10,12,15])\n",
    "data_range = np.max(data) - np.min(data)\n",
    "print(\"Range is :\",data_range)"
   ]
  },
  {
   "cell_type": "markdown",
   "id": "e5660650-88b6-41a1-9ae0-774f0f5daab1",
   "metadata": {},
   "source": [
    "### Variance\n",
    "how far the data points are spread out from the mean."
   ]
  },
  {
   "cell_type": "code",
   "execution_count": 11,
   "id": "ec6316d3-62ad-4a52-9798-5a19872f3702",
   "metadata": {},
   "outputs": [
    {
     "name": "stdout",
     "output_type": "stream",
     "text": [
      "78.92813148851113\n"
     ]
    }
   ],
   "source": [
    "import numpy as np\n",
    "import seaborn as sns\n",
    "tips = sns.load_dataset('tips')\n",
    "variance = np.var(tips['total_bill'],ddof = 0)\n",
    "print(variance)"
   ]
  },
  {
   "cell_type": "markdown",
   "id": "bc49b45f-93d9-46c2-9e1a-c19d1c33abb0",
   "metadata": {},
   "source": [
    "### Standard Deviation (SD)\n",
    "Standard Deviation is the square root of variance."
   ]
  },
  {
   "cell_type": "code",
   "execution_count": 16,
   "id": "3406e105-75ac-4e53-86f3-f97131092c35",
   "metadata": {},
   "outputs": [
    {
     "name": "stdout",
     "output_type": "stream",
     "text": [
      "8.88415057777113\n"
     ]
    }
   ],
   "source": [
    "import seaborn as sns\n",
    "import numpy as np\n",
    "tips = sns.load_dataset('tips')\n",
    "std_deviation = np.std(tips['total_bill'])\n",
    "print(std_deviation)"
   ]
  },
  {
   "cell_type": "code",
   "execution_count": 28,
   "id": "1668d87b-0ab5-4de5-858c-d00c2453ad57",
   "metadata": {},
   "outputs": [
    {
     "name": "stdout",
     "output_type": "stream",
     "text": [
      "count    244.000000\n",
      "mean      19.785943\n",
      "std        8.902412\n",
      "min        3.070000\n",
      "25%       13.347500\n",
      "50%       17.795000\n",
      "75%       24.127500\n",
      "max       50.810000\n",
      "Name: total_bill, dtype: float64\n"
     ]
    }
   ],
   "source": [
    "### Using Pandas\n",
    "import pandas as pd\n",
    "import seaborn as sns\n",
    "# Load dataset\n",
    "tips = sns.load_dataset(\"tips\")\n",
    "std_sample = tips['total_bill'].std(ddof = 1)\n",
    "#print(std_sample)\n",
    "print(tips['total_bill'].describe())"
   ]
  },
  {
   "cell_type": "markdown",
   "id": "d728738f-017f-4ee2-b1e6-71f74421594b",
   "metadata": {},
   "source": [
    "### Interquartile Range (IQR)\n",
    "IQR measures the spread of the middle 50% of the data.\n",
    "It is calculated as:\n",
    "\n",
    "IQR=Q3−Q1\n",
    "where:\n",
    "\n",
    "Q1 = 25th percentile\n",
    "\n",
    "Q3 = 75th percentile\n",
    "\n",
    "not affected by extreme values (outliers) like range is.\n"
   ]
  },
  {
   "cell_type": "code",
   "execution_count": 41,
   "id": "94fdcc3b-86e6-4201-bd7f-a6a49f47c46e",
   "metadata": {},
   "outputs": [
    {
     "name": "stdout",
     "output_type": "stream",
     "text": [
      "10.779999999999998\n",
      "9\n",
      "     total_bill    tip     sex smoker   day    time  size\n",
      "59        48.27   6.73    Male     No   Sat  Dinner     4\n",
      "102       44.30   2.50  Female    Yes   Sat  Dinner     3\n",
      "142       41.19   5.00    Male     No  Thur   Lunch     5\n",
      "156       48.17   5.00    Male     No   Sun  Dinner     6\n",
      "170       50.81  10.00    Male    Yes   Sat  Dinner     3\n",
      "182       45.35   3.50    Male    Yes   Sun  Dinner     3\n",
      "184       40.55   3.00    Male    Yes   Sun  Dinner     2\n",
      "197       43.11   5.00  Female    Yes  Thur   Lunch     4\n",
      "212       48.33   9.00    Male     No   Sat  Dinner     4\n"
     ]
    }
   ],
   "source": [
    "import seaborn as sns\n",
    "import pandas as pd\n",
    "tips = sns.load_dataset(\"tips\")\n",
    "q1 = tips['total_bill'].quantile(0.25)\n",
    "q3 = tips['total_bill'].quantile(0.75)\n",
    "IQR = q3- q1\n",
    "print(IQR)\n",
    "\n",
    "# Detect Outliers\n",
    "lower_bound = q1- 1.5* IQR\n",
    "upper_bound = q3 + 1.5* IQR\n",
    "outliers = tips[(tips['total_bill'] < lower_bound) | (tips['total_bill'] > upper_bound)]\n",
    "print(len(outliers))\n",
    "print(outliers)"
   ]
  },
  {
   "cell_type": "code",
   "execution_count": null,
   "id": "441ffd8e-d86d-4c56-b519-36e3306a62ed",
   "metadata": {},
   "outputs": [],
   "source": []
  }
 ],
 "metadata": {
  "kernelspec": {
   "display_name": "Python [conda env:base] *",
   "language": "python",
   "name": "conda-base-py"
  },
  "language_info": {
   "codemirror_mode": {
    "name": "ipython",
    "version": 3
   },
   "file_extension": ".py",
   "mimetype": "text/x-python",
   "name": "python",
   "nbconvert_exporter": "python",
   "pygments_lexer": "ipython3",
   "version": "3.12.7"
  }
 },
 "nbformat": 4,
 "nbformat_minor": 5
}
