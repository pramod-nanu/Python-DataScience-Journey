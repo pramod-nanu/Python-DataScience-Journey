{
 "cells": [
  {
   "cell_type": "code",
   "execution_count": 20,
   "id": "16523c26-d6bb-4c1f-bc27-e08e1796f941",
   "metadata": {},
   "outputs": [
    {
     "name": "stdout",
     "output_type": "stream",
     "text": [
      "14\n",
      "PYTHON FOR ME1\n",
      "python for me1\n",
      "-1\n",
      "Python for you1\n",
      "False\n",
      "Python For Me1\n"
     ]
    }
   ],
   "source": [
    "\n",
    "course = 'Python for me1'\n",
    "print(len(course))\n",
    "print(course.upper())\n",
    "print(course.lower())\n",
    "print(course.find('N'))\n",
    "print(course.replace('me','you'))\n",
    "print('python' in  course)\n",
    "print(course.title())\n"
   ]
  },
  {
   "cell_type": "code",
   "execution_count": 24,
   "id": "6f004d95-8cc1-4326-86a1-10238bd9003c",
   "metadata": {},
   "outputs": [
    {
     "name": "stdout",
     "output_type": "stream",
     "text": [
      "13\n",
      "3.3333333333333335\n",
      "3\n",
      "1\n",
      "1000\n",
      "3\n",
      "2.9\n"
     ]
    }
   ],
   "source": [
    "\n",
    "x = 10\n",
    "x += 3 \n",
    "print(x)\n",
    "print(10/3)\n",
    "print(10//3)\n",
    "print(10%3)\n",
    "print(10**3)\n",
    "y = 2.9\n",
    "print(round(y))\n",
    "print(abs(-2.9))"
   ]
  },
  {
   "cell_type": "code",
   "execution_count": 27,
   "id": "70fdb0bd-d6b0-4a4e-bcf5-caa7c5954d5b",
   "metadata": {},
   "outputs": [
    {
     "name": "stdout",
     "output_type": "stream",
     "text": [
      "3\n",
      "2\n"
     ]
    }
   ],
   "source": [
    "import math\n",
    "print(math.ceil(2.9))\n",
    "print(math.floor(2.9))"
   ]
  },
  {
   "cell_type": "code",
   "execution_count": 29,
   "id": "7e055dca-769c-4df7-9086-91bbff0d4d59",
   "metadata": {},
   "outputs": [
    {
     "name": "stdin",
     "output_type": "stream",
     "text": [
      "Enter your name Pramod\n"
     ]
    },
    {
     "name": "stdout",
     "output_type": "stream",
     "text": [
      "Welcome Pramod ! Your name has 6 character\n"
     ]
    }
   ],
   "source": [
    "# String Length Checker\n",
    "name = input(\"Enter your name\")\n",
    "print(f\"Welcome {name} ! Your name has {len(name)} character\")"
   ]
  },
  {
   "cell_type": "code",
   "execution_count": 34,
   "id": "35235e30-dd4c-4d71-a8a2-e88a65d3560f",
   "metadata": {},
   "outputs": [
    {
     "name": "stdin",
     "output_type": "stream",
     "text": [
      "Enter your first number 23\n",
      "Enter your second number 20\n"
     ]
    },
    {
     "name": "stdout",
     "output_type": "stream",
     "text": [
      "Sum is :  43\n",
      "Difference is :  3.0\n"
     ]
    }
   ],
   "source": [
    "# Arithmatic Operator\n",
    "num1 = float(input(\"Enter your first number\"))\n",
    "num2 = float(input(\"Enter your second number\"))\n",
    "print(\"Sum is : \",(int(num1+num2)))\n",
    "print(\"Difference is : \",(num1-num2))"
   ]
  },
  {
   "cell_type": "code",
   "execution_count": 38,
   "id": "a0cece3d-bd25-4d02-8939-aa894182b1b4",
   "metadata": {},
   "outputs": [
    {
     "name": "stdin",
     "output_type": "stream",
     "text": [
      "Enter your number 24\n"
     ]
    },
    {
     "name": "stdout",
     "output_type": "stream",
     "text": [
      "Even number\n"
     ]
    }
   ],
   "source": [
    "# If else operator\n",
    "num = int(input(\"Enter your number\"))\n",
    "if(num % 2 == 0):\n",
    "            print(\"Even number\")\n",
    "else:\n",
    "            print(\"Odd number\")"
   ]
  },
  {
   "cell_type": "code",
   "execution_count": 41,
   "id": "39bfd5f9-0314-45fd-b531-73dd84ddf5be",
   "metadata": {},
   "outputs": [
    {
     "name": "stdin",
     "output_type": "stream",
     "text": [
      "Enter any number to check for palindrome 121\n"
     ]
    },
    {
     "name": "stdout",
     "output_type": "stream",
     "text": [
      "Palindrome number\n"
     ]
    }
   ],
   "source": [
    "# Palindrome Number\n",
    "num = input(\"Enter any number to check for palindrome\")\n",
    "if num == num[::-1]:\n",
    "    print(\"Palindrome number\")\n",
    "else:\n",
    "    print(\"Non Palindrome number\")\n"
   ]
  },
  {
   "cell_type": "code",
   "execution_count": null,
   "id": "4b09fd7c-8e3c-4461-8ade-96bf7768e3db",
   "metadata": {},
   "outputs": [],
   "source": []
  }
 ],
 "metadata": {
  "kernelspec": {
   "display_name": "Python [conda env:base] *",
   "language": "python",
   "name": "conda-base-py"
  },
  "language_info": {
   "codemirror_mode": {
    "name": "ipython",
    "version": 3
   },
   "file_extension": ".py",
   "mimetype": "text/x-python",
   "name": "python",
   "nbconvert_exporter": "python",
   "pygments_lexer": "ipython3",
   "version": "3.12.7"
  }
 },
 "nbformat": 4,
 "nbformat_minor": 5
}
