{
 "cells": [
  {
   "cell_type": "markdown",
   "id": "54d68696-56e6-4450-9767-41639ebb4552",
   "metadata": {},
   "source": [
    "### Measures of Central Tendency"
   ]
  },
  {
   "cell_type": "markdown",
   "id": "3c434799-154b-4072-ba19-cb628d8f54b7",
   "metadata": {},
   "source": [
    "## Topics Covered\n",
    "- Mean, Median, Mode\n",
    "- When to use which?\n",
    "- Code in Python with NumPy & Pandas\n",
    "- Practice with real datasets (tips, iris)\n"
   ]
  },
  {
   "cell_type": "markdown",
   "id": "44eb13bd-5539-454e-a69e-df05ecf0d94d",
   "metadata": {},
   "source": [
    "### ## 1. Mean\n",
    "The **mean** is the average of all numbers.\n",
    "- Formula: (Sum of all values) / (Number of values)\n",
    "- Sensitive to **outliers** (extreme values).\n",
    "\n",
    "### When to use?\n",
    "Use mean when:\n",
    "- Data is evenly distributed (no extreme outliers)\n",
    "- All values are equally important"
   ]
  },
  {
   "cell_type": "markdown",
   "id": "b30c72ee-a629-4a77-adf0-e79c170a4b64",
   "metadata": {},
   "source": [
    "## 2. Median\n",
    "The **median** is the middle value when data is sorted.\n",
    "- If even number of values, it’s the average of the two middle ones.\n",
    "- Not affected much by outliers.\n",
    "\n",
    "### When to use?\n",
    "Use median when:\n",
    "- Data has extreme outliers\n",
    "- Data is skewed"
   ]
  },
  {
   "cell_type": "markdown",
   "id": "ffdbc475-9efa-41b5-919d-d65a60749e55",
   "metadata": {},
   "source": [
    "## 3. Mode\n",
    "The **mode** is the most frequently occurring value.\n",
    "- Can have more than one mode (bimodal, multimodal).\n",
    "- Works for both numerical and categorical data.\n",
    "\n",
    "### When to use?\n",
    "Use mode when:\n",
    "- You want the most common category/value\n",
    "- Data is categorical or discrete"
   ]
  },
  {
   "cell_type": "code",
   "execution_count": null,
   "id": "c2b45a41-d439-4843-b009-bae735f04305",
   "metadata": {},
   "outputs": [],
   "source": []
  },
  {
   "cell_type": "code",
   "execution_count": 12,
   "id": "196c8e86-6c92-4299-bb49-b5d929938371",
   "metadata": {},
   "outputs": [
    {
     "name": "stdout",
     "output_type": "stream",
     "text": [
      "8.285714285714286\n",
      "7.0\n",
      "ModeResult(mode=7, count=2)\n"
     ]
    }
   ],
   "source": [
    "import numpy as np\n",
    "import pandas as pd\n",
    "from scipy import stats\n",
    "data = [7, 8, 5, 6, 10, 15, 7]\n",
    "# Mean value\n",
    "mean = np.mean(data)\n",
    "# Median Value\n",
    "median = np.median(data)\n",
    "# Mode value\n",
    "mode=stats.mode(data)\n",
    "print(mean)\n",
    "print(median)\n",
    "print(mode)"
   ]
  },
  {
   "cell_type": "code",
   "execution_count": 32,
   "id": "519074cc-d2d1-4411-9d2b-c91bec3aff49",
   "metadata": {},
   "outputs": [
    {
     "name": "stdout",
     "output_type": "stream",
     "text": [
      "19.78594262295082\n",
      "17.795\n",
      "13.42\n"
     ]
    }
   ],
   "source": [
    "### Using Seaborn\n",
    "import seaborn as sns\n",
    "# Tips dataset\n",
    "tips = sns.load_dataset('tips')\n",
    "print(tips['total_bill'].mean())\n",
    "print(tips['total_bill'].median())\n",
    "print(tips['total_bill'].mode()[0])"
   ]
  },
  {
   "cell_type": "code",
   "execution_count": null,
   "id": "032a5a94-bbd2-405c-8204-95455efc7f0e",
   "metadata": {},
   "outputs": [],
   "source": []
  }
 ],
 "metadata": {
  "kernelspec": {
   "display_name": "Python [conda env:base] *",
   "language": "python",
   "name": "conda-base-py"
  },
  "language_info": {
   "codemirror_mode": {
    "name": "ipython",
    "version": 3
   },
   "file_extension": ".py",
   "mimetype": "text/x-python",
   "name": "python",
   "nbconvert_exporter": "python",
   "pygments_lexer": "ipython3",
   "version": "3.12.7"
  }
 },
 "nbformat": 4,
 "nbformat_minor": 5
}
