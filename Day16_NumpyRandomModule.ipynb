{
 "cells": [
  {
   "cell_type": "markdown",
   "id": "730b0abf-04e1-4faf-8e50-b3459687b9b4",
   "metadata": {},
   "source": [
    "### Random Module"
   ]
  },
  {
   "cell_type": "code",
   "execution_count": 18,
   "id": "ed8224ee-f6b9-427a-95ca-255e73489203",
   "metadata": {},
   "outputs": [
    {
     "name": "stdout",
     "output_type": "stream",
     "text": [
      "0.21555526867516783\n",
      "[0.84679737 0.56048156 0.89734437 0.08774993 0.15531224]\n",
      "Before round up :\n",
      " [[0.14323903 0.48655965 0.75868291]\n",
      " [0.47409954 0.4231796  0.41099976]\n",
      " [0.12607339 0.45102989 0.08941269]\n",
      " [0.32269448 0.38548128 0.19483243]]\n",
      "After round up :\n",
      " [[0.143 0.487 0.759]\n",
      " [0.474 0.423 0.411]\n",
      " [0.126 0.451 0.089]\n",
      " [0.323 0.385 0.195]]\n"
     ]
    }
   ],
   "source": [
    "import numpy as np\n",
    "print(np.random.rand())\n",
    "print(np.random.rand(5))\n",
    "b = np.random.rand(4,3)\n",
    "print(\"Before round up :\\n\",+b)\n",
    "print(\"After round up :\\n\",np.round(b,3))"
   ]
  },
  {
   "cell_type": "code",
   "execution_count": 38,
   "id": "eb4fa700-ac6e-47fb-b121-56f16da2aa42",
   "metadata": {},
   "outputs": [
    {
     "name": "stdout",
     "output_type": "stream",
     "text": [
      "[13 13  6 13 19]\n",
      "[8 3 9 7 9]\n",
      "[[34 10 34]\n",
      " [78 48 26]\n",
      " [50 92 15]]\n",
      "Even values are :\n",
      " 8\n"
     ]
    }
   ],
   "source": [
    "# np.random.randint() \n",
    "print(np.random.randint(2,20,5))\n",
    "# Create a 1D array of 5 random integers from 1 to 10\n",
    "print(np.random.randint(1,10,5))\n",
    "# Create a 3x3 matrix of random integers between 10 and 99\n",
    "a = np.random.randint(10,99,(3,3))\n",
    "print(a)\n",
    "# Count how many values are even in the above matrix\n",
    "print(\"Even values are :\\n\",np.sum(a % 2 ==0))\n"
   ]
  },
  {
   "cell_type": "code",
   "execution_count": 49,
   "id": "edad4077-fde2-4e5f-97fd-372e92dde5cc",
   "metadata": {},
   "outputs": [
    {
     "name": "stdout",
     "output_type": "stream",
     "text": [
      "Random Normal Values: [-0.43702367 -0.66701122  0.45537014  0.88263792 -0.93531768]\n",
      "Normal Distribution Matrix:\n",
      " [[-0.62530927 -0.20532691 -0.5898923 ]\n",
      " [ 1.85699122  0.27266287 -0.13834936]\n",
      " [ 0.20648096  0.85480886 -0.5179556 ]]\n",
      "Mean: 0.12379005082678679\n",
      "Std Dev: 0.7620688582749375\n",
      "[-0.44589951  1.02663456  0.7416615  -1.38745687  1.93574051]\n"
     ]
    }
   ],
   "source": [
    "# np.random.randn() \n",
    "arr = np.random.randn(5)\n",
    "print(\"Random Normal Values:\", arr)\n",
    "matrix = np.random.randn(3, 3)\n",
    "print(\"Normal Distribution Matrix:\\n\", matrix)\n",
    "print(\"Mean:\", np.mean(matrix))\n",
    "print(\"Std Dev:\", np.std(matrix))\n",
    "print(np.random.randn(5))\n",
    "\n",
    "\n"
   ]
  },
  {
   "cell_type": "code",
   "execution_count": 76,
   "id": "c131ab23-8b04-45d8-982c-061ae9eb04a6",
   "metadata": {},
   "outputs": [
    {
     "data": {
      "text/plain": [
       "array([30, 30, 20, 30, 30])"
      ]
     },
     "execution_count": 76,
     "metadata": {},
     "output_type": "execute_result"
    }
   ],
   "source": [
    "# np.random.choice()\n",
    "# Pick one random value from a list:\n",
    "np.random.choice([10,20,30])\n",
    "# Pick 3 random values with repetition:\n",
    "np.random.choice([10,20,30,40,50],size = 3,replace = True)\n",
    "# Pick 3 random values without repetition:\n",
    "np.random.choice([1, 2, 3, 4, 5], size=3, replace=False)\n",
    "# With custom probability:\n",
    "np.random.choice([10, 20, 30,40,50], size=5, p=[0.1, 0.4, 0.4,0.05,0.05])\n"
   ]
  },
  {
   "cell_type": "code",
   "execution_count": 88,
   "id": "b2c815f0-aafe-4a72-99e1-4359e20bb316",
   "metadata": {},
   "outputs": [
    {
     "name": "stdout",
     "output_type": "stream",
     "text": [
      "16\n",
      "[15 14 13]\n",
      "[16 11 11 13]\n",
      "[14 13 12 11]\n"
     ]
    }
   ],
   "source": [
    "# Create a list of 6 numbers and use np.random.choice() to select:\n",
    "# One random number. Three numbers with repetition.\n",
    "# Three numbers without repetition. Three numbers with custom probabilities.\n",
    "array = [11,12,13,14,15,16,17]\n",
    "print(np.random.choice(array))\n",
    "print(np.random.choice(array,size = 3,replace = False))\n",
    "print(np.random.choice(array,size = 4,replace = True))\n",
    "print(np.random.choice(array,size = 4,replace = False,p= [0.1,0.4,0.4,0.1,0,0,0]))\n",
    "\n"
   ]
  },
  {
   "cell_type": "code",
   "execution_count": 92,
   "id": "485178fc-a69b-4049-9484-2711ac21b6da",
   "metadata": {},
   "outputs": [
    {
     "name": "stdout",
     "output_type": "stream",
     "text": [
      "First random array: [21 83 87 75 75]\n",
      "Second random array: [52 93 15 72 61]\n"
     ]
    }
   ],
   "source": [
    "# Seeding array\n",
    "import numpy as np\n",
    "np.random.seed(42)\n",
    "# Set the seed (any integer works)\n",
    "random_array1 = np.random.randint(1, 100, size=5)\n",
    "print(\"First random array:\", random_array1)\n",
    "# Reset seed to same value\n",
    "np.random.seed(42)\n",
    "random_array2 = np.random.randint(1, 100, size=5)\n",
    "print(\"Second random array:\", random_array2)\n"
   ]
  },
  {
   "cell_type": "code",
   "execution_count": 99,
   "id": "024eccfa-6e9b-47a8-941c-afe3eeffa819",
   "metadata": {},
   "outputs": [
    {
     "name": "stdout",
     "output_type": "stream",
     "text": [
      "[2 4 3 5 1]\n",
      "None\n"
     ]
    }
   ],
   "source": [
    "# Shuffle array\n",
    "# import numpy as np\n",
    "arr = np.array([1, 2, 3, 4, 5])\n",
    "np.random.shuffle(arr)\n",
    "print(arr)\n",
    "print(b)"
   ]
  },
  {
   "cell_type": "code",
   "execution_count": 102,
   "id": "b105b1c3-8bf9-48b7-bca4-95c2ac4f28d0",
   "metadata": {},
   "outputs": [
    {
     "name": "stdout",
     "output_type": "stream",
     "text": [
      "[100  20  30  40  50]\n"
     ]
    }
   ],
   "source": [
    "# Reference (View)\n",
    "a = np.array([10,20,30,40,50])\n",
    "b = a\n",
    "b[0] = 100\n",
    "print(a)"
   ]
  },
  {
   "cell_type": "code",
   "execution_count": 106,
   "id": "53d64c4b-b8e4-4519-bf59-fec66c6bf037",
   "metadata": {},
   "outputs": [
    {
     "name": "stdout",
     "output_type": "stream",
     "text": [
      "a: [10 20 30]\n",
      "[2 3 4 6]\n"
     ]
    }
   ],
   "source": [
    "# Copy\n",
    "a = np.array([10, 20, 30])\n",
    "b = a.copy()   # This is a true copy\n",
    "b[0] = 99\n",
    "print(\"a:\", a)  # Output: [10, 20, 30] – no change!\n"
   ]
  },
  {
   "cell_type": "code",
   "execution_count": null,
   "id": "b51e9538-30b8-4b84-b315-5393bd446d4a",
   "metadata": {},
   "outputs": [],
   "source": []
  }
 ],
 "metadata": {
  "kernelspec": {
   "display_name": "Python [conda env:base] *",
   "language": "python",
   "name": "conda-base-py"
  },
  "language_info": {
   "codemirror_mode": {
    "name": "ipython",
    "version": 3
   },
   "file_extension": ".py",
   "mimetype": "text/x-python",
   "name": "python",
   "nbconvert_exporter": "python",
   "pygments_lexer": "ipython3",
   "version": "3.12.7"
  }
 },
 "nbformat": 4,
 "nbformat_minor": 5
}
