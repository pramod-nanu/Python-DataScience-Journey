{
 "cells": [
  {
   "cell_type": "markdown",
   "id": "0b2cc5d6-4150-4853-80e0-e23b54928636",
   "metadata": {},
   "source": [
    "### Probability Basics"
   ]
  },
  {
   "cell_type": "markdown",
   "id": "2421b209-08a1-47e1-8794-f68480e413ea",
   "metadata": {},
   "source": [
    "### Experiment\n",
    "\n",
    "Any process or action that produces an outcome.\n",
    "\n",
    "### Sample Space (S)\n",
    "\n",
    "The set of all possible outcomes of an experiment.\n",
    "\n",
    "### Event (E)\n",
    "\n",
    "A subset of sample space (some outcomes we are interested in).\n",
    "\n",
    "So:\n",
    "\n",
    "Experiment → Process (rolling a die)\n",
    "\n",
    "Sample space → All outcomes {1,2,3,4,5,6}\n",
    "\n",
    "Event → Subset (e.g., {2,4,6})"
   ]
  },
  {
   "cell_type": "markdown",
   "id": "ebd25ed7-cac3-4086-be51-4d443176c662",
   "metadata": {},
   "source": [
    "### Classical Probability (Theoretical Probability)\n",
    "\n",
    "### Empirical Probability (Experimental Probability)\n",
    "\n",
    "Classical probability is theoretical (what should happen).\n",
    "\n",
    "Empirical probability is experimental (what actually happens).\n",
    "\n",
    "Example 1: Rolling a Die\n",
    "\n",
    "Classical Probability\n",
    "\n",
    "P(getting an even number) = Favorable outcomes {2,4,6} / Total outcomes {1,2,3,4,5,6} = 3/6 = 0.5\n",
    "\n",
    "Empirical Probability\n",
    "\n",
    "Roll the die 20 times → got even numbers 8 times.\n",
    "\n",
    "P(even) = 8/20 = 0.4"
   ]
  },
  {
   "cell_type": "markdown",
   "id": "15ac5b4a-70da-4bce-8755-007eede24e76",
   "metadata": {},
   "source": [
    "### Addition ie OR\n",
    "### Mulitplication ie Product"
   ]
  },
  {
   "cell_type": "markdown",
   "id": "62193bfa-32b2-4a1c-a149-f24f0d864a6e",
   "metadata": {},
   "source": [
    "### Addition ie OR\n",
    "\n",
    "If A and B cannot happen together (mutually exclusive): just add.\n",
    "Example: Roll a dice 🎲\n",
    "\n",
    "Chance of getting 2 = 1/6\n",
    "\n",
    "Chance of getting 5 = 1/6\n",
    "\n",
    "Getting 2 or 5 = 1/6 + 1/6 = 2/6\n",
    "\n",
    "If A and B can happen together: Add, but subtract the overlap once.\n",
    "Example: From 52 cards 🃏\n",
    "\n",
    "Chance of King = 4/52\n",
    "\n",
    "Chance of Heart = 13/52\n",
    "\n",
    "But “King of Hearts” is counted twice, so subtract 1/52\n",
    "\n",
    "Answer = (4 + 13 – 1) / 52 = 16/52"
   ]
  },
  {
   "cell_type": "markdown",
   "id": "2a892612-fa17-44e3-9513-4d1524ecdd3d",
   "metadata": {},
   "source": [
    "### Multiplication Rule → AND\n",
    "\n",
    "👉 Used when you want the chance of A AND B happening together.\n",
    "\n",
    "If A and B are independent (one doesn’t affect the other): just multiply.\n",
    "Example: Toss 2 coins\n",
    "\n",
    "Head on 1st = 1/2\n",
    "\n",
    "Head on 2nd = 1/2\n",
    "\n",
    "Head on both = 1/2 × 1/2 = 1/4\n",
    "\n",
    "If A and B are dependent (first affects second): multiply, but update probability.\n",
    "Example: Draw 2 cards without replacement\n",
    "\n",
    "First Ace = 4/52\n",
    "\n",
    "Second Ace (only 3 left now) = 3/51\n",
    "\n",
    "Both Aces = (4/52) × (3/51)\n",
    "\n",
    "📌 Think: AND = Multiply probabilities."
   ]
  },
  {
   "cell_type": "code",
   "execution_count": null,
   "id": "309139f1-4f8b-44ed-ac1e-9007660ee68c",
   "metadata": {},
   "outputs": [],
   "source": []
  }
 ],
 "metadata": {
  "kernelspec": {
   "display_name": "Python [conda env:base] *",
   "language": "python",
   "name": "conda-base-py"
  },
  "language_info": {
   "codemirror_mode": {
    "name": "ipython",
    "version": 3
   },
   "file_extension": ".py",
   "mimetype": "text/x-python",
   "name": "python",
   "nbconvert_exporter": "python",
   "pygments_lexer": "ipython3",
   "version": "3.12.7"
  }
 },
 "nbformat": 4,
 "nbformat_minor": 5
}
