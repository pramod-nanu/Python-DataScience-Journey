{
 "cells": [
  {
   "cell_type": "markdown",
   "id": "89370226-66a9-4ace-be06-96819fdb899c",
   "metadata": {},
   "source": [
    "### Correlation & Covariance"
   ]
  },
  {
   "cell_type": "markdown",
   "id": "48f6e35f-138b-4081-b6e7-6995feaaa42e",
   "metadata": {},
   "source": [
    "### 🔹 Covariance (सह-प्रसरण)\n",
    "\n",
    "👉 Covariance tells us how two variables change together.\n",
    "\n",
    "If positive covariance → both variables move in the same direction.\n",
    "\n",
    "If negative covariance → one goes up, the other goes down.\n",
    "\n",
    "If covariance is close to zero → no relation.\n",
    "\n",
    "📌 Example:\n",
    "\n",
    "Height & Weight → taller people generally weigh more → positive covariance.\n",
    "\n",
    "Price & Demand → when price goes up, demand usually goes down → negative covariance.\n",
    "\n",
    "But… covariance values are not standardized.\n",
    "Example: Covariance can be 5000 or -20000 → difficult to interpret.\n",
    "\n",
    "🔹 Correlation (सहसंबंध)\n",
    "\n",
    "👉 Correlation is the standardized form of covariance.\n",
    "\n",
    "Always between -1 and +1.\n",
    "\n",
    "+1 → perfect positive relation\n",
    "\n",
    "-1 → perfect negative relation\n",
    "\n",
    "0 → no relation\n",
    "\n",
    "📌 Example:\n",
    "\n",
    "Height & Weight → correlation ≈ +0.95 (strong positive).\n",
    "\n",
    "Price & Demand → correlation ≈ -0.85 (strong negative).\n",
    "\n",
    "Shoe size & Salary → correlation ≈ 0 (no relation)."
   ]
  },
  {
   "cell_type": "markdown",
   "id": "c960b5cc-cfe2-4380-ae1e-9437e54d6831",
   "metadata": {},
   "source": [
    "### In short:\n",
    "\n",
    "Covariance tells direction of relation.\n",
    "\n",
    "Correlation tells direction + strength of relation."
   ]
  },
  {
   "cell_type": "code",
   "execution_count": 14,
   "id": "776cd17f-0d77-447f-9d5c-ea1bcbd920e4",
   "metadata": {},
   "outputs": [
    {
     "name": "stdout",
     "output_type": "stream",
     "text": [
      "Covariance matrix:\n",
      " [[2.66666667 1.33333333]\n",
      " [1.33333333 2.66666667]]\n",
      "Cov(X,Y) = 1.3333333333333333\n",
      "\n",
      "Correlation matrix:\n",
      " [[1.  0.5]\n",
      " [0.5 1. ]]\n",
      "Corr(X,Y) = 0.5\n",
      "\n",
      "Cov(X,Y): 2.0\n",
      "Corr(X,Y): 0.5\n"
     ]
    }
   ],
   "source": [
    "import numpy as np\n",
    "import pandas as pd\n",
    "X = np.array([2,4,6])\n",
    "Y = np.array([4,2,6])\n",
    "cov_matrix = np.cov(X, Y, ddof=0)   # ddof=0 → population covariance\n",
    "print(\"Covariance matrix:\\n\", cov_matrix)\n",
    "print(\"Cov(X,Y) =\", cov_matrix[0,1])\n",
    "print()\n",
    "## Correlation\n",
    "corr_matrix = np.corrcoef(X,Y)\n",
    "print(\"Correlation matrix:\\n\", corr_matrix)\n",
    "print(\"Corr(X,Y) =\", corr_matrix[0,1])\n",
    "print()\n",
    "### Pandas ShortCut\n",
    "import pandas as pd\n",
    "\n",
    "X = [2, 4, 6]\n",
    "Y = [4, 2, 6]\n",
    "\n",
    "df = pd.DataFrame({\"X\": X, \"Y\": Y})\n",
    "\n",
    "# Only covariance between X and Y\n",
    "cov_xy = df.cov().loc[\"X\", \"Y\"]\n",
    "\n",
    "# Only correlation between X and Y\n",
    "corr_xy = df.corr().loc[\"X\", \"Y\"]\n",
    "\n",
    "print(\"Cov(X,Y):\", cov_xy)\n",
    "print(\"Corr(X,Y):\", corr_xy)\n",
    "\n",
    "\n"
   ]
  },
  {
   "cell_type": "markdown",
   "id": "c376fbf5-ae46-4cec-a505-b9f36a8cd0bd",
   "metadata": {},
   "source": [
    "### Pearson Correlation\n",
    "\n",
    "What it does: Measures the strength and direction of a linear relationship between two continuous variables.\n",
    "\n",
    "Range: -1 to +1\n",
    "\n",
    "Key idea: It looks at actual values and assumes they are normally distributed.\n",
    "\n",
    "When to use:\n",
    "\n",
    "When the relationship looks like a straight line (linear).\n",
    "\n",
    "Example: Height vs Weight."
   ]
  },
  {
   "cell_type": "markdown",
   "id": "888f73b0-5582-470e-8f00-e7ba2edab0db",
   "metadata": {},
   "source": [
    "### Spearman Correlation\n",
    "\n",
    "What it does: Measures the strength and direction of a monotonic relationship (always increasing or always decreasing), but not necessarily linear.\n",
    "\n",
    "Key idea: Works on ranks, not raw values.\n",
    "\n",
    "When to use:\n",
    "\n",
    "Data is not normally distributed.\n",
    "\n",
    "Outliers are present (since ranks reduce their effect).\n",
    "\n",
    "Relationship is non-linear but monotonic.\n",
    "\n",
    "✅ Example:\n",
    "\n",
    "Students ranked by study hours and exam scores."
   ]
  },
  {
   "cell_type": "markdown",
   "id": "4a3507d5-dd0d-4b5a-9b8f-b4d1c7d6f5c2",
   "metadata": {},
   "source": [
    "So in practice:\n",
    "\n",
    "If relationship is linear & no major outliers → Use Pearson.\n",
    "\n",
    "If relationship is non-linear or has outliers → Use Spearman."
   ]
  },
  {
   "cell_type": "code",
   "execution_count": 24,
   "id": "299a0e66-d51d-4db6-bbf3-693a86403054",
   "metadata": {},
   "outputs": [
    {
     "name": "stdout",
     "output_type": "stream",
     "text": [
      "Pearson Correlation: 0.6757341092113645\n",
      "Spearman Correlation: 0.6789681219001009\n",
      "0.6757341092113645\n"
     ]
    }
   ],
   "source": [
    "import seaborn as sns\n",
    "import pandas as pd\n",
    "\n",
    "# Load dataset\n",
    "tips = sns.load_dataset(\"tips\")\n",
    "\n",
    "# Calculate correlations\n",
    "pearson_corr = tips['total_bill'].corr(tips['tip'], method='pearson')\n",
    "spearman_corr = tips['total_bill'].corr(tips['tip'], method='spearman')\n",
    "\n",
    "print(\"Pearson Correlation:\", pearson_corr)\n",
    "print(\"Spearman Correlation:\", spearman_corr)\n",
    "answer = tips['total_bill'].corr(tips['tip'],method = 'pearson')\n",
    "\n"
   ]
  },
  {
   "cell_type": "code",
   "execution_count": 27,
   "id": "084fc1b3-07fb-41f8-85dc-e485e68f98e7",
   "metadata": {},
   "outputs": [
    {
     "name": "stdout",
     "output_type": "stream",
     "text": [
      "Pearson Correlation: 0.9745586289152092\n",
      "Spearman Correlation: 0.9999999999999999\n"
     ]
    }
   ],
   "source": [
    "import numpy as np\n",
    "\n",
    "# Non-linear but monotonic relationship\n",
    "x = np.arange(1, 11)\n",
    "y = x**2  # quadratic relation\n",
    "\n",
    "df = pd.DataFrame({\"x\": x, \"y\": y})\n",
    "\n",
    "pearson_corr = df['x'].corr(df['y'], method='pearson')\n",
    "spearman_corr = df['x'].corr(df['y'], method='spearman')\n",
    "\n",
    "print(\"Pearson Correlation:\", pearson_corr)\n",
    "print(\"Spearman Correlation:\", spearman_corr)\n"
   ]
  },
  {
   "cell_type": "code",
   "execution_count": null,
   "id": "66bf67a1-75fe-404f-a052-9f755132a898",
   "metadata": {},
   "outputs": [],
   "source": []
  }
 ],
 "metadata": {
  "kernelspec": {
   "display_name": "Python [conda env:base] *",
   "language": "python",
   "name": "conda-base-py"
  },
  "language_info": {
   "codemirror_mode": {
    "name": "ipython",
    "version": 3
   },
   "file_extension": ".py",
   "mimetype": "text/x-python",
   "name": "python",
   "nbconvert_exporter": "python",
   "pygments_lexer": "ipython3",
   "version": "3.12.7"
  }
 },
 "nbformat": 4,
 "nbformat_minor": 5
}
