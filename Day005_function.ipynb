{
 "cells": [
  {
   "cell_type": "code",
   "execution_count": 1,
   "id": "07020fb6-17f7-4d48-9242-0ab1e4860d87",
   "metadata": {},
   "outputs": [
    {
     "name": "stdout",
     "output_type": "stream",
     "text": [
      "Hello Pramod\n"
     ]
    }
   ],
   "source": [
    "def greet_user():\n",
    "    print(\"Hello Pramod\")\n",
    "greet_user()"
   ]
  },
  {
   "cell_type": "code",
   "execution_count": 2,
   "id": "43f13510-e7a3-4523-b7ba-cbfa519ef605",
   "metadata": {},
   "outputs": [
    {
     "name": "stdout",
     "output_type": "stream",
     "text": [
      "Sum is : 60\n"
     ]
    }
   ],
   "source": [
    "#Add two numbers using function\n",
    "a = 25\n",
    "b = 35\n",
    "def add(a,b):\n",
    "    print(f\"Sum is : {a+b}\")\n",
    "add(a,b)"
   ]
  },
  {
   "cell_type": "code",
   "execution_count": 6,
   "id": "5d1844ad-0341-4446-ac28-b66030c2567e",
   "metadata": {},
   "outputs": [
    {
     "name": "stdout",
     "output_type": "stream",
     "text": [
      "Even Number\n"
     ]
    }
   ],
   "source": [
    "# Check if number is even or odd\n",
    "def isEven(num):\n",
    "    if num%2 == 0:\n",
    "        print(\"Even Number\")\n",
    "    else:\n",
    "        print(\"Odd Number\")\n",
    "isEven(24)"
   ]
  },
  {
   "cell_type": "code",
   "execution_count": 9,
   "id": "f95e90ca-f53b-4a76-8296-4982ef99e672",
   "metadata": {},
   "outputs": [
    {
     "name": "stdout",
     "output_type": "stream",
     "text": [
      "Factorial is :40320\n"
     ]
    }
   ],
   "source": [
    "#Find factorial using function\n",
    "def fact(num):\n",
    "    fact = 1\n",
    "    for i in range(num,1,-1):\n",
    "        fact = fact * i\n",
    "    print(f\"Factorial is :{fact}\")\n",
    "fact(8)"
   ]
  },
  {
   "cell_type": "code",
   "execution_count": 19,
   "id": "57487854-09ce-4bb2-be74-2b073008c042",
   "metadata": {},
   "outputs": [
    {
     "name": "stdout",
     "output_type": "stream",
     "text": [
      "Prime Number\n"
     ]
    }
   ],
   "source": [
    "#Check if number is prime\n",
    "def isPrime(num):\n",
    "    count = 0\n",
    "    for i in range(2,num):\n",
    "        if num % i == 0:\n",
    "            count+=1\n",
    "    if count == 0 :\n",
    "        print(\"Prime Number\")\n",
    "    else:\n",
    "        print(\"Not Prime Number\")\n",
    "isPrime(17)"
   ]
  },
  {
   "cell_type": "code",
   "execution_count": 23,
   "id": "cf093a65-db72-48cb-a01f-5570907d4161",
   "metadata": {},
   "outputs": [
    {
     "name": "stdout",
     "output_type": "stream",
     "text": [
      "60\n"
     ]
    }
   ],
   "source": [
    "# Sum of all numbers in list using function\n",
    "# count = 0\n",
    "# list = [5,13,30]\n",
    "# for item in list:\n",
    "#     count += item\n",
    "# print(count)\n",
    "def sumOfAllNumbersInList(numbers):\n",
    "    total = 0\n",
    "    for item in numbers:\n",
    "        total += item\n",
    "    return total\n",
    "myList = [10,20,30]\n",
    "result = sumOfAllNumbersInList(myList)\n",
    "print(result)"
   ]
  },
  {
   "cell_type": "code",
   "execution_count": 22,
   "id": "e4c8676a-3e5c-468a-84c0-1b384ac7a6af",
   "metadata": {},
   "outputs": [],
   "source": [
    "\n"
   ]
  },
  {
   "cell_type": "code",
   "execution_count": null,
   "id": "64155114-68c0-471d-a0f8-f26dc856659f",
   "metadata": {},
   "outputs": [],
   "source": []
  }
 ],
 "metadata": {
  "kernelspec": {
   "display_name": "Python [conda env:base] *",
   "language": "python",
   "name": "conda-base-py"
  },
  "language_info": {
   "codemirror_mode": {
    "name": "ipython",
    "version": 3
   },
   "file_extension": ".py",
   "mimetype": "text/x-python",
   "name": "python",
   "nbconvert_exporter": "python",
   "pygments_lexer": "ipython3",
   "version": "3.12.7"
  }
 },
 "nbformat": 4,
 "nbformat_minor": 5
}
