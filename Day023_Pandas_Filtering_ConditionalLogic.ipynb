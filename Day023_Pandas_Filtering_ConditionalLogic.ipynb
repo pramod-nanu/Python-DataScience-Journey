{
 "cells": [
  {
   "cell_type": "markdown",
   "id": "080df2e8-cdf9-4241-93f3-cbe9bb8d9387",
   "metadata": {},
   "source": [
    "### Filtering & Conditional Logic\n"
   ]
  },
  {
   "cell_type": "code",
   "execution_count": 2,
   "id": "86bd2787-66ac-4942-9a23-6a80ff97178a",
   "metadata": {},
   "outputs": [],
   "source": [
    "import pandas as pd\n",
    "import numpy as np\n",
    "\n",
    "data = {\n",
    "    'name': ['Alice', 'Bob', 'Charlie', 'David', 'Eva'],\n",
    "    'age': [25, 32, 28, 45, 22],\n",
    "    'salary': [50000, 60000, 40000, 80000, 30000],\n",
    "    'department': ['HR', 'Finance', 'IT', 'Finance', 'HR'],\n",
    "    'gender': ['Female', 'Male', 'Male', 'Male', 'Female']\n",
    "}\n",
    "\n",
    "df = pd.DataFrame(data)"
   ]
  },
  {
   "cell_type": "code",
   "execution_count": 38,
   "id": "622856e5-2ca8-4f86-bff1-a3ec60e98ddf",
   "metadata": {},
   "outputs": [
    {
     "name": "stdout",
     "output_type": "stream",
     "text": [
      "      name  age  salary department  gender  High_Salary category\n",
      "0    Alice   25   50000         HR  Female        55000      Low\n",
      "1      Bob   32   60000    Finance    Male        65000     High\n",
      "2  Charlie   28   40000         IT    Male        45000      Low\n",
      "3    David   45   80000    Finance    Male        85000     High\n",
      "4      Eva   22   30000         HR  Female        35000      Low\n",
      "\n",
      "       name  age  salary department  gender  High_Salary category\n",
      "0    Alice   25   50000         HR  Female        55000      Low\n",
      "1      Bob   32   60000    Finance    Male        65000     High\n",
      "2  Charlie   28   40000         IT    Male        45000      Low\n",
      "3    David   45   80000    Finance    Male        85000     High\n",
      "4      Eva   22   30000         HR  Female        35000      Low\n"
     ]
    },
    {
     "data": {
      "text/html": [
       "<div>\n",
       "<style scoped>\n",
       "    .dataframe tbody tr th:only-of-type {\n",
       "        vertical-align: middle;\n",
       "    }\n",
       "\n",
       "    .dataframe tbody tr th {\n",
       "        vertical-align: top;\n",
       "    }\n",
       "\n",
       "    .dataframe thead th {\n",
       "        text-align: right;\n",
       "    }\n",
       "</style>\n",
       "<table border=\"1\" class=\"dataframe\">\n",
       "  <thead>\n",
       "    <tr style=\"text-align: right;\">\n",
       "      <th></th>\n",
       "      <th>name</th>\n",
       "      <th>age</th>\n",
       "      <th>salary</th>\n",
       "      <th>department</th>\n",
       "      <th>gender</th>\n",
       "      <th>High_Salary</th>\n",
       "      <th>category</th>\n",
       "    </tr>\n",
       "  </thead>\n",
       "  <tbody>\n",
       "    <tr>\n",
       "      <th>1</th>\n",
       "      <td>Bob</td>\n",
       "      <td>32</td>\n",
       "      <td>60000</td>\n",
       "      <td>Finance</td>\n",
       "      <td>Male</td>\n",
       "      <td>65000</td>\n",
       "      <td>High</td>\n",
       "    </tr>\n",
       "    <tr>\n",
       "      <th>2</th>\n",
       "      <td>Charlie</td>\n",
       "      <td>28</td>\n",
       "      <td>40000</td>\n",
       "      <td>IT</td>\n",
       "      <td>Male</td>\n",
       "      <td>45000</td>\n",
       "      <td>Low</td>\n",
       "    </tr>\n",
       "    <tr>\n",
       "      <th>3</th>\n",
       "      <td>David</td>\n",
       "      <td>45</td>\n",
       "      <td>80000</td>\n",
       "      <td>Finance</td>\n",
       "      <td>Male</td>\n",
       "      <td>85000</td>\n",
       "      <td>High</td>\n",
       "    </tr>\n",
       "  </tbody>\n",
       "</table>\n",
       "</div>"
      ],
      "text/plain": [
       "      name  age  salary department gender  High_Salary category\n",
       "1      Bob   32   60000    Finance   Male        65000     High\n",
       "2  Charlie   28   40000         IT   Male        45000      Low\n",
       "3    David   45   80000    Finance   Male        85000     High"
      ]
     },
     "execution_count": 38,
     "metadata": {},
     "output_type": "execute_result"
    }
   ],
   "source": [
    "#  Example 1 – Filter salary > 50k:\n",
    "# print(df)\n",
    "df[df['salary'] > 50000]\n",
    "\n",
    "# Finance department AND salary > 50k:\n",
    "df[(df['salary'] > 5000) & (df['department'] == 'Finance')]\n",
    "\n",
    "# Not in HR:\n",
    "df[df['department'] != 'HR']\n",
    "df[~df['department'].isin(['HR'])]\n",
    "\n",
    "# Add new column: high_salary\n",
    "df['High_Salary'] = df['salary'] + 5000\n",
    "print(df)\n",
    "\n",
    "# Add new column with np.where\n",
    "df['category'] = np.where(df['salary'] > 50000,'High','Low')\n",
    "print(\"\\n\",df)\n",
    "\n",
    "#  Optional: Use query() for readability\n",
    "# df.query(\"\\nsalary > 50000 and department == 'Finance'\")\n",
    "df.query(\"department != 'HR'\")\n",
    "\n",
    "\n"
   ]
  },
  {
   "cell_type": "code",
   "execution_count": null,
   "id": "b171b42e-8969-49ca-aa1c-94f583a88cd7",
   "metadata": {},
   "outputs": [],
   "source": []
  }
 ],
 "metadata": {
  "kernelspec": {
   "display_name": "Python [conda env:base] *",
   "language": "python",
   "name": "conda-base-py"
  },
  "language_info": {
   "codemirror_mode": {
    "name": "ipython",
    "version": 3
   },
   "file_extension": ".py",
   "mimetype": "text/x-python",
   "name": "python",
   "nbconvert_exporter": "python",
   "pygments_lexer": "ipython3",
   "version": "3.12.7"
  }
 },
 "nbformat": 4,
 "nbformat_minor": 5
}
