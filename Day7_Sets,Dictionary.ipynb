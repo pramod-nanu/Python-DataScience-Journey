{
 "cells": [
  {
   "cell_type": "code",
   "execution_count": 5,
   "id": "d66c9047-ccb1-4494-be01-dfd3a418425b",
   "metadata": {},
   "outputs": [
    {
     "name": "stdout",
     "output_type": "stream",
     "text": [
      "3\n"
     ]
    }
   ],
   "source": [
    "# Tuple\n",
    "# Immutable\n",
    "tuple = (1,2,3,4)\n",
    "print(tuple[2])\n",
    "# tuple[2] = 10\n",
    "# print(tuple[2])"
   ]
  },
  {
   "cell_type": "code",
   "execution_count": 12,
   "id": "39479615-e694-4808-9c37-5f82b4aabc93",
   "metadata": {
    "scrolled": true
   },
   "outputs": [
    {
     "name": "stdout",
     "output_type": "stream",
     "text": [
      "{1, 2, 3, 4, 5, 6}\n",
      "{1, 2, 3, 4, 5}\n",
      "{3}\n",
      "{1, 2}\n"
     ]
    }
   ],
   "source": [
    "# Sets\n",
    "# Duplicates not allowed\n",
    "set = {1,2,3,4,5,5,6}\n",
    "print(set)\n",
    "set1 = {1,2,3}\n",
    "set2 = {3,4,5}\n",
    "print(set1 | set2)\n",
    "print(set1 & set2)\n",
    "print(set1 - set2)"
   ]
  },
  {
   "cell_type": "code",
   "execution_count": 24,
   "id": "4bb9f197-cc53-4507-9249-006825e5ffd6",
   "metadata": {},
   "outputs": [
    {
     "name": "stdout",
     "output_type": "stream",
     "text": [
      "Pramod\n",
      "25\n",
      "{'name': 'Rahul', 'age': '30', 'School': 'PABV'}\n",
      "name : Rahul\n",
      "age : 30\n",
      "School : PABV\n"
     ]
    }
   ],
   "source": [
    "# Dictionary\n",
    "dict = {\n",
    "    \"name\" : \"Pramod\",\n",
    "    \"age\"  : 25,\n",
    "    \"School\" : \"PABV\"\n",
    "} \n",
    "print(dict[\"name\"])\n",
    "print(dict[\"age\"])\n",
    "# Pramod\n",
    "# 25\n",
    "\n",
    "dict[\"name\"] = \"Rahul\"\n",
    "dict[\"age\"] = \"30\"\n",
    "print(dict)\n",
    "# {'name': 'Rahul', 'age': '30', 'School': 'PABV'}\n",
    "for key, value in dict.items():\n",
    "    print(key, \":\", value)\n",
    "# name : Rahul\n",
    "# age : 30\n",
    "# School : PABV"
   ]
  },
  {
   "cell_type": "code",
   "execution_count": 29,
   "id": "bf8606f6-9041-4e35-8b29-4cf57d6202a5",
   "metadata": {},
   "outputs": [
    {
     "name": "stdin",
     "output_type": "stream",
     "text": [
      "Enter first fruit :  orange\n",
      "Enter second fruit :  banana\n",
      "Enter third fruit :  apple\n"
     ]
    },
    {
     "name": "stdout",
     "output_type": "stream",
     "text": [
      "('orange', 'banana', 'apple')\n",
      "orange\n",
      "banana\n",
      "apple\n"
     ]
    }
   ],
   "source": [
    "# Write program that stores 3 fruits in a tuple and prints each one on a new line using a for loop.\n",
    "tuple = (1,)\n",
    "fruit1 = input(\"Enter first fruit : \")\n",
    "fruit2 = input(\"Enter second fruit : \")\n",
    "fruit3 = input(\"Enter third fruit : \")\n",
    "tuple = (fruit1,fruit2,fruit3)\n",
    "print(tuple)\n",
    "for item in tuple:\n",
    "    print(item)"
   ]
  },
  {
   "cell_type": "code",
   "execution_count": 40,
   "id": "c20b05a4-76ae-4a6e-bd40-d2a6f6600dc2",
   "metadata": {},
   "outputs": [
    {
     "name": "stdin",
     "output_type": "stream",
     "text": [
      "Enter first number : 1\n",
      "Enter Second  number : 2\n",
      "Enter third number : 3\n",
      "Enter fourth number : 4\n",
      "Enter Duplicate number : 4\n"
     ]
    },
    {
     "name": "stdout",
     "output_type": "stream",
     "text": [
      "All Elements : [1, 2, 3, 4, 4]\n"
     ]
    },
    {
     "ename": "TypeError",
     "evalue": "'set' object is not callable",
     "output_type": "error",
     "traceback": [
      "\u001b[0;31m---------------------------------------------------------------------------\u001b[0m",
      "\u001b[0;31mTypeError\u001b[0m                                 Traceback (most recent call last)",
      "Cell \u001b[0;32mIn[40], line 9\u001b[0m\n\u001b[1;32m      7\u001b[0m numbers \u001b[38;5;241m=\u001b[39m [num1,num2,num3,num4,num5]\n\u001b[1;32m      8\u001b[0m \u001b[38;5;28mprint\u001b[39m(\u001b[38;5;124mf\u001b[39m\u001b[38;5;124m\"\u001b[39m\u001b[38;5;124mAll Elements : \u001b[39m\u001b[38;5;132;01m{\u001b[39;00mnumbers\u001b[38;5;132;01m}\u001b[39;00m\u001b[38;5;124m\"\u001b[39m)\n\u001b[0;32m----> 9\u001b[0m unique \u001b[38;5;241m=\u001b[39m \u001b[38;5;28mset\u001b[39m(numbers)\n\u001b[1;32m     10\u001b[0m \u001b[38;5;28mprint\u001b[39m(\u001b[38;5;124mf\u001b[39m\u001b[38;5;124m\"\u001b[39m\u001b[38;5;124mAll Elements : \u001b[39m\u001b[38;5;132;01m{\u001b[39;00munique\u001b[38;5;132;01m}\u001b[39;00m\u001b[38;5;124m\"\u001b[39m)\n",
      "\u001b[0;31mTypeError\u001b[0m: 'set' object is not callable"
     ]
    }
   ],
   "source": [
    "# Create a set with duplicate numbers, remove duplicates, and print the final set.\n",
    "num1 = int(input(\"Enter first number :\"))\n",
    "num2 = int(input(\"Enter Second  number :\"))\n",
    "num3 = int(input(\"Enter third number :\"))\n",
    "num4 = int(input(\"Enter fourth number :\"))\n",
    "num5 = int(input(\"Enter Duplicate number :\"))\n",
    "numbers = [num1,num2,num3,num4,num5]\n",
    "print(f\"All Elements : {numbers}\")\n",
    "unique = set(numbers)\n",
    "print(f\"All Elements : {unique}\")\n"
   ]
  },
  {
   "cell_type": "code",
   "execution_count": 46,
   "id": "11cb5f2f-6e70-4027-89bf-0664ba319e60",
   "metadata": {},
   "outputs": [
    {
     "name": "stdout",
     "output_type": "stream",
     "text": [
      "Rahul  :  10000\n",
      "Pratik  :  20000\n",
      "Pramod  :  0\n",
      "30000\n"
     ]
    }
   ],
   "source": [
    "# Create a dictionary of 3 employees (name as key, salary as value).\n",
    "# Print:\n",
    "# Each name with salary\n",
    "# Total salary of all employees\n",
    "employee = {\n",
    "    \"Rahul\" : 10000,\n",
    "    \"Pratik\" : 20000,\n",
    "    \"Pramod\": 0\n",
    "}\n",
    "sum = 0\n",
    "for key,value in employee.items():\n",
    "    print(key,\" : \",value)\n",
    "    sum = sum + value\n",
    "print(sum)"
   ]
  },
  {
   "cell_type": "code",
   "execution_count": null,
   "id": "b5322685-b7f7-4c3e-8610-33f1e8bed0fd",
   "metadata": {},
   "outputs": [],
   "source": []
  }
 ],
 "metadata": {
  "kernelspec": {
   "display_name": "Python [conda env:base] *",
   "language": "python",
   "name": "conda-base-py"
  },
  "language_info": {
   "codemirror_mode": {
    "name": "ipython",
    "version": 3
   },
   "file_extension": ".py",
   "mimetype": "text/x-python",
   "name": "python",
   "nbconvert_exporter": "python",
   "pygments_lexer": "ipython3",
   "version": "3.12.7"
  }
 },
 "nbformat": 4,
 "nbformat_minor": 5
}
