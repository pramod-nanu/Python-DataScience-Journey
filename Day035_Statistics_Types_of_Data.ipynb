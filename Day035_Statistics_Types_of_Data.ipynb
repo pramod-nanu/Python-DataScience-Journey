{
 "cells": [
  {
   "cell_type": "markdown",
   "id": "6bb05b8c-e411-4f5f-bdab-3a9e29a5c644",
   "metadata": {},
   "source": [
    "### Topics Covered:\n",
    "Types of Data: Qualitative vs Quantitative\n",
    "Discrete vs Continuous\n",
    "Population vs Sample\n",
    "Descriptive vs Inferential\n",
    "Practice: Identify types in real datasets\n",
    "\n"
   ]
  },
  {
   "cell_type": "markdown",
   "id": "bab0cbef-e20e-4130-8a5d-185d30ff1c69",
   "metadata": {},
   "source": [
    "## 1. Types of Data\n",
    "Qualitative (Categorical)\n",
    "\n",
    "Nominal: Labels without order (e.g., Country, Gender)\n",
    "\n",
    "Ordinal: Labels with order (e.g., T-shirt Size, Satisfaction Level)\n",
    "\n",
    "Quantitative (Numerical)\n",
    "\n",
    "Discrete: Countable values (e.g., Books Read, Employees)\n",
    "\n",
    "Continuous: Measurable values (e.g., Height, Temperature)\n",
    "\n"
   ]
  },
  {
   "cell_type": "markdown",
   "id": "1b1691e0-3199-48ce-b46e-933acabdc5ab",
   "metadata": {},
   "source": [
    "## 2. Population vs Sample\n",
    "\n",
    "Population → Entire group\n",
    "\n",
    "Sample → Subset of population"
   ]
  },
  {
   "cell_type": "markdown",
   "id": "b185053c-665f-4fa0-bd94-9a72fb04f607",
   "metadata": {},
   "source": [
    "## 3. Descriptive vs Inferential\n",
    "\n",
    "Descriptive → Summarizing data (mean, median, mode)\n",
    "\n",
    "Inferential → Drawing conclusions/predictions"
   ]
  },
  {
   "cell_type": "markdown",
   "id": "5c8dfd9a-b573-4379-b86c-73cbef75057f",
   "metadata": {},
   "source": [
    "| #  | Variable Name                  | Example Value | Your Answer             | Correct Answer + Why                                                                  |\n",
    "| -- | ------------------------------ | ------------- | ----------------------- | ------------------------------------------------------------------------------------- |\n",
    "| 1  | Employee ID                    | EMP1029       | Categorical, Nominal ✅  | ✅ Correct — IDs are labels, not numbers you calculate with.                           |\n",
    "| 2  | Temperature (°C)               | 36.7          | Numerical, Continuous ✅ | ✅ Correct — can take decimal values and be measured.                                  |\n",
    "| 3  | T-shirt Size                   | Large         | Categorical, Ordinal ✅  | ✅ Correct — sizes have a natural order (S < M < L).                                   |\n",
    "| 4  | Number of Books Read This Year | 14            | Numerical, Discrete ✅   | ✅ Correct — countable whole numbers.                                                  |\n",
    "| 5  | Country of Residence           | Canada        | Categorical, Nominal ✅  | ✅ Correct — categories without inherent order.                                        |\n",
    "| 6  | Exam Grade                     | A+            | Categorical, Ordinal ✅  | ✅ Correct — grades have a ranking order.                                              |\n",
    "| 7  | Years of Experience            | 7             | Numerical, Discrete ❌   | **Continuous** — although written as whole years, it could be fractional (7.5 years). |\n",
    "| 8  | Delivery Time (in hours)       | 3.5           | Numerical, Continuous ✅ | ✅ Correct — can take decimal values.                                                  |\n",
    "| 9  | Blood Type                     | O+            | Categorical, Ordinal ❌  | **Nominal** — blood types have no natural ranking.                                    |\n",
    "| 10 | Age of a Car (in whole years)  | 5             | Numerical, Discrete ❌   | **Continuous** — in theory, could be measured more precisely (5.2 years).             |\n"
   ]
  },
  {
   "cell_type": "code",
   "execution_count": null,
   "id": "8365550f-f83a-4ad9-a100-8384f83d9c9e",
   "metadata": {},
   "outputs": [],
   "source": []
  }
 ],
 "metadata": {
  "kernelspec": {
   "display_name": "Python [conda env:base] *",
   "language": "python",
   "name": "conda-base-py"
  },
  "language_info": {
   "codemirror_mode": {
    "name": "ipython",
    "version": 3
   },
   "file_extension": ".py",
   "mimetype": "text/x-python",
   "name": "python",
   "nbconvert_exporter": "python",
   "pygments_lexer": "ipython3",
   "version": "3.12.7"
  }
 },
 "nbformat": 4,
 "nbformat_minor": 5
}
