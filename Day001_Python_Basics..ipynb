{
 "cells": [
  {
   "cell_type": "markdown",
   "id": "a1387e9e-26e4-4519-95ff-bed3a1edf169",
   "metadata": {
    "scrolled": true
   },
   "source": [
    "### 🔹 Program 1: Basic Print Statement\n",
    "\n",
    "**What it does:**  \n",
    "Prints a welcome message to confirm setup is complete.\n",
    "\n",
    "**Code:**  \n",
    "`print(\"Hello Pramod! ✅ Setup complete. Ready for Day 1.\")`\n",
    "\n",
    "**Expected Output:**  \n",
    "Hello Pramod! ✅ Setup complete. Ready for Day 1.\n"
   ]
  },
  {
   "cell_type": "code",
   "execution_count": null,
   "id": "8adc5e6b-e813-498a-b641-61bcf48cea63",
   "metadata": {},
   "outputs": [],
   "source": [
    "print(\"Hello Pramod! ✅ Setup complete. Ready for Day 1.\") "
   ]
  },
  {
   "cell_type": "markdown",
   "id": "6e44862b-7f48-4248-b338-458b63dbe798",
   "metadata": {},
   "source": [
    "### 🔹 Program 2: Take User Input – Name & Age\n",
    "\n",
    "**What it does:**  \n",
    "This program asks the user to enter their name and age. It then displays that information in a formatted message.\n",
    "\n",
    "**Input:**  \n",
    "- Name (as a string)\n",
    "- Age (as a string)\n",
    "\n",
    "**Code:**\n",
    "```python\n",
    "name = input(\"Enter your name : \")\n",
    "age = input(\"Enter your age : \")\n",
    "print(f\"Name is {name} and age is {age}\")\n",
    "\n",
    "Enter your name : Pramod  \n",
    "Enter your age : 31  \n",
    "Name is Pramod and age is 31\n",
    "\n"
   ]
  },
  {
   "cell_type": "code",
   "execution_count": 26,
   "id": "4bb4e971-9848-4d60-bfe9-525bb8d2d335",
   "metadata": {},
   "outputs": [
    {
     "name": "stdin",
     "output_type": "stream",
     "text": [
      "Enter your name :  pramod\n",
      "Enter your age :  3\n"
     ]
    },
    {
     "name": "stdout",
     "output_type": "stream",
     "text": [
      "Name is pramod and age is 3\n"
     ]
    }
   ],
   "source": [
    "name = input(\"Enter your name : \")\n",
    "age = input(\"Enter your age : \")\n",
    "print(f\"Name is {name} and age is {age}\")"
   ]
  },
  {
   "cell_type": "markdown",
   "id": "8fb8dcbf-666f-4fcf-ae75-092fb147d11b",
   "metadata": {},
   "source": [
    "name = input(\"Enter your name : \")\n",
    "age = int(input(\"Enter your age : \"))\n",
    "print(\"Name is \" ,name,\"and\",\"age is\",age)\n",
    "print(type(name))\n",
    "print(type(age))"
   ]
  },
  {
   "cell_type": "code",
   "execution_count": 9,
   "id": "56822015-7173-4f69-b32b-f25b642da068",
   "metadata": {},
   "outputs": [
    {
     "name": "stdin",
     "output_type": "stream",
     "text": [
      "Enter your age 5\n"
     ]
    },
    {
     "name": "stdout",
     "output_type": "stream",
     "text": [
      "Your age after 5 years will be  10\n"
     ]
    }
   ],
   "source": [
    "age = int(input(\"Enter your age\"))\n",
    "print(\"Your age after 5 years will be \",age+5)"
   ]
  },
  {
   "cell_type": "code",
   "execution_count": 14,
   "id": "047ed248-9368-4db3-b3cf-177cd97f3805",
   "metadata": {},
   "outputs": [
    {
     "name": "stdin",
     "output_type": "stream",
     "text": [
      "Enter your first Number 23\n",
      "Enter your second number 4\n"
     ]
    },
    {
     "name": "stdout",
     "output_type": "stream",
     "text": [
      "Sum :  27\n",
      "difference:  19.0\n",
      "product : 92.0\n",
      "division :  5.75\n"
     ]
    }
   ],
   "source": [
    "a = float(input(\"Enter your first Number\"))\n",
    "b = float(input(\"Enter your second number\"))\n",
    "print(\"Sum : \",int(a+b))\n",
    "print(\"difference: \" ,a-b)\n",
    "print(\"product :\",a*b)\n",
    "print(\"division : \",a/b)\n"
   ]
  },
  {
   "cell_type": "code",
   "execution_count": 17,
   "id": "1b846672-533f-4d15-ada4-f91d78e5df6f",
   "metadata": {},
   "outputs": [
    {
     "name": "stdin",
     "output_type": "stream",
     "text": [
      "Enter temp value in celcius : 23\n"
     ]
    },
    {
     "name": "stdout",
     "output_type": "stream",
     "text": [
      "Temp in fehrenhit is  73.4\n",
      "<class 'float'>\n",
      "<class 'float'>\n"
     ]
    }
   ],
   "source": [
    "#celcius to fehrehite\n",
    "calcius = float(input(\"Enter temp value in celcius :\"))\n",
    "fehrenhit = (calcius * 9/5) + 32\n",
    "print(\"Temp in fehrenhit is \",fehrenhit)\n",
    "print(type(calcius))\n",
    "print(type(fehrenhit))"
   ]
  },
  {
   "cell_type": "code",
   "execution_count": 21,
   "id": "3db753b6-a113-4ae0-a98d-47ed2b7954e2",
   "metadata": {},
   "outputs": [
    {
     "name": "stdin",
     "output_type": "stream",
     "text": [
      "Enter first number 34\n",
      "Enter second Number 50\n"
     ]
    },
    {
     "name": "stdout",
     "output_type": "stream",
     "text": [
      "After swapping first number is 50  And second number is  34\n"
     ]
    }
   ],
   "source": [
    "#swap two number\n",
    "num1 = input(\"Enter first number\")\n",
    "num2 = input(\"Enter second Number\")\n",
    "temp = num1\n",
    "num1 = num2\n",
    "num2 = temp\n",
    "print(\"After swapping first number is\",num1,\" And second number is \",num2)"
   ]
  },
  {
   "cell_type": "markdown",
   "id": "99bdb390-792b-4d65-932c-b63e6c0edcb9",
   "metadata": {},
   "source": []
  }
 ],
 "metadata": {
  "kernelspec": {
   "display_name": "Python [conda env:base] *",
   "language": "python",
   "name": "conda-base-py"
  },
  "language_info": {
   "codemirror_mode": {
    "name": "ipython",
    "version": 3
   },
   "file_extension": ".py",
   "mimetype": "text/x-python",
   "name": "python",
   "nbconvert_exporter": "python",
   "pygments_lexer": "ipython3",
   "version": "3.12.7"
  }
 },
 "nbformat": 4,
 "nbformat_minor": 5
}
