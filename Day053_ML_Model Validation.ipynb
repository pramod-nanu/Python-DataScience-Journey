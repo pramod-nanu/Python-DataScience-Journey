{
 "cells": [
  {
   "cell_type": "markdown",
   "id": "c39ef4bd-9cae-4f61-b3ea-1859633ae288",
   "metadata": {},
   "source": [
    "### What is Train/Test Split?\n",
    "\n",
    "When we build a machine learning model, we want to check if it really works on new, unseen data.\n",
    "If we train and test on the same data, the model will just memorize instead of learning.\n",
    "\n",
    "👉 Solution: split the dataset into two parts:\n",
    "\n",
    "Training set – Used to teach the model (like practice).\n",
    "\n",
    "Test set – Used to check how well the model performs on unseen data (like the final exam).\n",
    "Analogy 🎓\n",
    "\n",
    "Think of preparing for an exam:\n",
    "\n",
    "Training set = practice questions you solve while studying.\n",
    "\n",
    "Test set = actual exam questions you haven’t seen before."
   ]
  },
  {
   "cell_type": "code",
   "execution_count": 3,
   "id": "df6be7df-38cf-4355-b408-1636e0461afb",
   "metadata": {},
   "outputs": [
    {
     "name": "stdout",
     "output_type": "stream",
     "text": [
      "Accuracy on test set: 0.7482517482517482\n"
     ]
    }
   ],
   "source": [
    "import pandas as pd\n",
    "from sklearn.model_selection import train_test_split\n",
    "from sklearn.linear_model import LogisticRegression\n",
    "from sklearn.metrics import accuracy_score\n",
    "\n",
    "# Load Titanic dataset (from seaborn or CSV)\n",
    "import seaborn as sns\n",
    "titanic = sns.load_dataset('titanic')\n",
    "\n",
    "# Keep only useful columns\n",
    "data = titanic[['age', 'sex', 'pclass', 'survived']].dropna()\n",
    "\n",
    "# Convert categorical to numeric\n",
    "data['sex'] = data['sex'].map({'male': 0, 'female': 1})\n",
    "\n",
    "# Features (X) and target (y)\n",
    "X = data[['age', 'sex', 'pclass']]\n",
    "y = data['survived']\n",
    "\n",
    "# Split into train (80%) and test (20%)\n",
    "X_train, X_test, y_train, y_test = train_test_split(X, y, test_size=0.2, random_state=42)\n",
    "\n",
    "# Train logistic regression\n",
    "model = LogisticRegression(max_iter=200)\n",
    "model.fit(X_train, y_train)\n",
    "\n",
    "# Predict on test data\n",
    "y_pred = model.predict(X_test)\n",
    "\n",
    "# Evaluate accuracy\n",
    "print(\"Accuracy on test set:\", accuracy_score(y_test, y_pred))\n"
   ]
  },
  {
   "cell_type": "raw",
   "id": "da1501d2-aa47-4e01-99a6-f09c2b5ef959",
   "metadata": {},
   "source": []
  },
  {
   "cell_type": "markdown",
   "id": "3048df75-7e11-496d-ba49-371960515207",
   "metadata": {},
   "source": [
    "### Topic 2: Cross-validation (k-fold)\n",
    "In train/test split, the accuracy depends on how the data was split.\n",
    "\n",
    "If by chance test set is “easy”, accuracy will look high.\n",
    "\n",
    "If test set is “hard”, accuracy will look low.\n",
    "\n",
    "👉 So, the model’s performance may not be reliable from a single split.\n",
    "\n",
    "🔹 Solution: Cross-validation (k-fold)\n",
    "\n",
    "Instead of splitting once, we split the dataset into k equal parts (folds):\n",
    "\n",
    "Pick 1 fold as test set, use the other k-1 folds for training.\n",
    "\n",
    "Train + test the model.\n",
    "\n",
    "Repeat this process k times, each time with a different fold as test set.\n",
    "\n",
    "Average all results → get a more stable estimate of model accuracy."
   ]
  },
  {
   "cell_type": "code",
   "execution_count": 4,
   "id": "de219858-808b-4a87-964b-a7fb45fadfee",
   "metadata": {},
   "outputs": [
    {
     "name": "stdout",
     "output_type": "stream",
     "text": [
      "Scores for each fold: [0.76923077 0.83216783 0.77622378 0.74825175 0.8028169 ]\n",
      "Average accuracy: 0.7857382054565154\n"
     ]
    }
   ],
   "source": [
    "import pandas as pd\n",
    "import seaborn as sns\n",
    "from sklearn.model_selection import cross_val_score\n",
    "from sklearn.linear_model import LogisticRegression\n",
    "\n",
    "# Load Titanic dataset\n",
    "titanic = sns.load_dataset('titanic')\n",
    "\n",
    "# Keep useful columns and clean data\n",
    "data = titanic[['age', 'sex', 'pclass', 'survived']].dropna()\n",
    "data['sex'] = data['sex'].map({'male': 0, 'female': 1})\n",
    "\n",
    "# Features and target\n",
    "X = data[['age', 'sex', 'pclass']]\n",
    "y = data['survived']\n",
    "\n",
    "# Logistic Regression model\n",
    "model = LogisticRegression(max_iter=200)\n",
    "\n",
    "# Perform 5-fold cross-validation\n",
    "scores = cross_val_score(model, X, y, cv=5)\n",
    "\n",
    "print(\"Scores for each fold:\", scores)\n",
    "print(\"Average accuracy:\", scores.mean())\n"
   ]
  },
  {
   "cell_type": "code",
   "execution_count": 15,
   "id": "8cf3c6ce-e931-4f6f-9dc4-86a8e8802d6e",
   "metadata": {},
   "outputs": [
    {
     "name": "stdout",
     "output_type": "stream",
     "text": [
      "[0.76923077 0.83216783 0.77622378 0.74825175 0.8028169 ]\n",
      "0.7857382054565154\n"
     ]
    }
   ],
   "source": [
    "import pandas as pd\n",
    "import seaborn as sns\n",
    "from sklearn.model_selection import cross_val_score\n",
    "from sklearn.linear_model import LogisticRegression\n",
    "titanic = sns.load_dataset('titanic')\n",
    "data = titanic[['age','sex','pclass','survived']].dropna()\n",
    "data['sex'] = data['sex'].map({'male':0 ,'female':1})\n",
    "X = data[['age','sex','pclass']]\n",
    "y = data['survived']\n",
    "model = LogisticRegression(max_iter=200)\n",
    "scores = cross_val_score(model,X,y,cv = 5)\n",
    "print(scores)\n",
    "print(scores.mean())"
   ]
  },
  {
   "cell_type": "markdown",
   "id": "90059172-3b07-4810-a5ff-5d6c04da8dd6",
   "metadata": {},
   "source": [
    "### * Bias-variance trade-off}\n",
    "In Very Simple Terms\n",
    "\n",
    "Bias = being too simple, ignoring important details → underfitting.\n",
    "\n",
    "Variance = being too complicated, memorizing noise → overfitting.\n",
    "\n",
    "We want a balance → not too simple, not too complex.\n",
    "\n",
    "🔹 Practical Example (Non-ML)\n",
    "\n",
    "Imagine you are predicting house prices.\n",
    "\n",
    "High Bias (Underfitting)\n",
    "\n",
    "Rule: “Every house costs ₹50 lakh.”\n",
    "\n",
    "✅ Easy rule, simple.\n",
    "\n",
    "❌ Very inaccurate because houses differ by location, size, etc.\n",
    "\n",
    "High Variance (Overfitting)\n",
    "\n",
    "Rule: “This exact house costs ₹52,37,581 because in 2018, one buyer paid that exact amount.”\n",
    "\n",
    "✅ Perfect for that house.\n",
    "\n",
    "❌ Useless for other houses → too specific, memorized noise.\n",
    "\n",
    "Balanced Model (Good Trade-off)\n",
    "\n",
    "Rule: “House price = ₹20,000 × area + ₹5 lakh if in city center.”\n",
    "\n",
    "✅ Captures real patterns.\n",
    "\n",
    "✅ Works well on new houses too."
   ]
  },
  {
   "cell_type": "code",
   "execution_count": 16,
   "id": "0ff5704a-94c3-426a-871b-63329ae95785",
   "metadata": {},
   "outputs": [
    {
     "data": {
      "image/png": "[encoded data removed]",
      "text/plain": [
       "<Figure size 640x480 with 1 Axes>"
      ]
     },
     "metadata": {},
     "output_type": "display_data"
    }
   ],
   "source": [
    "import numpy as np\n",
    "import matplotlib.pyplot as plt\n",
    "from sklearn.preprocessing import PolynomialFeatures\n",
    "from sklearn.linear_model import LinearRegression\n",
    "\n",
    "# Create a small dataset (x = 1..10, y roughly quadratic)\n",
    "x = np.array([1,2,3,4,5,6,7,8,9,10]).reshape(-1,1)\n",
    "y = np.array([2, 5, 7, 8, 11, 13, 15, 16, 18, 21])\n",
    "\n",
    "# Plot the real data\n",
    "plt.scatter(x, y, color='black', label='Data')\n",
    "\n",
    "# 1. High Bias (underfitting) → linear fit\n",
    "model1 = LinearRegression()\n",
    "model1.fit(x, y)\n",
    "plt.plot(x, model1.predict(x), color='red', label='High Bias (Linear)')\n",
    "\n",
    "# 2. Balanced Model → quadratic fit\n",
    "poly2 = PolynomialFeatures(degree=2)\n",
    "x_poly2 = poly2.fit_transform(x)\n",
    "model2 = LinearRegression()\n",
    "model2.fit(x_poly2, y)\n",
    "plt.plot(x, model2.predict(x_poly2), color='green', label='Balanced (Quadratic)')\n",
    "\n",
    "# 3. High Variance (overfitting) → 9th degree polynomial\n",
    "poly9 = PolynomialFeatures(degree=9)\n",
    "x_poly9 = poly9.fit_transform(x)\n",
    "model3 = LinearRegression()\n",
    "model3.fit(x_poly9, y)\n",
    "plt.plot(x, model3.predict(x_poly9), color='blue', label='High Variance (Overfit)')\n",
    "\n",
    "plt.legend()\n",
    "plt.xlabel(\"x\")\n",
    "plt.ylabel(\"y\")\n",
    "plt.title(\"Bias-Variance Example\")\n",
    "plt.show()\n"
   ]
  },
  {
   "cell_type": "code",
   "execution_count": 17,
   "id": "89773da0-5f64-43e1-8462-20e7d64ee651",
   "metadata": {},
   "outputs": [
    {
     "name": "stdout",
     "output_type": "stream",
     "text": [
      "Model\t\tTrain MSE\tTest MSE\n",
      "Linear\t\t0.16\t\t1.00\n",
      "Quadratic\t0.16\t\t0.67\n",
      "9th Degree\t0.00\t\t4277565.83\n"
     ]
    }
   ],
   "source": [
    "import numpy as np\n",
    "from sklearn.preprocessing import PolynomialFeatures\n",
    "from sklearn.linear_model import LinearRegression\n",
    "from sklearn.metrics import mean_squared_error\n",
    "\n",
    "# Dataset\n",
    "x = np.array([1,2,3,4,5,6,7,8,9,10]).reshape(-1,1)\n",
    "y = np.array([2, 5, 7, 8, 11, 13, 15, 16, 18, 21])\n",
    "\n",
    "# Split into training (first 7) and test (last 3) for demonstration\n",
    "x_train, y_train = x[:7], y[:7]\n",
    "x_test, y_test = x[7:], y[7:]\n",
    "\n",
    "# 1. High Bias (Linear)\n",
    "model1 = LinearRegression()\n",
    "model1.fit(x_train, y_train)\n",
    "train_pred1 = model1.predict(x_train)\n",
    "test_pred1 = model1.predict(x_test)\n",
    "mse_train1 = mean_squared_error(y_train, train_pred1)\n",
    "mse_test1 = mean_squared_error(y_test, test_pred1)\n",
    "\n",
    "# 2. Balanced (Quadratic)\n",
    "poly2 = PolynomialFeatures(degree=2)\n",
    "x_train_poly2 = poly2.fit_transform(x_train)\n",
    "x_test_poly2 = poly2.transform(x_test)\n",
    "model2 = LinearRegression()\n",
    "model2.fit(x_train_poly2, y_train)\n",
    "train_pred2 = model2.predict(x_train_poly2)\n",
    "test_pred2 = model2.predict(x_test_poly2)\n",
    "mse_train2 = mean_squared_error(y_train, train_pred2)\n",
    "mse_test2 = mean_squared_error(y_test, test_pred2)\n",
    "\n",
    "# 3. High Variance (9th degree)\n",
    "poly9 = PolynomialFeatures(degree=9)\n",
    "x_train_poly9 = poly9.fit_transform(x_train)\n",
    "x_test_poly9 = poly9.transform(x_test)\n",
    "model3 = LinearRegression()\n",
    "model3.fit(x_train_poly9, y_train)\n",
    "train_pred3 = model3.predict(x_train_poly9)\n",
    "test_pred3 = model3.predict(x_test_poly9)\n",
    "mse_train3 = mean_squared_error(y_train, train_pred3)\n",
    "mse_test3 = mean_squared_error(y_test, test_pred3)\n",
    "\n",
    "# Display results\n",
    "print(\"Model\\t\\tTrain MSE\\tTest MSE\")\n",
    "print(f\"Linear\\t\\t{mse_train1:.2f}\\t\\t{mse_test1:.2f}\")\n",
    "print(f\"Quadratic\\t{mse_train2:.2f}\\t\\t{mse_test2:.2f}\")\n",
    "print(f\"9th Degree\\t{mse_train3:.2f}\\t\\t{mse_test3:.2f}\")\n"
   ]
  },
  {
   "cell_type": "code",
   "execution_count": null,
   "id": "e89748e6-cffb-4291-8c25-5b4000679de4",
   "metadata": {},
   "outputs": [],
   "source": []
  }
 ],
 "metadata": {
  "kernelspec": {
   "display_name": "Python [conda env:base] *",
   "language": "python",
   "name": "conda-base-py"
  },
  "language_info": {
   "codemirror_mode": {
    "name": "ipython",
    "version": 3
   },
   "file_extension": ".py",
   "mimetype": "text/x-python",
   "name": "python",
   "nbconvert_exporter": "python",
   "pygments_lexer": "ipython3",
   "version": "3.12.7"
  }
 },
 "nbformat": 4,
 "nbformat_minor": 5
}
