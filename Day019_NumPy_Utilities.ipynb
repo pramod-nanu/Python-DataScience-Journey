{
 "cells": [
  {
   "cell_type": "markdown",
   "id": "4df33861-2622-473c-8a39-508639ee30b7",
   "metadata": {},
   "source": [
    "### NumPy Utilities"
   ]
  },
  {
   "cell_type": "markdown",
   "id": "7856fefe-3d05-481b-a710-168c5f3a43b6",
   "metadata": {},
   "source": [
    "\n",
    "### np.where()"
   ]
  },
  {
   "cell_type": "code",
   "execution_count": 4,
   "id": "39351c50-925f-4376-a37a-c854afffd258",
   "metadata": {},
   "outputs": [
    {
     "name": "stdout",
     "output_type": "stream",
     "text": [
      "['High' 'Low' 'High' 'Low' 'High']\n"
     ]
    }
   ],
   "source": [
    "import numpy as np\n",
    "arr = np.array([10, 3, 7, 2, 9])\n",
    "result = np.where(arr>5,'High','Low')\n",
    "print(result)\n"
   ]
  },
  {
   "cell_type": "code",
   "execution_count": 6,
   "id": "950cda90-6d65-46da-9797-610a1d2ad974",
   "metadata": {},
   "outputs": [
    {
     "name": "stdout",
     "output_type": "stream",
     "text": [
      "['Non_Zero' 'Non_Zero' 'Zero' 'Non_Zero' 'Zero' 'Non_Zero']\n"
     ]
    }
   ],
   "source": [
    "# Replace elements\n",
    "arr = np.array([1,2,0,4,0,6])\n",
    "result = np.where(arr == 0,'Zero','Non_Zero')\n",
    "print(result)"
   ]
  },
  {
   "cell_type": "markdown",
   "id": "cdb18cea-d1e7-4d9f-a1ca-0983cb16ea66",
   "metadata": {},
   "source": [
    "### np.isnan()"
   ]
  },
  {
   "cell_type": "code",
   "execution_count": 10,
   "id": "8ddaa687-d3c3-40f0-a02c-cfddbac02e04",
   "metadata": {},
   "outputs": [
    {
     "name": "stdout",
     "output_type": "stream",
     "text": [
      "[False False  True False  True]\n"
     ]
    }
   ],
   "source": [
    "arr = np.array([1, 2, np.nan, 4, np.nan])\n",
    "print(np.isnan(arr))"
   ]
  },
  {
   "cell_type": "code",
   "execution_count": 13,
   "id": "3cff8b60-aca1-42b3-acc2-4beaf99f684b",
   "metadata": {},
   "outputs": [
    {
     "name": "stdout",
     "output_type": "stream",
     "text": [
      "3\n"
     ]
    }
   ],
   "source": [
    "#  Filter or count NaNs\n",
    "arr = np.array([10, np.nan, 20, np.nan, 30,np.nan])\n",
    "nan_count = np.isnan(arr).sum()\n",
    "print(nan_count)"
   ]
  },
  {
   "cell_type": "markdown",
   "id": "ed33a3c8-e804-4945-85f8-cd38745880d6",
   "metadata": {},
   "source": [
    "### np.isinf() – Check for Infinite Values "
   ]
  },
  {
   "cell_type": "code",
   "execution_count": 17,
   "id": "8859f2c1-d4ba-4085-839d-74c6a88a6227",
   "metadata": {},
   "outputs": [
    {
     "name": "stdout",
     "output_type": "stream",
     "text": [
      "[False False  True  True False]\n",
      "[1. 2. 0. 0. 5.]\n"
     ]
    }
   ],
   "source": [
    "import numpy as np\n",
    "arr = np.array([1, 2, np.inf, -np.inf, 5])\n",
    "print(np.isinf(arr))\n",
    "arr[np.isinf(arr)] = 0\n",
    "print(arr)\n"
   ]
  },
  {
   "cell_type": "code",
   "execution_count": 25,
   "id": "2920864b-bc75-4f7d-9df3-03cabd55e612",
   "metadata": {},
   "outputs": [
    {
     "name": "stdout",
     "output_type": "stream",
     "text": [
      "[False False  True False False  True]\n",
      "[ 1.  2. -1.  4.  5. -1.]\n"
     ]
    }
   ],
   "source": [
    "# 🧠 Task:\n",
    "# You are given an array of numerical values, some of which are infinite.\n",
    "# Detect which elements are infinite.\n",
    "# Replace all infinite values with -1.\n",
    "# Print the cleaned array.\n",
    "arr = np.array([1,2,np.inf,4,5,-np.inf])\n",
    "print(np.isinf(arr))\n",
    "arr[np.isinf(arr)] = -1\n",
    "print(arr)"
   ]
  },
  {
   "cell_type": "code",
   "execution_count": 28,
   "id": "6b2b1c05-08a5-42d4-94a4-5a3b37b96b42",
   "metadata": {},
   "outputs": [
    {
     "name": "stdout",
     "output_type": "stream",
     "text": [
      "Original Array :  [ 1  5 10 25 60 32 43]\n",
      "Clipped Array :  [ 5  5 10 20 20 20 20]\n"
     ]
    }
   ],
   "source": [
    "# np.clip()\n",
    "arr = np.array([1,5,10,25,60,32,43])\n",
    "clipped_arr = np.clip(arr,5,20)\n",
    "print(\"Original Array : \",arr)\n",
    "print(\"Clipped Array : \",clipped_arr)"
   ]
  },
  {
   "cell_type": "code",
   "execution_count": 30,
   "id": "04d17d66-d51b-4789-bf51-7cea0df5fbfc",
   "metadata": {},
   "outputs": [
    {
     "name": "stdout",
     "output_type": "stream",
     "text": [
      "Original Temp are :  [ 5 12 48 30  9 50 42]\n",
      "Adjusted Temp are :  [10 12 45 30 10 45 42]\n"
     ]
    }
   ],
   "source": [
    "# Problesms\n",
    "# You have temperature readings in °C from 7 days, but some sensors gave wrong values (too low or too high).\n",
    "# Clip all values to be within a reasonable range: minimum = 10°C, maximum = 45°C.\n",
    "temps = np.array([5, 12, 48, 30, 9, 50, 42])\n",
    "clipped_temp = np.clip(temps,10,45)\n",
    "print(\"Original Temp are : \",temps)\n",
    "print(\"Adjusted Temp are : \",clipped_temp)"
   ]
  },
  {
   "cell_type": "code",
   "execution_count": 32,
   "id": "fdab7093-236b-4e41-b213-19e5452a10f0",
   "metadata": {},
   "outputs": [
    {
     "name": "stdout",
     "output_type": "stream",
     "text": [
      "[  0.   5.  50. 999.  10. 100. 999.]\n"
     ]
    }
   ],
   "source": [
    "arr = np.array([np.nan, 5, 50, -np.inf, 10, 100, np.inf])\n",
    "# Step 1: Replace nan and inf with fixed value\n",
    "arr[np.isnan(arr)] = 0\n",
    "arr[np.isinf(arr)] = 999\n",
    "print(arr)\n",
    "# Step 2: Clip the values between 1 and 50\n"
   ]
  },
  {
   "cell_type": "code",
   "execution_count": null,
   "id": "fc97d5c2-0293-4b38-86a3-e1482d0ea3ed",
   "metadata": {},
   "outputs": [],
   "source": []
  }
 ],
 "metadata": {
  "kernelspec": {
   "display_name": "Python [conda env:base] *",
   "language": "python",
   "name": "conda-base-py"
  },
  "language_info": {
   "codemirror_mode": {
    "name": "ipython",
    "version": 3
   },
   "file_extension": ".py",
   "mimetype": "text/x-python",
   "name": "python",
   "nbconvert_exporter": "python",
   "pygments_lexer": "ipython3",
   "version": "3.12.7"
  }
 },
 "nbformat": 4,
 "nbformat_minor": 5
}
